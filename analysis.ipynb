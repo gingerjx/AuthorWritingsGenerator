{
 "cells": [
  {
   "cell_type": "code",
   "execution_count": 24,
   "metadata": {},
   "outputs": [],
   "source": [
    "\n",
    "import src\n",
    "# TODO: Delete after development\n",
    "import importlib\n",
    "importlib.reload(src)\n",
    "\n",
    "from src import Configuration, FileUtils, Analysis"
   ]
  },
  {
   "cell_type": "code",
   "execution_count": 25,
   "metadata": {},
   "outputs": [
    {
     "data": {
      "text/plain": [
       "['Zane Grey',\n",
       " 'Joseph Conrad',\n",
       " 'Benjamin Disraeli',\n",
       " 'Lucy Maud Montgomery',\n",
       " 'William Henry Hudson']"
      ]
     },
     "execution_count": 25,
     "metadata": {},
     "output_type": "execute_result"
    }
   ],
   "source": [
    "authors = FileUtils.read_authors(Configuration.SELECTED_AUTHORS_FILEPATH)\n",
    "authors"
   ]
  },
  {
   "cell_type": "code",
   "execution_count": 26,
   "metadata": {},
   "outputs": [],
   "source": [
    "authors_books = FileUtils.read_books(authors, Configuration.ALL_BOOK_DATA_DIR)"
   ]
  },
  {
   "cell_type": "code",
   "execution_count": 27,
   "metadata": {},
   "outputs": [],
   "source": [
    "authors_generated_text = {}\n",
    "for model, data_dir in Configuration.MODELS_DATA_DIR.items():\n",
    "    authors_generated_text[model] = FileUtils.read_generated_texts(authors, data_dir)"
   ]
  },
  {
   "cell_type": "code",
   "execution_count": 30,
   "metadata": {},
   "outputs": [
    {
     "name": "stderr",
     "output_type": "stream",
     "text": [
      "[nltk_data] Downloading package punkt to\n",
      "[nltk_data]     C:\\Users\\piotr\\AppData\\Roaming\\nltk_data...\n",
      "[nltk_data]   Package punkt is already up-to-date!\n"
     ]
    },
    {
     "data": {
      "text/plain": [
       "{'gemini-pro': {'Zane Grey': {'word_count': 5341,\n",
       "   'unique_word_count': 2222,\n",
       "   'average_word_length': 4.574237034263247,\n",
       "   'average_sentence_length': 0.07302003370155402},\n",
       "  'Joseph Conrad': {'word_count': 5179,\n",
       "   'unique_word_count': 2176,\n",
       "   'average_word_length': 4.758833751689515,\n",
       "   'average_sentence_length': 0.05869859046147905},\n",
       "  'Benjamin Disraeli': {'word_count': 4973,\n",
       "   'unique_word_count': 2223,\n",
       "   'average_word_length': 5.000402171727328,\n",
       "   'average_sentence_length': 0.054695354916549366},\n",
       "  'Lucy Maud Montgomery': {'word_count': 4998,\n",
       "   'unique_word_count': 2260,\n",
       "   'average_word_length': 4.96858743497399,\n",
       "   'average_sentence_length': 0.05822328931572629},\n",
       "  'William Henry Hudson': {'word_count': 5187,\n",
       "   'unique_word_count': 2209,\n",
       "   'average_word_length': 4.755542702911124,\n",
       "   'average_sentence_length': 0.05668016194331984}},\n",
       " 'gpt-4': {'Zane Grey': {'word_count': 5066,\n",
       "   'unique_word_count': 2123,\n",
       "   'average_word_length': 4.88768258981445,\n",
       "   'average_sentence_length': 0.05606000789577576},\n",
       "  'Joseph Conrad': {'word_count': 5067,\n",
       "   'unique_word_count': 2023,\n",
       "   'average_word_length': 4.887704756266035,\n",
       "   'average_sentence_length': 0.05368067890270377},\n",
       "  'Benjamin Disraeli': {'word_count': 5090,\n",
       "   'unique_word_count': 1983,\n",
       "   'average_word_length': 4.864243614931238,\n",
       "   'average_sentence_length': 0.055402750491159135},\n",
       "  'Lucy Maud Montgomery': {'word_count': 5088,\n",
       "   'unique_word_count': 2034,\n",
       "   'average_word_length': 4.852004716981132,\n",
       "   'average_sentence_length': 0.05660377358490566},\n",
       "  'William Henry Hudson': {'word_count': 5065,\n",
       "   'unique_word_count': 1984,\n",
       "   'average_word_length': 4.896347482724581,\n",
       "   'average_sentence_length': 0.04837117472852912}},\n",
       " 'gpt-3.5-turbo': {'Zane Grey': {'word_count': 5156,\n",
       "   'unique_word_count': 1883,\n",
       "   'average_word_length': 4.8035298681148175,\n",
       "   'average_sentence_length': 0.04809930178432894},\n",
       "  'Joseph Conrad': {'word_count': 5034,\n",
       "   'unique_word_count': 1864,\n",
       "   'average_word_length': 4.942789034564958,\n",
       "   'average_sentence_length': 0.05045689312673818},\n",
       "  'Benjamin Disraeli': {'word_count': 4893,\n",
       "   'unique_word_count': 1843,\n",
       "   'average_word_length': 5.114244839566728,\n",
       "   'average_sentence_length': 0.04414469650521153},\n",
       "  'Lucy Maud Montgomery': {'word_count': 5124,\n",
       "   'unique_word_count': 1806,\n",
       "   'average_word_length': 4.837822014051523,\n",
       "   'average_sentence_length': 0.04859484777517564},\n",
       "  'William Henry Hudson': {'word_count': 4930,\n",
       "   'unique_word_count': 1901,\n",
       "   'average_word_length': 5.07079107505071,\n",
       "   'average_sentence_length': 0.04929006085192698}}}"
      ]
     },
     "execution_count": 30,
     "metadata": {},
     "output_type": "execute_result"
    }
   ],
   "source": [
    "analysis = {}\n",
    "for model, generated_texts in authors_generated_text.items():\n",
    "    analysis[model] = Analysis.analyse_generated_text(generated_texts, Configuration.SIZE_ANALYSIS)\n",
    "analysis"
   ]
  },
  {
   "cell_type": "code",
   "execution_count": null,
   "metadata": {},
   "outputs": [
    {
     "data": {
      "text/plain": [
       "<functionwords.base.FunctionWords at 0x1dcb3f38c20>"
      ]
     },
     "execution_count": 10,
     "metadata": {},
     "output_type": "execute_result"
    }
   ],
   "source": [
    "# from functionwords import FunctionWords\n",
    "\n",
    "# fw = FunctionWords(function_words_list=\"english\")\n",
    "# fw.transform(authors_gpt_3_5_turbo[\"Zane Grey\"][0][\"response\"])\n",
    "# fw\n",
    "# # to list all function words given `function_words_list`\n",
    "# # returns a list\n",
    "# # fw.get_feature_names()"
   ]
  }
 ],
 "metadata": {
  "kernelspec": {
   "display_name": ".venv",
   "language": "python",
   "name": "python3"
  },
  "language_info": {
   "codemirror_mode": {
    "name": "ipython",
    "version": 3
   },
   "file_extension": ".py",
   "mimetype": "text/x-python",
   "name": "python",
   "nbconvert_exporter": "python",
   "pygments_lexer": "ipython3",
   "version": "3.12.1"
  }
 },
 "nbformat": 4,
 "nbformat_minor": 2
}
