{
 "cells": [
  {
   "cell_type": "code",
   "execution_count": 5,
   "metadata": {},
   "outputs": [],
   "source": [
    "\n",
    "import src\n",
    "# TODO: Delete after development\n",
    "import importlib\n",
    "importlib.reload(src)\n",
    "\n",
    "from src import *"
   ]
  },
  {
   "cell_type": "markdown",
   "metadata": {},
   "source": [
    "### TODO\n",
    "\n",
    "- std error of mean\n",
    "- signifiacne test\n",
    "- 2-sample t-test"
   ]
  },
  {
   "cell_type": "code",
   "execution_count": 6,
   "metadata": {},
   "outputs": [],
   "source": [
    "authors = []\n",
    "for author_name in FileUtils.read_authors(Configuration.SELECTED_AUTHORS_FILEPATH):\n",
    "    author = Author(name=author_name)\n",
    "    author.read_book_collection(Configuration.ALL_BOOK_DATA_DIR)\n",
    "    author.read_generated_texts(Configuration.MODELS_DATA_DIR)\n",
    "    authors.append(author)"
   ]
  },
  {
   "cell_type": "code",
   "execution_count": 7,
   "metadata": {},
   "outputs": [],
   "source": [
    "analysis = Analysis(Configuration.SIZE_ANALYSIS)\n",
    "analysis_data = analysis.analyze(authors)"
   ]
  },
  {
   "cell_type": "code",
   "execution_count": 8,
   "metadata": {},
   "outputs": [
    {
     "data": {
      "application/vnd.plotly.v1+json": {
       "config": {
        "plotlyServerURL": "https://plot.ly"
       },
       "data": [
        {
         "marker": {
          "color": "#1f77b4"
         },
         "name": "books",
         "showlegend": false,
         "type": "bar",
         "x": [
          "Zane Grey",
          "Joseph Conrad",
          "Benjamin Disraeli",
          "Lucy Maud Montgomery",
          "William Henry Hudson"
         ],
         "xaxis": "x",
         "y": [
          10000,
          10000,
          10000,
          10000,
          10000
         ],
         "yaxis": "y"
        },
        {
         "marker": {
          "color": "#1f77b4"
         },
         "name": "books",
         "type": "bar",
         "x": [
          "Zane Grey",
          "Joseph Conrad",
          "Benjamin Disraeli",
          "Lucy Maud Montgomery",
          "William Henry Hudson"
         ],
         "xaxis": "x3",
         "y": [
          3117,
          3336,
          3535,
          2863,
          3137
         ],
         "yaxis": "y3"
        },
        {
         "marker": {
          "color": "#1f77b4"
         },
         "name": "books",
         "showlegend": false,
         "type": "bar",
         "x": [
          "Zane Grey",
          "Joseph Conrad",
          "Benjamin Disraeli",
          "Lucy Maud Montgomery",
          "William Henry Hudson"
         ],
         "xaxis": "x2",
         "y": [
          4.5062,
          4.5361,
          4.5501,
          4.3474,
          4.5572
         ],
         "yaxis": "y2"
        },
        {
         "marker": {
          "color": "#1f77b4"
         },
         "name": "books",
         "showlegend": false,
         "type": "bar",
         "x": [
          "Zane Grey",
          "Joseph Conrad",
          "Benjamin Disraeli",
          "Lucy Maud Montgomery",
          "William Henry Hudson"
         ],
         "xaxis": "x4",
         "y": [
          16.44736842105263,
          12.224938875305623,
          13.458950201884253,
          11.160714285714286,
          27.397260273972602
         ],
         "yaxis": "y4"
        },
        {
         "marker": {
          "color": "#ff7f0e"
         },
         "name": "gemini-pro",
         "showlegend": false,
         "type": "bar",
         "x": [
          "Zane Grey",
          "Joseph Conrad",
          "Benjamin Disraeli",
          "Lucy Maud Montgomery",
          "William Henry Hudson"
         ],
         "xaxis": "x",
         "y": [
          10000,
          10000,
          10000,
          10000,
          10000
         ],
         "yaxis": "y"
        },
        {
         "marker": {
          "color": "#ff7f0e"
         },
         "name": "gemini-pro",
         "type": "bar",
         "x": [
          "Zane Grey",
          "Joseph Conrad",
          "Benjamin Disraeli",
          "Lucy Maud Montgomery",
          "William Henry Hudson"
         ],
         "xaxis": "x3",
         "y": [
          3684,
          3679,
          3991,
          3953,
          3680
         ],
         "yaxis": "y3"
        },
        {
         "marker": {
          "color": "#ff7f0e"
         },
         "name": "gemini-pro",
         "showlegend": false,
         "type": "bar",
         "x": [
          "Zane Grey",
          "Joseph Conrad",
          "Benjamin Disraeli",
          "Lucy Maud Montgomery",
          "William Henry Hudson"
         ],
         "xaxis": "x2",
         "y": [
          4.6313,
          4.8723,
          5.0327,
          4.9823,
          4.7864
         ],
         "yaxis": "y2"
        },
        {
         "marker": {
          "color": "#ff7f0e"
         },
         "name": "gemini-pro",
         "showlegend": false,
         "type": "bar",
         "x": [
          "Zane Grey",
          "Joseph Conrad",
          "Benjamin Disraeli",
          "Lucy Maud Montgomery",
          "William Henry Hudson"
         ],
         "xaxis": "x4",
         "y": [
          13.280212483399735,
          16.129032258064516,
          17.064846416382252,
          16.52892561983471,
          17.57469244288225
         ],
         "yaxis": "y4"
        },
        {
         "marker": {
          "color": "#2ca02c"
         },
         "name": "gpt-4",
         "showlegend": false,
         "type": "bar",
         "x": [
          "Zane Grey",
          "Joseph Conrad",
          "Benjamin Disraeli",
          "Lucy Maud Montgomery",
          "William Henry Hudson"
         ],
         "xaxis": "x",
         "y": [
          10000,
          10000,
          10000,
          10000,
          10000
         ],
         "yaxis": "y"
        },
        {
         "marker": {
          "color": "#2ca02c"
         },
         "name": "gpt-4",
         "type": "bar",
         "x": [
          "Zane Grey",
          "Joseph Conrad",
          "Benjamin Disraeli",
          "Lucy Maud Montgomery",
          "William Henry Hudson"
         ],
         "xaxis": "x3",
         "y": [
          3498,
          3394,
          3359,
          3470,
          3374
         ],
         "yaxis": "y3"
        },
        {
         "marker": {
          "color": "#2ca02c"
         },
         "name": "gpt-4",
         "showlegend": false,
         "type": "bar",
         "x": [
          "Zane Grey",
          "Joseph Conrad",
          "Benjamin Disraeli",
          "Lucy Maud Montgomery",
          "William Henry Hudson"
         ],
         "xaxis": "x2",
         "y": [
          4.8749,
          4.8829,
          4.8625,
          4.8446,
          4.8516
         ],
         "yaxis": "y2"
        },
        {
         "marker": {
          "color": "#2ca02c"
         },
         "name": "gpt-4",
         "showlegend": false,
         "type": "bar",
         "x": [
          "Zane Grey",
          "Joseph Conrad",
          "Benjamin Disraeli",
          "Lucy Maud Montgomery",
          "William Henry Hudson"
         ],
         "xaxis": "x4",
         "y": [
          19.047619047619047,
          19.64636542239686,
          18.76172607879925,
          18.90359168241966,
          20.964360587002098
         ],
         "yaxis": "y4"
        },
        {
         "marker": {
          "color": "#d62728"
         },
         "name": "gpt-3.5-turbo",
         "showlegend": false,
         "type": "bar",
         "x": [
          "Zane Grey",
          "Joseph Conrad",
          "Benjamin Disraeli",
          "Lucy Maud Montgomery",
          "William Henry Hudson"
         ],
         "xaxis": "x",
         "y": [
          10000,
          10000,
          10000,
          10000,
          10000
         ],
         "yaxis": "y"
        },
        {
         "marker": {
          "color": "#d62728"
         },
         "name": "gpt-3.5-turbo",
         "type": "bar",
         "x": [
          "Zane Grey",
          "Joseph Conrad",
          "Benjamin Disraeli",
          "Lucy Maud Montgomery",
          "William Henry Hudson"
         ],
         "xaxis": "x3",
         "y": [
          3116,
          3137,
          3178,
          2955,
          3205
         ],
         "yaxis": "y3"
        },
        {
         "marker": {
          "color": "#d62728"
         },
         "name": "gpt-3.5-turbo",
         "showlegend": false,
         "type": "bar",
         "x": [
          "Zane Grey",
          "Joseph Conrad",
          "Benjamin Disraeli",
          "Lucy Maud Montgomery",
          "William Henry Hudson"
         ],
         "xaxis": "x2",
         "y": [
          4.8116,
          4.9896,
          5.0933,
          4.8324,
          5.0768
         ],
         "yaxis": "y2"
        },
        {
         "marker": {
          "color": "#d62728"
         },
         "name": "gpt-3.5-turbo",
         "showlegend": false,
         "type": "bar",
         "x": [
          "Zane Grey",
          "Joseph Conrad",
          "Benjamin Disraeli",
          "Lucy Maud Montgomery",
          "William Henry Hudson"
         ],
         "xaxis": "x4",
         "y": [
          18.867924528301888,
          19.68503937007874,
          22.727272727272727,
          19.342359767891683,
          21.41327623126338
         ],
         "yaxis": "y4"
        }
       ],
       "layout": {
        "annotations": [
         {
          "font": {
           "size": 16
          },
          "showarrow": false,
          "text": "Word counts",
          "x": 0.225,
          "xanchor": "center",
          "xref": "paper",
          "y": 1,
          "yanchor": "bottom",
          "yref": "paper"
         },
         {
          "font": {
           "size": 16
          },
          "showarrow": false,
          "text": "Unique word count",
          "x": 0.775,
          "xanchor": "center",
          "xref": "paper",
          "y": 1,
          "yanchor": "bottom",
          "yref": "paper"
         },
         {
          "font": {
           "size": 16
          },
          "showarrow": false,
          "text": "Average word length",
          "x": 0.225,
          "xanchor": "center",
          "xref": "paper",
          "y": 0.375,
          "yanchor": "bottom",
          "yref": "paper"
         },
         {
          "font": {
           "size": 16
          },
          "showarrow": false,
          "text": "Average sentence length",
          "x": 0.775,
          "xanchor": "center",
          "xref": "paper",
          "y": 0.375,
          "yanchor": "bottom",
          "yref": "paper"
         }
        ],
        "legend": {
         "title": {
          "text": "Text source"
         }
        },
        "template": {
         "data": {
          "bar": [
           {
            "error_x": {
             "color": "#2a3f5f"
            },
            "error_y": {
             "color": "#2a3f5f"
            },
            "marker": {
             "line": {
              "color": "#E5ECF6",
              "width": 0.5
             },
             "pattern": {
              "fillmode": "overlay",
              "size": 10,
              "solidity": 0.2
             }
            },
            "type": "bar"
           }
          ],
          "barpolar": [
           {
            "marker": {
             "line": {
              "color": "#E5ECF6",
              "width": 0.5
             },
             "pattern": {
              "fillmode": "overlay",
              "size": 10,
              "solidity": 0.2
             }
            },
            "type": "barpolar"
           }
          ],
          "carpet": [
           {
            "aaxis": {
             "endlinecolor": "#2a3f5f",
             "gridcolor": "white",
             "linecolor": "white",
             "minorgridcolor": "white",
             "startlinecolor": "#2a3f5f"
            },
            "baxis": {
             "endlinecolor": "#2a3f5f",
             "gridcolor": "white",
             "linecolor": "white",
             "minorgridcolor": "white",
             "startlinecolor": "#2a3f5f"
            },
            "type": "carpet"
           }
          ],
          "choropleth": [
           {
            "colorbar": {
             "outlinewidth": 0,
             "ticks": ""
            },
            "type": "choropleth"
           }
          ],
          "contour": [
           {
            "colorbar": {
             "outlinewidth": 0,
             "ticks": ""
            },
            "colorscale": [
             [
              0,
              "#0d0887"
             ],
             [
              0.1111111111111111,
              "#46039f"
             ],
             [
              0.2222222222222222,
              "#7201a8"
             ],
             [
              0.3333333333333333,
              "#9c179e"
             ],
             [
              0.4444444444444444,
              "#bd3786"
             ],
             [
              0.5555555555555556,
              "#d8576b"
             ],
             [
              0.6666666666666666,
              "#ed7953"
             ],
             [
              0.7777777777777778,
              "#fb9f3a"
             ],
             [
              0.8888888888888888,
              "#fdca26"
             ],
             [
              1,
              "#f0f921"
             ]
            ],
            "type": "contour"
           }
          ],
          "contourcarpet": [
           {
            "colorbar": {
             "outlinewidth": 0,
             "ticks": ""
            },
            "type": "contourcarpet"
           }
          ],
          "heatmap": [
           {
            "colorbar": {
             "outlinewidth": 0,
             "ticks": ""
            },
            "colorscale": [
             [
              0,
              "#0d0887"
             ],
             [
              0.1111111111111111,
              "#46039f"
             ],
             [
              0.2222222222222222,
              "#7201a8"
             ],
             [
              0.3333333333333333,
              "#9c179e"
             ],
             [
              0.4444444444444444,
              "#bd3786"
             ],
             [
              0.5555555555555556,
              "#d8576b"
             ],
             [
              0.6666666666666666,
              "#ed7953"
             ],
             [
              0.7777777777777778,
              "#fb9f3a"
             ],
             [
              0.8888888888888888,
              "#fdca26"
             ],
             [
              1,
              "#f0f921"
             ]
            ],
            "type": "heatmap"
           }
          ],
          "heatmapgl": [
           {
            "colorbar": {
             "outlinewidth": 0,
             "ticks": ""
            },
            "colorscale": [
             [
              0,
              "#0d0887"
             ],
             [
              0.1111111111111111,
              "#46039f"
             ],
             [
              0.2222222222222222,
              "#7201a8"
             ],
             [
              0.3333333333333333,
              "#9c179e"
             ],
             [
              0.4444444444444444,
              "#bd3786"
             ],
             [
              0.5555555555555556,
              "#d8576b"
             ],
             [
              0.6666666666666666,
              "#ed7953"
             ],
             [
              0.7777777777777778,
              "#fb9f3a"
             ],
             [
              0.8888888888888888,
              "#fdca26"
             ],
             [
              1,
              "#f0f921"
             ]
            ],
            "type": "heatmapgl"
           }
          ],
          "histogram": [
           {
            "marker": {
             "pattern": {
              "fillmode": "overlay",
              "size": 10,
              "solidity": 0.2
             }
            },
            "type": "histogram"
           }
          ],
          "histogram2d": [
           {
            "colorbar": {
             "outlinewidth": 0,
             "ticks": ""
            },
            "colorscale": [
             [
              0,
              "#0d0887"
             ],
             [
              0.1111111111111111,
              "#46039f"
             ],
             [
              0.2222222222222222,
              "#7201a8"
             ],
             [
              0.3333333333333333,
              "#9c179e"
             ],
             [
              0.4444444444444444,
              "#bd3786"
             ],
             [
              0.5555555555555556,
              "#d8576b"
             ],
             [
              0.6666666666666666,
              "#ed7953"
             ],
             [
              0.7777777777777778,
              "#fb9f3a"
             ],
             [
              0.8888888888888888,
              "#fdca26"
             ],
             [
              1,
              "#f0f921"
             ]
            ],
            "type": "histogram2d"
           }
          ],
          "histogram2dcontour": [
           {
            "colorbar": {
             "outlinewidth": 0,
             "ticks": ""
            },
            "colorscale": [
             [
              0,
              "#0d0887"
             ],
             [
              0.1111111111111111,
              "#46039f"
             ],
             [
              0.2222222222222222,
              "#7201a8"
             ],
             [
              0.3333333333333333,
              "#9c179e"
             ],
             [
              0.4444444444444444,
              "#bd3786"
             ],
             [
              0.5555555555555556,
              "#d8576b"
             ],
             [
              0.6666666666666666,
              "#ed7953"
             ],
             [
              0.7777777777777778,
              "#fb9f3a"
             ],
             [
              0.8888888888888888,
              "#fdca26"
             ],
             [
              1,
              "#f0f921"
             ]
            ],
            "type": "histogram2dcontour"
           }
          ],
          "mesh3d": [
           {
            "colorbar": {
             "outlinewidth": 0,
             "ticks": ""
            },
            "type": "mesh3d"
           }
          ],
          "parcoords": [
           {
            "line": {
             "colorbar": {
              "outlinewidth": 0,
              "ticks": ""
             }
            },
            "type": "parcoords"
           }
          ],
          "pie": [
           {
            "automargin": true,
            "type": "pie"
           }
          ],
          "scatter": [
           {
            "fillpattern": {
             "fillmode": "overlay",
             "size": 10,
             "solidity": 0.2
            },
            "type": "scatter"
           }
          ],
          "scatter3d": [
           {
            "line": {
             "colorbar": {
              "outlinewidth": 0,
              "ticks": ""
             }
            },
            "marker": {
             "colorbar": {
              "outlinewidth": 0,
              "ticks": ""
             }
            },
            "type": "scatter3d"
           }
          ],
          "scattercarpet": [
           {
            "marker": {
             "colorbar": {
              "outlinewidth": 0,
              "ticks": ""
             }
            },
            "type": "scattercarpet"
           }
          ],
          "scattergeo": [
           {
            "marker": {
             "colorbar": {
              "outlinewidth": 0,
              "ticks": ""
             }
            },
            "type": "scattergeo"
           }
          ],
          "scattergl": [
           {
            "marker": {
             "colorbar": {
              "outlinewidth": 0,
              "ticks": ""
             }
            },
            "type": "scattergl"
           }
          ],
          "scattermapbox": [
           {
            "marker": {
             "colorbar": {
              "outlinewidth": 0,
              "ticks": ""
             }
            },
            "type": "scattermapbox"
           }
          ],
          "scatterpolar": [
           {
            "marker": {
             "colorbar": {
              "outlinewidth": 0,
              "ticks": ""
             }
            },
            "type": "scatterpolar"
           }
          ],
          "scatterpolargl": [
           {
            "marker": {
             "colorbar": {
              "outlinewidth": 0,
              "ticks": ""
             }
            },
            "type": "scatterpolargl"
           }
          ],
          "scatterternary": [
           {
            "marker": {
             "colorbar": {
              "outlinewidth": 0,
              "ticks": ""
             }
            },
            "type": "scatterternary"
           }
          ],
          "surface": [
           {
            "colorbar": {
             "outlinewidth": 0,
             "ticks": ""
            },
            "colorscale": [
             [
              0,
              "#0d0887"
             ],
             [
              0.1111111111111111,
              "#46039f"
             ],
             [
              0.2222222222222222,
              "#7201a8"
             ],
             [
              0.3333333333333333,
              "#9c179e"
             ],
             [
              0.4444444444444444,
              "#bd3786"
             ],
             [
              0.5555555555555556,
              "#d8576b"
             ],
             [
              0.6666666666666666,
              "#ed7953"
             ],
             [
              0.7777777777777778,
              "#fb9f3a"
             ],
             [
              0.8888888888888888,
              "#fdca26"
             ],
             [
              1,
              "#f0f921"
             ]
            ],
            "type": "surface"
           }
          ],
          "table": [
           {
            "cells": {
             "fill": {
              "color": "#EBF0F8"
             },
             "line": {
              "color": "white"
             }
            },
            "header": {
             "fill": {
              "color": "#C8D4E3"
             },
             "line": {
              "color": "white"
             }
            },
            "type": "table"
           }
          ]
         },
         "layout": {
          "annotationdefaults": {
           "arrowcolor": "#2a3f5f",
           "arrowhead": 0,
           "arrowwidth": 1
          },
          "autotypenumbers": "strict",
          "coloraxis": {
           "colorbar": {
            "outlinewidth": 0,
            "ticks": ""
           }
          },
          "colorscale": {
           "diverging": [
            [
             0,
             "#8e0152"
            ],
            [
             0.1,
             "#c51b7d"
            ],
            [
             0.2,
             "#de77ae"
            ],
            [
             0.3,
             "#f1b6da"
            ],
            [
             0.4,
             "#fde0ef"
            ],
            [
             0.5,
             "#f7f7f7"
            ],
            [
             0.6,
             "#e6f5d0"
            ],
            [
             0.7,
             "#b8e186"
            ],
            [
             0.8,
             "#7fbc41"
            ],
            [
             0.9,
             "#4d9221"
            ],
            [
             1,
             "#276419"
            ]
           ],
           "sequential": [
            [
             0,
             "#0d0887"
            ],
            [
             0.1111111111111111,
             "#46039f"
            ],
            [
             0.2222222222222222,
             "#7201a8"
            ],
            [
             0.3333333333333333,
             "#9c179e"
            ],
            [
             0.4444444444444444,
             "#bd3786"
            ],
            [
             0.5555555555555556,
             "#d8576b"
            ],
            [
             0.6666666666666666,
             "#ed7953"
            ],
            [
             0.7777777777777778,
             "#fb9f3a"
            ],
            [
             0.8888888888888888,
             "#fdca26"
            ],
            [
             1,
             "#f0f921"
            ]
           ],
           "sequentialminus": [
            [
             0,
             "#0d0887"
            ],
            [
             0.1111111111111111,
             "#46039f"
            ],
            [
             0.2222222222222222,
             "#7201a8"
            ],
            [
             0.3333333333333333,
             "#9c179e"
            ],
            [
             0.4444444444444444,
             "#bd3786"
            ],
            [
             0.5555555555555556,
             "#d8576b"
            ],
            [
             0.6666666666666666,
             "#ed7953"
            ],
            [
             0.7777777777777778,
             "#fb9f3a"
            ],
            [
             0.8888888888888888,
             "#fdca26"
            ],
            [
             1,
             "#f0f921"
            ]
           ]
          },
          "colorway": [
           "#636efa",
           "#EF553B",
           "#00cc96",
           "#ab63fa",
           "#FFA15A",
           "#19d3f3",
           "#FF6692",
           "#B6E880",
           "#FF97FF",
           "#FECB52"
          ],
          "font": {
           "color": "#2a3f5f"
          },
          "geo": {
           "bgcolor": "white",
           "lakecolor": "white",
           "landcolor": "#E5ECF6",
           "showlakes": true,
           "showland": true,
           "subunitcolor": "white"
          },
          "hoverlabel": {
           "align": "left"
          },
          "hovermode": "closest",
          "mapbox": {
           "style": "light"
          },
          "paper_bgcolor": "white",
          "plot_bgcolor": "#E5ECF6",
          "polar": {
           "angularaxis": {
            "gridcolor": "white",
            "linecolor": "white",
            "ticks": ""
           },
           "bgcolor": "#E5ECF6",
           "radialaxis": {
            "gridcolor": "white",
            "linecolor": "white",
            "ticks": ""
           }
          },
          "scene": {
           "xaxis": {
            "backgroundcolor": "#E5ECF6",
            "gridcolor": "white",
            "gridwidth": 2,
            "linecolor": "white",
            "showbackground": true,
            "ticks": "",
            "zerolinecolor": "white"
           },
           "yaxis": {
            "backgroundcolor": "#E5ECF6",
            "gridcolor": "white",
            "gridwidth": 2,
            "linecolor": "white",
            "showbackground": true,
            "ticks": "",
            "zerolinecolor": "white"
           },
           "zaxis": {
            "backgroundcolor": "#E5ECF6",
            "gridcolor": "white",
            "gridwidth": 2,
            "linecolor": "white",
            "showbackground": true,
            "ticks": "",
            "zerolinecolor": "white"
           }
          },
          "shapedefaults": {
           "line": {
            "color": "#2a3f5f"
           }
          },
          "ternary": {
           "aaxis": {
            "gridcolor": "white",
            "linecolor": "white",
            "ticks": ""
           },
           "baxis": {
            "gridcolor": "white",
            "linecolor": "white",
            "ticks": ""
           },
           "bgcolor": "#E5ECF6",
           "caxis": {
            "gridcolor": "white",
            "linecolor": "white",
            "ticks": ""
           }
          },
          "title": {
           "x": 0.05
          },
          "xaxis": {
           "automargin": true,
           "gridcolor": "white",
           "linecolor": "white",
           "ticks": "",
           "title": {
            "standoff": 15
           },
           "zerolinecolor": "white",
           "zerolinewidth": 2
          },
          "yaxis": {
           "automargin": true,
           "gridcolor": "white",
           "linecolor": "white",
           "ticks": "",
           "title": {
            "standoff": 15
           },
           "zerolinecolor": "white",
           "zerolinewidth": 2
          }
         }
        },
        "xaxis": {
         "anchor": "y",
         "domain": [
          0,
          0.45
         ],
         "tickfont": {
          "size": 10
         }
        },
        "xaxis2": {
         "anchor": "y2",
         "domain": [
          0.55,
          1
         ],
         "tickfont": {
          "size": 10
         }
        },
        "xaxis3": {
         "anchor": "y3",
         "domain": [
          0,
          0.45
         ],
         "tickfont": {
          "size": 10
         }
        },
        "xaxis4": {
         "anchor": "y4",
         "domain": [
          0.55,
          1
         ],
         "tickfont": {
          "size": 10
         }
        },
        "yaxis": {
         "anchor": "x",
         "domain": [
          0.625,
          1
         ]
        },
        "yaxis2": {
         "anchor": "x2",
         "domain": [
          0.625,
          1
         ]
        },
        "yaxis3": {
         "anchor": "x3",
         "domain": [
          0,
          0.375
         ]
        },
        "yaxis4": {
         "anchor": "x4",
         "domain": [
          0,
          0.375
         ]
        }
       }
      }
     },
     "metadata": {},
     "output_type": "display_data"
    },
    {
     "data": {
      "application/vnd.plotly.v1+json": {
       "config": {
        "plotlyServerURL": "https://plot.ly"
       },
       "data": [
        {
         "marker": {
          "color": "#1f77b4"
         },
         "name": "books",
         "showlegend": true,
         "type": "bar",
         "x": [
          "and",
          "of",
          "a",
          "to",
          "he",
          "in",
          "i",
          "was",
          "had",
          "his"
         ],
         "xaxis": "x",
         "y": [
          344,
          297,
          256,
          232,
          172,
          148,
          131,
          128,
          124,
          106
         ],
         "yaxis": "y"
        },
        {
         "marker": {
          "color": "#1f77b4"
         },
         "name": "books",
         "showlegend": false,
         "type": "bar",
         "x": [
          "a",
          "i",
          "of",
          "to",
          "he",
          "and",
          "in",
          "was",
          "his",
          "that"
         ],
         "xaxis": "x2",
         "y": [
          337,
          330,
          313,
          251,
          199,
          191,
          175,
          169,
          149,
          133
         ],
         "yaxis": "y2"
        },
        {
         "marker": {
          "color": "#1f77b4"
         },
         "name": "books",
         "showlegend": false,
         "type": "bar",
         "x": [
          "and",
          "of",
          "a",
          "i",
          "to",
          "in",
          "he",
          "my",
          "his",
          "that"
         ],
         "xaxis": "x3",
         "y": [
          408,
          309,
          250,
          189,
          156,
          131,
          118,
          118,
          116,
          116
         ],
         "yaxis": "y3"
        },
        {
         "marker": {
          "color": "#1f77b4"
         },
         "name": "books",
         "showlegend": false,
         "type": "bar",
         "x": [
          "and",
          "to",
          "i",
          "a",
          "of",
          "it",
          "you",
          "in",
          "that",
          "she"
         ],
         "xaxis": "x4",
         "y": [
          298,
          267,
          230,
          226,
          176,
          171,
          147,
          143,
          135,
          128
         ],
         "yaxis": "y4"
        },
        {
         "marker": {
          "color": "#1f77b4"
         },
         "name": "books",
         "showlegend": false,
         "type": "bar",
         "x": [
          "and",
          "a",
          "of",
          "i",
          "to",
          "in",
          "was",
          "that",
          "it",
          "with"
         ],
         "xaxis": "x5",
         "y": [
          333,
          317,
          303,
          292,
          252,
          174,
          133,
          111,
          110,
          108
         ],
         "yaxis": "y5"
        },
        {
         "marker": {
          "color": "#ff7f0e"
         },
         "name": "gemini-pro",
         "showlegend": true,
         "type": "bar",
         "x": [
          "a",
          "of",
          "and",
          "it",
          "to",
          "in",
          "s",
          "that",
          "with",
          "was"
         ],
         "xaxis": "x6",
         "y": [
          528,
          328,
          235,
          149,
          137,
          136,
          136,
          133,
          102,
          97
         ],
         "yaxis": "y6"
        },
        {
         "marker": {
          "color": "#ff7f0e"
         },
         "name": "gemini-pro",
         "showlegend": false,
         "type": "bar",
         "x": [
          "of",
          "a",
          "and",
          "in",
          "to",
          "i",
          "that",
          "it",
          "my",
          "was"
         ],
         "xaxis": "x7",
         "y": [
          461,
          402,
          198,
          163,
          160,
          141,
          137,
          127,
          115,
          110
         ],
         "yaxis": "y7"
        },
        {
         "marker": {
          "color": "#ff7f0e"
         },
         "name": "gemini-pro",
         "showlegend": false,
         "type": "bar",
         "x": [
          "of",
          "a",
          "to",
          "and",
          "in",
          "that",
          "is",
          "it",
          "with",
          "s"
         ],
         "xaxis": "x8",
         "y": [
          487,
          441,
          215,
          205,
          116,
          107,
          105,
          94,
          94,
          84
         ],
         "yaxis": "y8"
        },
        {
         "marker": {
          "color": "#ff7f0e"
         },
         "name": "gemini-pro",
         "showlegend": false,
         "type": "bar",
         "x": [
          "a",
          "of",
          "and",
          "to",
          "in",
          "with",
          "it",
          "was",
          "s",
          "that"
         ],
         "xaxis": "x9",
         "y": [
          484,
          387,
          248,
          149,
          147,
          130,
          98,
          91,
          90,
          83
         ],
         "yaxis": "y9"
        },
        {
         "marker": {
          "color": "#ff7f0e"
         },
         "name": "gemini-pro",
         "showlegend": false,
         "type": "bar",
         "x": [
          "of",
          "a",
          "and",
          "to",
          "in",
          "it",
          "with",
          "that",
          "is",
          "s"
         ],
         "xaxis": "x10",
         "y": [
          463,
          445,
          230,
          186,
          148,
          119,
          118,
          105,
          104,
          91
         ],
         "yaxis": "y10"
        },
        {
         "marker": {
          "color": "#2ca02c"
         },
         "name": "gpt-4",
         "showlegend": true,
         "type": "bar",
         "x": [
          "a",
          "of",
          "and",
          "to",
          "you",
          "i",
          "that",
          "in",
          "s",
          "with"
         ],
         "xaxis": "x11",
         "y": [
          511,
          383,
          271,
          247,
          150,
          141,
          140,
          132,
          113,
          113
         ],
         "yaxis": "y11"
        },
        {
         "marker": {
          "color": "#2ca02c"
         },
         "name": "gpt-4",
         "showlegend": false,
         "type": "bar",
         "x": [
          "a",
          "of",
          "and",
          "to",
          "in",
          "you",
          "i",
          "with",
          "that",
          "s"
         ],
         "xaxis": "x12",
         "y": [
          508,
          382,
          261,
          252,
          148,
          140,
          134,
          127,
          123,
          121
         ],
         "yaxis": "y12"
        },
        {
         "marker": {
          "color": "#2ca02c"
         },
         "name": "gpt-4",
         "showlegend": false,
         "type": "bar",
         "x": [
          "a",
          "of",
          "and",
          "to",
          "i",
          "you",
          "in",
          "that",
          "is",
          "s"
         ],
         "xaxis": "x13",
         "y": [
          506,
          388,
          279,
          254,
          166,
          153,
          144,
          134,
          112,
          106
         ],
         "yaxis": "y13"
        },
        {
         "marker": {
          "color": "#2ca02c"
         },
         "name": "gpt-4",
         "showlegend": false,
         "type": "bar",
         "x": [
          "a",
          "of",
          "and",
          "to",
          "in",
          "i",
          "you",
          "that",
          "with",
          "s"
         ],
         "xaxis": "x14",
         "y": [
          493,
          390,
          289,
          264,
          156,
          154,
          142,
          129,
          123,
          108
         ],
         "yaxis": "y14"
        },
        {
         "marker": {
          "color": "#2ca02c"
         },
         "name": "gpt-4",
         "showlegend": false,
         "type": "bar",
         "x": [
          "a",
          "of",
          "and",
          "to",
          "i",
          "you",
          "in",
          "that",
          "with",
          "can"
         ],
         "xaxis": "x15",
         "y": [
          497,
          367,
          273,
          233,
          155,
          148,
          146,
          134,
          123,
          118
         ],
         "yaxis": "y15"
        },
        {
         "marker": {
          "color": "#d62728"
         },
         "name": "gpt-3.5-turbo",
         "showlegend": true,
         "type": "bar",
         "x": [
          "of",
          "a",
          "and",
          "to",
          "in",
          "it",
          "that",
          "with",
          "i",
          "as"
         ],
         "xaxis": "x16",
         "y": [
          461,
          362,
          357,
          231,
          195,
          128,
          126,
          111,
          105,
          92
         ],
         "yaxis": "y16"
        },
        {
         "marker": {
          "color": "#d62728"
         },
         "name": "gpt-3.5-turbo",
         "showlegend": false,
         "type": "bar",
         "x": [
          "of",
          "a",
          "and",
          "to",
          "in",
          "that",
          "with",
          "as",
          "i",
          "is"
         ],
         "xaxis": "x17",
         "y": [
          505,
          379,
          315,
          268,
          172,
          139,
          110,
          93,
          87,
          82
         ],
         "yaxis": "y17"
        },
        {
         "marker": {
          "color": "#d62728"
         },
         "name": "gpt-3.5-turbo",
         "showlegend": false,
         "type": "bar",
         "x": [
          "of",
          "and",
          "a",
          "to",
          "in",
          "that",
          "is",
          "with",
          "it",
          "as"
         ],
         "xaxis": "x18",
         "y": [
          551,
          401,
          365,
          230,
          161,
          157,
          119,
          114,
          101,
          94
         ],
         "yaxis": "y18"
        },
        {
         "marker": {
          "color": "#d62728"
         },
         "name": "gpt-3.5-turbo",
         "showlegend": false,
         "type": "bar",
         "x": [
          "of",
          "and",
          "a",
          "to",
          "in",
          "that",
          "with",
          "it",
          "as",
          "they"
         ],
         "xaxis": "x19",
         "y": [
          418,
          385,
          378,
          268,
          170,
          168,
          116,
          114,
          93,
          88
         ],
         "yaxis": "y19"
        },
        {
         "marker": {
          "color": "#d62728"
         },
         "name": "gpt-3.5-turbo",
         "showlegend": false,
         "type": "bar",
         "x": [
          "of",
          "and",
          "a",
          "to",
          "in",
          "that",
          "with",
          "it",
          "is",
          "as"
         ],
         "xaxis": "x20",
         "y": [
          490,
          393,
          355,
          269,
          176,
          152,
          114,
          101,
          97,
          89
         ],
         "yaxis": "y20"
        }
       ],
       "layout": {
        "annotations": [
         {
          "font": {
           "size": 16
          },
          "showarrow": false,
          "text": "Zane Grey",
          "x": 0.08399999999999999,
          "xanchor": "center",
          "xref": "paper",
          "y": 1,
          "yanchor": "bottom",
          "yref": "paper"
         },
         {
          "font": {
           "size": 16
          },
          "showarrow": false,
          "text": "Joseph Conrad",
          "x": 0.292,
          "xanchor": "center",
          "xref": "paper",
          "y": 1,
          "yanchor": "bottom",
          "yref": "paper"
         },
         {
          "font": {
           "size": 16
          },
          "showarrow": false,
          "text": "Benjamin Disraeli",
          "x": 0.5,
          "xanchor": "center",
          "xref": "paper",
          "y": 1,
          "yanchor": "bottom",
          "yref": "paper"
         },
         {
          "font": {
           "size": 16
          },
          "showarrow": false,
          "text": "Lucy Maud Montgomery",
          "x": 0.708,
          "xanchor": "center",
          "xref": "paper",
          "y": 1,
          "yanchor": "bottom",
          "yref": "paper"
         },
         {
          "font": {
           "size": 16
          },
          "showarrow": false,
          "text": "William Henry Hudson",
          "x": 0.9159999999999999,
          "xanchor": "center",
          "xref": "paper",
          "y": 1,
          "yanchor": "bottom",
          "yref": "paper"
         }
        ],
        "height": 800,
        "template": {
         "data": {
          "bar": [
           {
            "error_x": {
             "color": "#2a3f5f"
            },
            "error_y": {
             "color": "#2a3f5f"
            },
            "marker": {
             "line": {
              "color": "#E5ECF6",
              "width": 0.5
             },
             "pattern": {
              "fillmode": "overlay",
              "size": 10,
              "solidity": 0.2
             }
            },
            "type": "bar"
           }
          ],
          "barpolar": [
           {
            "marker": {
             "line": {
              "color": "#E5ECF6",
              "width": 0.5
             },
             "pattern": {
              "fillmode": "overlay",
              "size": 10,
              "solidity": 0.2
             }
            },
            "type": "barpolar"
           }
          ],
          "carpet": [
           {
            "aaxis": {
             "endlinecolor": "#2a3f5f",
             "gridcolor": "white",
             "linecolor": "white",
             "minorgridcolor": "white",
             "startlinecolor": "#2a3f5f"
            },
            "baxis": {
             "endlinecolor": "#2a3f5f",
             "gridcolor": "white",
             "linecolor": "white",
             "minorgridcolor": "white",
             "startlinecolor": "#2a3f5f"
            },
            "type": "carpet"
           }
          ],
          "choropleth": [
           {
            "colorbar": {
             "outlinewidth": 0,
             "ticks": ""
            },
            "type": "choropleth"
           }
          ],
          "contour": [
           {
            "colorbar": {
             "outlinewidth": 0,
             "ticks": ""
            },
            "colorscale": [
             [
              0,
              "#0d0887"
             ],
             [
              0.1111111111111111,
              "#46039f"
             ],
             [
              0.2222222222222222,
              "#7201a8"
             ],
             [
              0.3333333333333333,
              "#9c179e"
             ],
             [
              0.4444444444444444,
              "#bd3786"
             ],
             [
              0.5555555555555556,
              "#d8576b"
             ],
             [
              0.6666666666666666,
              "#ed7953"
             ],
             [
              0.7777777777777778,
              "#fb9f3a"
             ],
             [
              0.8888888888888888,
              "#fdca26"
             ],
             [
              1,
              "#f0f921"
             ]
            ],
            "type": "contour"
           }
          ],
          "contourcarpet": [
           {
            "colorbar": {
             "outlinewidth": 0,
             "ticks": ""
            },
            "type": "contourcarpet"
           }
          ],
          "heatmap": [
           {
            "colorbar": {
             "outlinewidth": 0,
             "ticks": ""
            },
            "colorscale": [
             [
              0,
              "#0d0887"
             ],
             [
              0.1111111111111111,
              "#46039f"
             ],
             [
              0.2222222222222222,
              "#7201a8"
             ],
             [
              0.3333333333333333,
              "#9c179e"
             ],
             [
              0.4444444444444444,
              "#bd3786"
             ],
             [
              0.5555555555555556,
              "#d8576b"
             ],
             [
              0.6666666666666666,
              "#ed7953"
             ],
             [
              0.7777777777777778,
              "#fb9f3a"
             ],
             [
              0.8888888888888888,
              "#fdca26"
             ],
             [
              1,
              "#f0f921"
             ]
            ],
            "type": "heatmap"
           }
          ],
          "heatmapgl": [
           {
            "colorbar": {
             "outlinewidth": 0,
             "ticks": ""
            },
            "colorscale": [
             [
              0,
              "#0d0887"
             ],
             [
              0.1111111111111111,
              "#46039f"
             ],
             [
              0.2222222222222222,
              "#7201a8"
             ],
             [
              0.3333333333333333,
              "#9c179e"
             ],
             [
              0.4444444444444444,
              "#bd3786"
             ],
             [
              0.5555555555555556,
              "#d8576b"
             ],
             [
              0.6666666666666666,
              "#ed7953"
             ],
             [
              0.7777777777777778,
              "#fb9f3a"
             ],
             [
              0.8888888888888888,
              "#fdca26"
             ],
             [
              1,
              "#f0f921"
             ]
            ],
            "type": "heatmapgl"
           }
          ],
          "histogram": [
           {
            "marker": {
             "pattern": {
              "fillmode": "overlay",
              "size": 10,
              "solidity": 0.2
             }
            },
            "type": "histogram"
           }
          ],
          "histogram2d": [
           {
            "colorbar": {
             "outlinewidth": 0,
             "ticks": ""
            },
            "colorscale": [
             [
              0,
              "#0d0887"
             ],
             [
              0.1111111111111111,
              "#46039f"
             ],
             [
              0.2222222222222222,
              "#7201a8"
             ],
             [
              0.3333333333333333,
              "#9c179e"
             ],
             [
              0.4444444444444444,
              "#bd3786"
             ],
             [
              0.5555555555555556,
              "#d8576b"
             ],
             [
              0.6666666666666666,
              "#ed7953"
             ],
             [
              0.7777777777777778,
              "#fb9f3a"
             ],
             [
              0.8888888888888888,
              "#fdca26"
             ],
             [
              1,
              "#f0f921"
             ]
            ],
            "type": "histogram2d"
           }
          ],
          "histogram2dcontour": [
           {
            "colorbar": {
             "outlinewidth": 0,
             "ticks": ""
            },
            "colorscale": [
             [
              0,
              "#0d0887"
             ],
             [
              0.1111111111111111,
              "#46039f"
             ],
             [
              0.2222222222222222,
              "#7201a8"
             ],
             [
              0.3333333333333333,
              "#9c179e"
             ],
             [
              0.4444444444444444,
              "#bd3786"
             ],
             [
              0.5555555555555556,
              "#d8576b"
             ],
             [
              0.6666666666666666,
              "#ed7953"
             ],
             [
              0.7777777777777778,
              "#fb9f3a"
             ],
             [
              0.8888888888888888,
              "#fdca26"
             ],
             [
              1,
              "#f0f921"
             ]
            ],
            "type": "histogram2dcontour"
           }
          ],
          "mesh3d": [
           {
            "colorbar": {
             "outlinewidth": 0,
             "ticks": ""
            },
            "type": "mesh3d"
           }
          ],
          "parcoords": [
           {
            "line": {
             "colorbar": {
              "outlinewidth": 0,
              "ticks": ""
             }
            },
            "type": "parcoords"
           }
          ],
          "pie": [
           {
            "automargin": true,
            "type": "pie"
           }
          ],
          "scatter": [
           {
            "fillpattern": {
             "fillmode": "overlay",
             "size": 10,
             "solidity": 0.2
            },
            "type": "scatter"
           }
          ],
          "scatter3d": [
           {
            "line": {
             "colorbar": {
              "outlinewidth": 0,
              "ticks": ""
             }
            },
            "marker": {
             "colorbar": {
              "outlinewidth": 0,
              "ticks": ""
             }
            },
            "type": "scatter3d"
           }
          ],
          "scattercarpet": [
           {
            "marker": {
             "colorbar": {
              "outlinewidth": 0,
              "ticks": ""
             }
            },
            "type": "scattercarpet"
           }
          ],
          "scattergeo": [
           {
            "marker": {
             "colorbar": {
              "outlinewidth": 0,
              "ticks": ""
             }
            },
            "type": "scattergeo"
           }
          ],
          "scattergl": [
           {
            "marker": {
             "colorbar": {
              "outlinewidth": 0,
              "ticks": ""
             }
            },
            "type": "scattergl"
           }
          ],
          "scattermapbox": [
           {
            "marker": {
             "colorbar": {
              "outlinewidth": 0,
              "ticks": ""
             }
            },
            "type": "scattermapbox"
           }
          ],
          "scatterpolar": [
           {
            "marker": {
             "colorbar": {
              "outlinewidth": 0,
              "ticks": ""
             }
            },
            "type": "scatterpolar"
           }
          ],
          "scatterpolargl": [
           {
            "marker": {
             "colorbar": {
              "outlinewidth": 0,
              "ticks": ""
             }
            },
            "type": "scatterpolargl"
           }
          ],
          "scatterternary": [
           {
            "marker": {
             "colorbar": {
              "outlinewidth": 0,
              "ticks": ""
             }
            },
            "type": "scatterternary"
           }
          ],
          "surface": [
           {
            "colorbar": {
             "outlinewidth": 0,
             "ticks": ""
            },
            "colorscale": [
             [
              0,
              "#0d0887"
             ],
             [
              0.1111111111111111,
              "#46039f"
             ],
             [
              0.2222222222222222,
              "#7201a8"
             ],
             [
              0.3333333333333333,
              "#9c179e"
             ],
             [
              0.4444444444444444,
              "#bd3786"
             ],
             [
              0.5555555555555556,
              "#d8576b"
             ],
             [
              0.6666666666666666,
              "#ed7953"
             ],
             [
              0.7777777777777778,
              "#fb9f3a"
             ],
             [
              0.8888888888888888,
              "#fdca26"
             ],
             [
              1,
              "#f0f921"
             ]
            ],
            "type": "surface"
           }
          ],
          "table": [
           {
            "cells": {
             "fill": {
              "color": "#EBF0F8"
             },
             "line": {
              "color": "white"
             }
            },
            "header": {
             "fill": {
              "color": "#C8D4E3"
             },
             "line": {
              "color": "white"
             }
            },
            "type": "table"
           }
          ]
         },
         "layout": {
          "annotationdefaults": {
           "arrowcolor": "#2a3f5f",
           "arrowhead": 0,
           "arrowwidth": 1
          },
          "autotypenumbers": "strict",
          "coloraxis": {
           "colorbar": {
            "outlinewidth": 0,
            "ticks": ""
           }
          },
          "colorscale": {
           "diverging": [
            [
             0,
             "#8e0152"
            ],
            [
             0.1,
             "#c51b7d"
            ],
            [
             0.2,
             "#de77ae"
            ],
            [
             0.3,
             "#f1b6da"
            ],
            [
             0.4,
             "#fde0ef"
            ],
            [
             0.5,
             "#f7f7f7"
            ],
            [
             0.6,
             "#e6f5d0"
            ],
            [
             0.7,
             "#b8e186"
            ],
            [
             0.8,
             "#7fbc41"
            ],
            [
             0.9,
             "#4d9221"
            ],
            [
             1,
             "#276419"
            ]
           ],
           "sequential": [
            [
             0,
             "#0d0887"
            ],
            [
             0.1111111111111111,
             "#46039f"
            ],
            [
             0.2222222222222222,
             "#7201a8"
            ],
            [
             0.3333333333333333,
             "#9c179e"
            ],
            [
             0.4444444444444444,
             "#bd3786"
            ],
            [
             0.5555555555555556,
             "#d8576b"
            ],
            [
             0.6666666666666666,
             "#ed7953"
            ],
            [
             0.7777777777777778,
             "#fb9f3a"
            ],
            [
             0.8888888888888888,
             "#fdca26"
            ],
            [
             1,
             "#f0f921"
            ]
           ],
           "sequentialminus": [
            [
             0,
             "#0d0887"
            ],
            [
             0.1111111111111111,
             "#46039f"
            ],
            [
             0.2222222222222222,
             "#7201a8"
            ],
            [
             0.3333333333333333,
             "#9c179e"
            ],
            [
             0.4444444444444444,
             "#bd3786"
            ],
            [
             0.5555555555555556,
             "#d8576b"
            ],
            [
             0.6666666666666666,
             "#ed7953"
            ],
            [
             0.7777777777777778,
             "#fb9f3a"
            ],
            [
             0.8888888888888888,
             "#fdca26"
            ],
            [
             1,
             "#f0f921"
            ]
           ]
          },
          "colorway": [
           "#636efa",
           "#EF553B",
           "#00cc96",
           "#ab63fa",
           "#FFA15A",
           "#19d3f3",
           "#FF6692",
           "#B6E880",
           "#FF97FF",
           "#FECB52"
          ],
          "font": {
           "color": "#2a3f5f"
          },
          "geo": {
           "bgcolor": "white",
           "lakecolor": "white",
           "landcolor": "#E5ECF6",
           "showlakes": true,
           "showland": true,
           "subunitcolor": "white"
          },
          "hoverlabel": {
           "align": "left"
          },
          "hovermode": "closest",
          "mapbox": {
           "style": "light"
          },
          "paper_bgcolor": "white",
          "plot_bgcolor": "#E5ECF6",
          "polar": {
           "angularaxis": {
            "gridcolor": "white",
            "linecolor": "white",
            "ticks": ""
           },
           "bgcolor": "#E5ECF6",
           "radialaxis": {
            "gridcolor": "white",
            "linecolor": "white",
            "ticks": ""
           }
          },
          "scene": {
           "xaxis": {
            "backgroundcolor": "#E5ECF6",
            "gridcolor": "white",
            "gridwidth": 2,
            "linecolor": "white",
            "showbackground": true,
            "ticks": "",
            "zerolinecolor": "white"
           },
           "yaxis": {
            "backgroundcolor": "#E5ECF6",
            "gridcolor": "white",
            "gridwidth": 2,
            "linecolor": "white",
            "showbackground": true,
            "ticks": "",
            "zerolinecolor": "white"
           },
           "zaxis": {
            "backgroundcolor": "#E5ECF6",
            "gridcolor": "white",
            "gridwidth": 2,
            "linecolor": "white",
            "showbackground": true,
            "ticks": "",
            "zerolinecolor": "white"
           }
          },
          "shapedefaults": {
           "line": {
            "color": "#2a3f5f"
           }
          },
          "ternary": {
           "aaxis": {
            "gridcolor": "white",
            "linecolor": "white",
            "ticks": ""
           },
           "baxis": {
            "gridcolor": "white",
            "linecolor": "white",
            "ticks": ""
           },
           "bgcolor": "#E5ECF6",
           "caxis": {
            "gridcolor": "white",
            "linecolor": "white",
            "ticks": ""
           }
          },
          "title": {
           "x": 0.05
          },
          "xaxis": {
           "automargin": true,
           "gridcolor": "white",
           "linecolor": "white",
           "ticks": "",
           "title": {
            "standoff": 15
           },
           "zerolinecolor": "white",
           "zerolinewidth": 2
          },
          "yaxis": {
           "automargin": true,
           "gridcolor": "white",
           "linecolor": "white",
           "ticks": "",
           "title": {
            "standoff": 15
           },
           "zerolinecolor": "white",
           "zerolinewidth": 2
          }
         }
        },
        "xaxis": {
         "anchor": "y",
         "domain": [
          0,
          0.16799999999999998
         ],
         "tickfont": {
          "size": 10
         }
        },
        "xaxis10": {
         "anchor": "y10",
         "domain": [
          0.832,
          1
         ],
         "tickfont": {
          "size": 10
         }
        },
        "xaxis11": {
         "anchor": "y11",
         "domain": [
          0,
          0.16799999999999998
         ],
         "tickfont": {
          "size": 10
         }
        },
        "xaxis12": {
         "anchor": "y12",
         "domain": [
          0.208,
          0.376
         ],
         "tickfont": {
          "size": 10
         }
        },
        "xaxis13": {
         "anchor": "y13",
         "domain": [
          0.416,
          0.584
         ],
         "tickfont": {
          "size": 10
         }
        },
        "xaxis14": {
         "anchor": "y14",
         "domain": [
          0.624,
          0.792
         ],
         "tickfont": {
          "size": 10
         }
        },
        "xaxis15": {
         "anchor": "y15",
         "domain": [
          0.832,
          1
         ],
         "tickfont": {
          "size": 10
         }
        },
        "xaxis16": {
         "anchor": "y16",
         "domain": [
          0,
          0.16799999999999998
         ],
         "tickfont": {
          "size": 10
         }
        },
        "xaxis17": {
         "anchor": "y17",
         "domain": [
          0.208,
          0.376
         ],
         "tickfont": {
          "size": 10
         }
        },
        "xaxis18": {
         "anchor": "y18",
         "domain": [
          0.416,
          0.584
         ],
         "tickfont": {
          "size": 10
         }
        },
        "xaxis19": {
         "anchor": "y19",
         "domain": [
          0.624,
          0.792
         ],
         "tickfont": {
          "size": 10
         }
        },
        "xaxis2": {
         "anchor": "y2",
         "domain": [
          0.208,
          0.376
         ],
         "tickfont": {
          "size": 10
         }
        },
        "xaxis20": {
         "anchor": "y20",
         "domain": [
          0.832,
          1
         ],
         "tickfont": {
          "size": 10
         }
        },
        "xaxis3": {
         "anchor": "y3",
         "domain": [
          0.416,
          0.584
         ],
         "tickfont": {
          "size": 10
         }
        },
        "xaxis4": {
         "anchor": "y4",
         "domain": [
          0.624,
          0.792
         ],
         "tickfont": {
          "size": 10
         }
        },
        "xaxis5": {
         "anchor": "y5",
         "domain": [
          0.832,
          1
         ],
         "tickfont": {
          "size": 10
         }
        },
        "xaxis6": {
         "anchor": "y6",
         "domain": [
          0,
          0.16799999999999998
         ],
         "tickfont": {
          "size": 10
         }
        },
        "xaxis7": {
         "anchor": "y7",
         "domain": [
          0.208,
          0.376
         ],
         "tickfont": {
          "size": 10
         }
        },
        "xaxis8": {
         "anchor": "y8",
         "domain": [
          0.416,
          0.584
         ],
         "tickfont": {
          "size": 10
         }
        },
        "xaxis9": {
         "anchor": "y9",
         "domain": [
          0.624,
          0.792
         ],
         "tickfont": {
          "size": 10
         }
        },
        "yaxis": {
         "anchor": "x",
         "domain": [
          0.84375,
          1
         ],
         "range": [
          0,
          551
         ]
        },
        "yaxis10": {
         "anchor": "x10",
         "domain": [
          0.5625,
          0.71875
         ],
         "range": [
          0,
          551
         ]
        },
        "yaxis11": {
         "anchor": "x11",
         "domain": [
          0.28125,
          0.4375
         ],
         "range": [
          0,
          551
         ]
        },
        "yaxis12": {
         "anchor": "x12",
         "domain": [
          0.28125,
          0.4375
         ],
         "range": [
          0,
          551
         ]
        },
        "yaxis13": {
         "anchor": "x13",
         "domain": [
          0.28125,
          0.4375
         ],
         "range": [
          0,
          551
         ]
        },
        "yaxis14": {
         "anchor": "x14",
         "domain": [
          0.28125,
          0.4375
         ],
         "range": [
          0,
          551
         ]
        },
        "yaxis15": {
         "anchor": "x15",
         "domain": [
          0.28125,
          0.4375
         ],
         "range": [
          0,
          551
         ]
        },
        "yaxis16": {
         "anchor": "x16",
         "domain": [
          0,
          0.15625
         ],
         "range": [
          0,
          551
         ]
        },
        "yaxis17": {
         "anchor": "x17",
         "domain": [
          0,
          0.15625
         ],
         "range": [
          0,
          551
         ]
        },
        "yaxis18": {
         "anchor": "x18",
         "domain": [
          0,
          0.15625
         ],
         "range": [
          0,
          551
         ]
        },
        "yaxis19": {
         "anchor": "x19",
         "domain": [
          0,
          0.15625
         ],
         "range": [
          0,
          551
         ]
        },
        "yaxis2": {
         "anchor": "x2",
         "domain": [
          0.84375,
          1
         ],
         "range": [
          0,
          551
         ]
        },
        "yaxis20": {
         "anchor": "x20",
         "domain": [
          0,
          0.15625
         ],
         "range": [
          0,
          551
         ]
        },
        "yaxis3": {
         "anchor": "x3",
         "domain": [
          0.84375,
          1
         ],
         "range": [
          0,
          551
         ]
        },
        "yaxis4": {
         "anchor": "x4",
         "domain": [
          0.84375,
          1
         ],
         "range": [
          0,
          551
         ]
        },
        "yaxis5": {
         "anchor": "x5",
         "domain": [
          0.84375,
          1
         ],
         "range": [
          0,
          551
         ]
        },
        "yaxis6": {
         "anchor": "x6",
         "domain": [
          0.5625,
          0.71875
         ],
         "range": [
          0,
          551
         ]
        },
        "yaxis7": {
         "anchor": "x7",
         "domain": [
          0.5625,
          0.71875
         ],
         "range": [
          0,
          551
         ]
        },
        "yaxis8": {
         "anchor": "x8",
         "domain": [
          0.5625,
          0.71875
         ],
         "range": [
          0,
          551
         ]
        },
        "yaxis9": {
         "anchor": "x9",
         "domain": [
          0.5625,
          0.71875
         ],
         "range": [
          0,
          551
         ]
        }
       }
      }
     },
     "metadata": {},
     "output_type": "display_data"
    }
   ],
   "source": [
    "AnalysisVisualization().visualize(analysis_data)"
   ]
  }
 ],
 "metadata": {
  "kernelspec": {
   "display_name": ".venv",
   "language": "python",
   "name": "python3"
  },
  "language_info": {
   "codemirror_mode": {
    "name": "ipython",
    "version": 3
   },
   "file_extension": ".py",
   "mimetype": "text/x-python",
   "name": "python",
   "nbconvert_exporter": "python",
   "pygments_lexer": "ipython3",
   "version": "3.12.1"
  }
 },
 "nbformat": 4,
 "nbformat_minor": 2
}
