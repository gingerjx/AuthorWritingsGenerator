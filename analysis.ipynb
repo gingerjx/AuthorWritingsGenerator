{
 "cells": [
  {
   "cell_type": "markdown",
   "metadata": {},
   "source": [
    "# Analysis\n",
    "\n",
    "Notebook reads the list of the selected authors from `res/selected/author_list` and loads their text data from book and genereted resources available in `res` directory.\n",
    "Displayed data:\n",
    "- Notebook displays the number of words per each source-author pair.\n",
    "- Analysis on chunk of `configuration.analysis_size` size\n",
    "    - Average word length\n",
    "    - Average sentence length\n",
    "    - Unique words count\n",
    "    - Top 10 function words\n",
    "\n",
    "Further work on that notebook is planned.\n",
    "\n",
    "*Note: the list of function words are taken from [functionwords](https://pypi.org/project/functionwords/) package.*"
   ]
  },
  {
   "cell_type": "code",
   "execution_count": null,
   "metadata": {},
   "outputs": [],
   "source": [
    "from src import *"
   ]
  },
  {
   "cell_type": "code",
   "execution_count": 15,
   "metadata": {},
   "outputs": [],
   "source": [
    "configuration = Configuration()"
   ]
  },
  {
   "cell_type": "code",
   "execution_count": 16,
   "metadata": {},
   "outputs": [],
   "source": [
    "authors = []\n",
    "for author_name in FileUtils.read_authors(configuration.selected_authors_filepath):\n",
    "    author = Author(name=author_name)\n",
    "    author.read_book_collection(configuration.all_book_data_directory)\n",
    "    author.read_generated_texts(configuration.model_dirs)\n",
    "    authors.append(author)"
   ]
  },
  {
   "cell_type": "code",
   "execution_count": 17,
   "metadata": {},
   "outputs": [],
   "source": [
    "analysis = Analysis(configuration.analysis_size)\n",
    "analysis_data = analysis.analyze(authors)"
   ]
  },
  {
   "cell_type": "code",
   "execution_count": 20,
   "metadata": {},
   "outputs": [
    {
     "data": {
      "application/vnd.plotly.v1+json": {
       "config": {
        "plotlyServerURL": "https://plot.ly"
       },
       "data": [
        {
         "marker": {
          "color": "#3498db"
         },
         "name": "books",
         "type": "bar",
         "x": [
          "Mark Twain",
          "Zane Grey",
          "Joseph Conrad",
          "George Eliot",
          "Benjamin Disraeli",
          "Lucy Maud Montgomery",
          "William Henry Hudson",
          "Howard Pyle",
          "Virginia Woolf",
          "Lewis Carroll"
         ],
         "xaxis": "x3",
         "y": [
          3821,
          3117,
          3336,
          3191,
          3535,
          2863,
          3137,
          3159,
          3413,
          3523
         ],
         "yaxis": "y3"
        },
        {
         "marker": {
          "color": "#3498db"
         },
         "name": "books",
         "showlegend": false,
         "type": "bar",
         "x": [
          "Mark Twain",
          "Zane Grey",
          "Joseph Conrad",
          "George Eliot",
          "Benjamin Disraeli",
          "Lucy Maud Montgomery",
          "William Henry Hudson",
          "Howard Pyle",
          "Virginia Woolf",
          "Lewis Carroll"
         ],
         "xaxis": "x2",
         "y": [
          4.7499,
          4.5062,
          4.5361,
          4.4466,
          4.5501,
          4.3474,
          4.5572,
          4.7241,
          4.6773,
          4.7495
         ],
         "yaxis": "y2"
        },
        {
         "marker": {
          "color": "#3498db"
         },
         "name": "books",
         "showlegend": false,
         "type": "bar",
         "x": [
          "Mark Twain",
          "Zane Grey",
          "Joseph Conrad",
          "George Eliot",
          "Benjamin Disraeli",
          "Lucy Maud Montgomery",
          "William Henry Hudson",
          "Howard Pyle",
          "Virginia Woolf",
          "Lewis Carroll"
         ],
         "xaxis": "x4",
         "y": [
          25.12562814070352,
          16.44736842105263,
          12.224938875305623,
          24.271844660194176,
          13.458950201884253,
          11.160714285714286,
          27.397260273972602,
          31.34796238244514,
          17.452006980802793,
          12.062726176115802
         ],
         "yaxis": "y4"
        },
        {
         "marker": {
          "color": "#e74c3c"
         },
         "name": "gpt-3.5-turbo-0125",
         "showlegend": false,
         "type": "bar",
         "x": [
          "Mark Twain",
          "Zane Grey",
          "Joseph Conrad",
          "George Eliot",
          "Benjamin Disraeli",
          "Lucy Maud Montgomery",
          "William Henry Hudson",
          "Howard Pyle",
          "Virginia Woolf",
          "Lewis Carroll"
         ],
         "xaxis": "x",
         "y": [
          1423,
          1811,
          1486,
          1065,
          992,
          1205,
          1283,
          1024,
          1231,
          1143
         ],
         "yaxis": "y"
        },
        {
         "marker": {
          "color": "#e74c3c"
         },
         "name": "gpt-3.5-turbo-0125",
         "type": "bar",
         "x": [
          "Mark Twain",
          "Zane Grey",
          "Joseph Conrad",
          "George Eliot",
          "Benjamin Disraeli",
          "Lucy Maud Montgomery",
          "William Henry Hudson",
          "Howard Pyle",
          "Virginia Woolf",
          "Lewis Carroll"
         ],
         "xaxis": "x3",
         "y": [
          698,
          777,
          691,
          504,
          465,
          576,
          621,
          485,
          580,
          552
         ],
         "yaxis": "y3"
        },
        {
         "marker": {
          "color": "#e74c3c"
         },
         "name": "gpt-3.5-turbo-0125",
         "showlegend": false,
         "type": "bar",
         "x": [
          "Mark Twain",
          "Zane Grey",
          "Joseph Conrad",
          "George Eliot",
          "Benjamin Disraeli",
          "Lucy Maud Montgomery",
          "William Henry Hudson",
          "Howard Pyle",
          "Virginia Woolf",
          "Lewis Carroll"
         ],
         "xaxis": "x2",
         "y": [
          4.568517217146873,
          4.544450579790171,
          4.757065948855989,
          4.888262910798122,
          4.747983870967742,
          4.65643153526971,
          4.943102104442713,
          4.7509765625,
          4.836718115353372,
          4.890638670166229
         ],
         "yaxis": "y2"
        },
        {
         "marker": {
          "color": "#e74c3c"
         },
         "name": "gpt-3.5-turbo-0125",
         "showlegend": false,
         "type": "bar",
         "x": [
          "Mark Twain",
          "Zane Grey",
          "Joseph Conrad",
          "George Eliot",
          "Benjamin Disraeli",
          "Lucy Maud Montgomery",
          "William Henry Hudson",
          "Howard Pyle",
          "Virginia Woolf",
          "Lewis Carroll"
         ],
         "xaxis": "x4",
         "y": [
          20.32857142857143,
          23.82894736842105,
          25.1864406779661,
          25.357142857142858,
          24.8,
          24.591836734693878,
          24.673076923076923,
          16.516129032258064,
          24.62,
          19.70689655172414
         ],
         "yaxis": "y4"
        },
        {
         "marker": {
          "color": "#2ecc71"
         },
         "name": "gpt-4o",
         "showlegend": false,
         "type": "bar",
         "x": [
          "Mark Twain",
          "Zane Grey",
          "Joseph Conrad",
          "George Eliot",
          "Benjamin Disraeli",
          "Lucy Maud Montgomery",
          "William Henry Hudson",
          "Howard Pyle",
          "Virginia Woolf",
          "Lewis Carroll"
         ],
         "xaxis": "x",
         "y": [
          2353,
          2487,
          2514,
          1537,
          1441,
          1666,
          2067,
          1706,
          1746,
          1908
         ],
         "yaxis": "y"
        },
        {
         "marker": {
          "color": "#2ecc71"
         },
         "name": "gpt-4o",
         "type": "bar",
         "x": [
          "Mark Twain",
          "Zane Grey",
          "Joseph Conrad",
          "George Eliot",
          "Benjamin Disraeli",
          "Lucy Maud Montgomery",
          "William Henry Hudson",
          "Howard Pyle",
          "Virginia Woolf",
          "Lewis Carroll"
         ],
         "xaxis": "x3",
         "y": [
          1124,
          1087,
          1041,
          759,
          722,
          785,
          949,
          795,
          797,
          929
         ],
         "yaxis": "y3"
        },
        {
         "marker": {
          "color": "#2ecc71"
         },
         "name": "gpt-4o",
         "showlegend": false,
         "type": "bar",
         "x": [
          "Mark Twain",
          "Zane Grey",
          "Joseph Conrad",
          "George Eliot",
          "Benjamin Disraeli",
          "Lucy Maud Montgomery",
          "William Henry Hudson",
          "Howard Pyle",
          "Virginia Woolf",
          "Lewis Carroll"
         ],
         "xaxis": "x2",
         "y": [
          4.798555036124097,
          4.6915963007639725,
          4.725536992840095,
          5.066363044892648,
          5.029146426092991,
          4.855942376950781,
          4.919690372520561,
          4.72274325908558,
          4.792668957617411,
          4.777253668763103
         ],
         "yaxis": "y2"
        },
        {
         "marker": {
          "color": "#2ecc71"
         },
         "name": "gpt-4o",
         "showlegend": false,
         "type": "bar",
         "x": [
          "Mark Twain",
          "Zane Grey",
          "Joseph Conrad",
          "George Eliot",
          "Benjamin Disraeli",
          "Lucy Maud Montgomery",
          "William Henry Hudson",
          "Howard Pyle",
          "Virginia Woolf",
          "Lewis Carroll"
         ],
         "xaxis": "x4",
         "y": [
          18.52755905511811,
          18.559701492537314,
          20.4390243902439,
          21.054794520547944,
          21.833333333333332,
          26.03125,
          20.87878787878788,
          22.44736842105263,
          22.384615384615383,
          19.875
         ],
         "yaxis": "y4"
        },
        {
         "marker": {
          "color": "#f1c40f"
         },
         "name": "gemini-1.5-flash",
         "showlegend": false,
         "type": "bar",
         "x": [
          "Mark Twain",
          "Zane Grey",
          "Joseph Conrad",
          "George Eliot",
          "Benjamin Disraeli",
          "Lucy Maud Montgomery",
          "William Henry Hudson",
          "Howard Pyle",
          "Virginia Woolf",
          "Lewis Carroll"
         ],
         "xaxis": "x",
         "y": [
          2266,
          2855,
          2654,
          1469,
          1527,
          1471,
          1558,
          1969,
          1342,
          1297
         ],
         "yaxis": "y"
        },
        {
         "marker": {
          "color": "#f1c40f"
         },
         "name": "gemini-1.5-flash",
         "type": "bar",
         "x": [
          "Mark Twain",
          "Zane Grey",
          "Joseph Conrad",
          "George Eliot",
          "Benjamin Disraeli",
          "Lucy Maud Montgomery",
          "William Henry Hudson",
          "Howard Pyle",
          "Virginia Woolf",
          "Lewis Carroll"
         ],
         "xaxis": "x3",
         "y": [
          880,
          1122,
          1027,
          670,
          724,
          733,
          675,
          807,
          636,
          667
         ],
         "yaxis": "y3"
        },
        {
         "marker": {
          "color": "#f1c40f"
         },
         "name": "gemini-1.5-flash",
         "showlegend": false,
         "type": "bar",
         "x": [
          "Mark Twain",
          "Zane Grey",
          "Joseph Conrad",
          "George Eliot",
          "Benjamin Disraeli",
          "Lucy Maud Montgomery",
          "William Henry Hudson",
          "Howard Pyle",
          "Virginia Woolf",
          "Lewis Carroll"
         ],
         "xaxis": "x2",
         "y": [
          4.362312444836717,
          4.7215411558669,
          4.741145440844009,
          5.095302927161335,
          5.144728225278324,
          4.816451393609789,
          4.808729139922979,
          4.675469781615033,
          4.811475409836065,
          4.836545875096376
         ],
         "yaxis": "y2"
        },
        {
         "marker": {
          "color": "#f1c40f"
         },
         "name": "gemini-1.5-flash",
         "showlegend": false,
         "type": "bar",
         "x": [
          "Mark Twain",
          "Zane Grey",
          "Joseph Conrad",
          "George Eliot",
          "Benjamin Disraeli",
          "Lucy Maud Montgomery",
          "William Henry Hudson",
          "Howard Pyle",
          "Virginia Woolf",
          "Lewis Carroll"
         ],
         "xaxis": "x4",
         "y": [
          18.727272727272727,
          17.515337423312882,
          20.259541984732824,
          23.317460317460316,
          22.130434782608695,
          15.648936170212766,
          22.579710144927535,
          17.121739130434783,
          21.64516129032258,
          18.52857142857143
         ],
         "yaxis": "y4"
        },
        {
         "marker": {
          "color": "#9b59b6"
         },
         "name": "open-mixtral-8x7b",
         "showlegend": false,
         "type": "bar",
         "x": [
          "Mark Twain",
          "Zane Grey",
          "Joseph Conrad",
          "George Eliot",
          "Benjamin Disraeli",
          "Lucy Maud Montgomery",
          "William Henry Hudson",
          "Howard Pyle",
          "Virginia Woolf",
          "Lewis Carroll"
         ],
         "xaxis": "x",
         "y": [
          2388,
          2899,
          2229,
          2850,
          2075,
          1604,
          2014,
          1541,
          2586,
          1045
         ],
         "yaxis": "y"
        },
        {
         "marker": {
          "color": "#9b59b6"
         },
         "name": "open-mixtral-8x7b",
         "type": "bar",
         "x": [
          "Mark Twain",
          "Zane Grey",
          "Joseph Conrad",
          "George Eliot",
          "Benjamin Disraeli",
          "Lucy Maud Montgomery",
          "William Henry Hudson",
          "Howard Pyle",
          "Virginia Woolf",
          "Lewis Carroll"
         ],
         "xaxis": "x3",
         "y": [
          899,
          1099,
          872,
          1034,
          894,
          708,
          839,
          569,
          949,
          562
         ],
         "yaxis": "y3"
        },
        {
         "marker": {
          "color": "#9b59b6"
         },
         "name": "open-mixtral-8x7b",
         "showlegend": false,
         "type": "bar",
         "x": [
          "Mark Twain",
          "Zane Grey",
          "Joseph Conrad",
          "George Eliot",
          "Benjamin Disraeli",
          "Lucy Maud Montgomery",
          "William Henry Hudson",
          "Howard Pyle",
          "Virginia Woolf",
          "Lewis Carroll"
         ],
         "xaxis": "x2",
         "y": [
          4.282244556113903,
          4.5764056571231455,
          4.893674293405114,
          5.0164912280701754,
          4.886746987951807,
          4.5997506234413965,
          4.808341608738828,
          4.4594419208306295,
          4.610208816705336,
          4.797129186602871
         ],
         "yaxis": "y2"
        },
        {
         "marker": {
          "color": "#9b59b6"
         },
         "name": "open-mixtral-8x7b",
         "showlegend": false,
         "type": "bar",
         "x": [
          "Mark Twain",
          "Zane Grey",
          "Joseph Conrad",
          "George Eliot",
          "Benjamin Disraeli",
          "Lucy Maud Montgomery",
          "William Henry Hudson",
          "Howard Pyle",
          "Virginia Woolf",
          "Lewis Carroll"
         ],
         "xaxis": "x4",
         "y": [
          17.304347826086957,
          21.796992481203006,
          28.576923076923077,
          31.318681318681318,
          28.819444444444443,
          20.83116883116883,
          31.46875,
          32.104166666666664,
          31.156626506024097,
          21.3265306122449
         ],
         "yaxis": "y4"
        },
        {
         "marker": {
          "color": "#e67e22"
         },
         "name": "claude-3-haiku-20240307",
         "showlegend": false,
         "type": "bar",
         "x": [
          "Mark Twain",
          "Zane Grey",
          "Joseph Conrad",
          "George Eliot",
          "Benjamin Disraeli",
          "Lucy Maud Montgomery",
          "William Henry Hudson",
          "Howard Pyle",
          "Virginia Woolf",
          "Lewis Carroll"
         ],
         "xaxis": "x",
         "y": [
          3021,
          3940,
          1663,
          2425,
          2294,
          2754,
          3618,
          3729,
          1713,
          2751
         ],
         "yaxis": "y"
        },
        {
         "marker": {
          "color": "#e67e22"
         },
         "name": "claude-3-haiku-20240307",
         "type": "bar",
         "x": [
          "Mark Twain",
          "Zane Grey",
          "Joseph Conrad",
          "George Eliot",
          "Benjamin Disraeli",
          "Lucy Maud Montgomery",
          "William Henry Hudson",
          "Howard Pyle",
          "Virginia Woolf",
          "Lewis Carroll"
         ],
         "xaxis": "x3",
         "y": [
          1180,
          1465,
          744,
          928,
          912,
          1069,
          1216,
          820,
          698,
          1030
         ],
         "yaxis": "y3"
        },
        {
         "marker": {
          "color": "#e67e22"
         },
         "name": "claude-3-haiku-20240307",
         "showlegend": false,
         "type": "bar",
         "x": [
          "Mark Twain",
          "Zane Grey",
          "Joseph Conrad",
          "George Eliot",
          "Benjamin Disraeli",
          "Lucy Maud Montgomery",
          "William Henry Hudson",
          "Howard Pyle",
          "Virginia Woolf",
          "Lewis Carroll"
         ],
         "xaxis": "x2",
         "y": [
          4.5858987090367425,
          4.66979695431472,
          5.0048105832832235,
          4.808247422680412,
          4.887532693984307,
          4.816993464052287,
          5.1531232725262575,
          4.875301689460981,
          4.80385288966725,
          4.768811341330426
         ],
         "yaxis": "y2"
        },
        {
         "marker": {
          "color": "#e67e22"
         },
         "name": "claude-3-haiku-20240307",
         "showlegend": false,
         "type": "bar",
         "x": [
          "Mark Twain",
          "Zane Grey",
          "Joseph Conrad",
          "George Eliot",
          "Benjamin Disraeli",
          "Lucy Maud Montgomery",
          "William Henry Hudson",
          "Howard Pyle",
          "Virginia Woolf",
          "Lewis Carroll"
         ],
         "xaxis": "x4",
         "y": [
          20.00662251655629,
          19.408866995073893,
          25.584615384615386,
          28.86904761904762,
          25.208791208791208,
          23.94782608695652,
          27.61832061068702,
          25.717241379310344,
          25.954545454545453,
          26.70873786407767
         ],
         "yaxis": "y4"
        }
       ],
       "layout": {
        "annotations": [
         {
          "font": {
           "size": 16
          },
          "showarrow": false,
          "text": "Word counts",
          "x": 0.225,
          "xanchor": "center",
          "xref": "paper",
          "y": 1,
          "yanchor": "bottom",
          "yref": "paper"
         },
         {
          "font": {
           "size": 16
          },
          "showarrow": false,
          "text": "Average word length",
          "x": 0.775,
          "xanchor": "center",
          "xref": "paper",
          "y": 1,
          "yanchor": "bottom",
          "yref": "paper"
         },
         {
          "font": {
           "size": 16
          },
          "showarrow": false,
          "text": "Unique word count",
          "x": 0.225,
          "xanchor": "center",
          "xref": "paper",
          "y": 0.375,
          "yanchor": "bottom",
          "yref": "paper"
         },
         {
          "font": {
           "size": 16
          },
          "showarrow": false,
          "text": "Average sentence length",
          "x": 0.775,
          "xanchor": "center",
          "xref": "paper",
          "y": 0.375,
          "yanchor": "bottom",
          "yref": "paper"
         }
        ],
        "legend": {
         "title": {
          "text": "Text source"
         }
        },
        "template": {
         "data": {
          "bar": [
           {
            "error_x": {
             "color": "#2a3f5f"
            },
            "error_y": {
             "color": "#2a3f5f"
            },
            "marker": {
             "line": {
              "color": "#E5ECF6",
              "width": 0.5
             },
             "pattern": {
              "fillmode": "overlay",
              "size": 10,
              "solidity": 0.2
             }
            },
            "type": "bar"
           }
          ],
          "barpolar": [
           {
            "marker": {
             "line": {
              "color": "#E5ECF6",
              "width": 0.5
             },
             "pattern": {
              "fillmode": "overlay",
              "size": 10,
              "solidity": 0.2
             }
            },
            "type": "barpolar"
           }
          ],
          "carpet": [
           {
            "aaxis": {
             "endlinecolor": "#2a3f5f",
             "gridcolor": "white",
             "linecolor": "white",
             "minorgridcolor": "white",
             "startlinecolor": "#2a3f5f"
            },
            "baxis": {
             "endlinecolor": "#2a3f5f",
             "gridcolor": "white",
             "linecolor": "white",
             "minorgridcolor": "white",
             "startlinecolor": "#2a3f5f"
            },
            "type": "carpet"
           }
          ],
          "choropleth": [
           {
            "colorbar": {
             "outlinewidth": 0,
             "ticks": ""
            },
            "type": "choropleth"
           }
          ],
          "contour": [
           {
            "colorbar": {
             "outlinewidth": 0,
             "ticks": ""
            },
            "colorscale": [
             [
              0,
              "#0d0887"
             ],
             [
              0.1111111111111111,
              "#46039f"
             ],
             [
              0.2222222222222222,
              "#7201a8"
             ],
             [
              0.3333333333333333,
              "#9c179e"
             ],
             [
              0.4444444444444444,
              "#bd3786"
             ],
             [
              0.5555555555555556,
              "#d8576b"
             ],
             [
              0.6666666666666666,
              "#ed7953"
             ],
             [
              0.7777777777777778,
              "#fb9f3a"
             ],
             [
              0.8888888888888888,
              "#fdca26"
             ],
             [
              1,
              "#f0f921"
             ]
            ],
            "type": "contour"
           }
          ],
          "contourcarpet": [
           {
            "colorbar": {
             "outlinewidth": 0,
             "ticks": ""
            },
            "type": "contourcarpet"
           }
          ],
          "heatmap": [
           {
            "colorbar": {
             "outlinewidth": 0,
             "ticks": ""
            },
            "colorscale": [
             [
              0,
              "#0d0887"
             ],
             [
              0.1111111111111111,
              "#46039f"
             ],
             [
              0.2222222222222222,
              "#7201a8"
             ],
             [
              0.3333333333333333,
              "#9c179e"
             ],
             [
              0.4444444444444444,
              "#bd3786"
             ],
             [
              0.5555555555555556,
              "#d8576b"
             ],
             [
              0.6666666666666666,
              "#ed7953"
             ],
             [
              0.7777777777777778,
              "#fb9f3a"
             ],
             [
              0.8888888888888888,
              "#fdca26"
             ],
             [
              1,
              "#f0f921"
             ]
            ],
            "type": "heatmap"
           }
          ],
          "heatmapgl": [
           {
            "colorbar": {
             "outlinewidth": 0,
             "ticks": ""
            },
            "colorscale": [
             [
              0,
              "#0d0887"
             ],
             [
              0.1111111111111111,
              "#46039f"
             ],
             [
              0.2222222222222222,
              "#7201a8"
             ],
             [
              0.3333333333333333,
              "#9c179e"
             ],
             [
              0.4444444444444444,
              "#bd3786"
             ],
             [
              0.5555555555555556,
              "#d8576b"
             ],
             [
              0.6666666666666666,
              "#ed7953"
             ],
             [
              0.7777777777777778,
              "#fb9f3a"
             ],
             [
              0.8888888888888888,
              "#fdca26"
             ],
             [
              1,
              "#f0f921"
             ]
            ],
            "type": "heatmapgl"
           }
          ],
          "histogram": [
           {
            "marker": {
             "pattern": {
              "fillmode": "overlay",
              "size": 10,
              "solidity": 0.2
             }
            },
            "type": "histogram"
           }
          ],
          "histogram2d": [
           {
            "colorbar": {
             "outlinewidth": 0,
             "ticks": ""
            },
            "colorscale": [
             [
              0,
              "#0d0887"
             ],
             [
              0.1111111111111111,
              "#46039f"
             ],
             [
              0.2222222222222222,
              "#7201a8"
             ],
             [
              0.3333333333333333,
              "#9c179e"
             ],
             [
              0.4444444444444444,
              "#bd3786"
             ],
             [
              0.5555555555555556,
              "#d8576b"
             ],
             [
              0.6666666666666666,
              "#ed7953"
             ],
             [
              0.7777777777777778,
              "#fb9f3a"
             ],
             [
              0.8888888888888888,
              "#fdca26"
             ],
             [
              1,
              "#f0f921"
             ]
            ],
            "type": "histogram2d"
           }
          ],
          "histogram2dcontour": [
           {
            "colorbar": {
             "outlinewidth": 0,
             "ticks": ""
            },
            "colorscale": [
             [
              0,
              "#0d0887"
             ],
             [
              0.1111111111111111,
              "#46039f"
             ],
             [
              0.2222222222222222,
              "#7201a8"
             ],
             [
              0.3333333333333333,
              "#9c179e"
             ],
             [
              0.4444444444444444,
              "#bd3786"
             ],
             [
              0.5555555555555556,
              "#d8576b"
             ],
             [
              0.6666666666666666,
              "#ed7953"
             ],
             [
              0.7777777777777778,
              "#fb9f3a"
             ],
             [
              0.8888888888888888,
              "#fdca26"
             ],
             [
              1,
              "#f0f921"
             ]
            ],
            "type": "histogram2dcontour"
           }
          ],
          "mesh3d": [
           {
            "colorbar": {
             "outlinewidth": 0,
             "ticks": ""
            },
            "type": "mesh3d"
           }
          ],
          "parcoords": [
           {
            "line": {
             "colorbar": {
              "outlinewidth": 0,
              "ticks": ""
             }
            },
            "type": "parcoords"
           }
          ],
          "pie": [
           {
            "automargin": true,
            "type": "pie"
           }
          ],
          "scatter": [
           {
            "fillpattern": {
             "fillmode": "overlay",
             "size": 10,
             "solidity": 0.2
            },
            "type": "scatter"
           }
          ],
          "scatter3d": [
           {
            "line": {
             "colorbar": {
              "outlinewidth": 0,
              "ticks": ""
             }
            },
            "marker": {
             "colorbar": {
              "outlinewidth": 0,
              "ticks": ""
             }
            },
            "type": "scatter3d"
           }
          ],
          "scattercarpet": [
           {
            "marker": {
             "colorbar": {
              "outlinewidth": 0,
              "ticks": ""
             }
            },
            "type": "scattercarpet"
           }
          ],
          "scattergeo": [
           {
            "marker": {
             "colorbar": {
              "outlinewidth": 0,
              "ticks": ""
             }
            },
            "type": "scattergeo"
           }
          ],
          "scattergl": [
           {
            "marker": {
             "colorbar": {
              "outlinewidth": 0,
              "ticks": ""
             }
            },
            "type": "scattergl"
           }
          ],
          "scattermapbox": [
           {
            "marker": {
             "colorbar": {
              "outlinewidth": 0,
              "ticks": ""
             }
            },
            "type": "scattermapbox"
           }
          ],
          "scatterpolar": [
           {
            "marker": {
             "colorbar": {
              "outlinewidth": 0,
              "ticks": ""
             }
            },
            "type": "scatterpolar"
           }
          ],
          "scatterpolargl": [
           {
            "marker": {
             "colorbar": {
              "outlinewidth": 0,
              "ticks": ""
             }
            },
            "type": "scatterpolargl"
           }
          ],
          "scatterternary": [
           {
            "marker": {
             "colorbar": {
              "outlinewidth": 0,
              "ticks": ""
             }
            },
            "type": "scatterternary"
           }
          ],
          "surface": [
           {
            "colorbar": {
             "outlinewidth": 0,
             "ticks": ""
            },
            "colorscale": [
             [
              0,
              "#0d0887"
             ],
             [
              0.1111111111111111,
              "#46039f"
             ],
             [
              0.2222222222222222,
              "#7201a8"
             ],
             [
              0.3333333333333333,
              "#9c179e"
             ],
             [
              0.4444444444444444,
              "#bd3786"
             ],
             [
              0.5555555555555556,
              "#d8576b"
             ],
             [
              0.6666666666666666,
              "#ed7953"
             ],
             [
              0.7777777777777778,
              "#fb9f3a"
             ],
             [
              0.8888888888888888,
              "#fdca26"
             ],
             [
              1,
              "#f0f921"
             ]
            ],
            "type": "surface"
           }
          ],
          "table": [
           {
            "cells": {
             "fill": {
              "color": "#EBF0F8"
             },
             "line": {
              "color": "white"
             }
            },
            "header": {
             "fill": {
              "color": "#C8D4E3"
             },
             "line": {
              "color": "white"
             }
            },
            "type": "table"
           }
          ]
         },
         "layout": {
          "annotationdefaults": {
           "arrowcolor": "#2a3f5f",
           "arrowhead": 0,
           "arrowwidth": 1
          },
          "autotypenumbers": "strict",
          "coloraxis": {
           "colorbar": {
            "outlinewidth": 0,
            "ticks": ""
           }
          },
          "colorscale": {
           "diverging": [
            [
             0,
             "#8e0152"
            ],
            [
             0.1,
             "#c51b7d"
            ],
            [
             0.2,
             "#de77ae"
            ],
            [
             0.3,
             "#f1b6da"
            ],
            [
             0.4,
             "#fde0ef"
            ],
            [
             0.5,
             "#f7f7f7"
            ],
            [
             0.6,
             "#e6f5d0"
            ],
            [
             0.7,
             "#b8e186"
            ],
            [
             0.8,
             "#7fbc41"
            ],
            [
             0.9,
             "#4d9221"
            ],
            [
             1,
             "#276419"
            ]
           ],
           "sequential": [
            [
             0,
             "#0d0887"
            ],
            [
             0.1111111111111111,
             "#46039f"
            ],
            [
             0.2222222222222222,
             "#7201a8"
            ],
            [
             0.3333333333333333,
             "#9c179e"
            ],
            [
             0.4444444444444444,
             "#bd3786"
            ],
            [
             0.5555555555555556,
             "#d8576b"
            ],
            [
             0.6666666666666666,
             "#ed7953"
            ],
            [
             0.7777777777777778,
             "#fb9f3a"
            ],
            [
             0.8888888888888888,
             "#fdca26"
            ],
            [
             1,
             "#f0f921"
            ]
           ],
           "sequentialminus": [
            [
             0,
             "#0d0887"
            ],
            [
             0.1111111111111111,
             "#46039f"
            ],
            [
             0.2222222222222222,
             "#7201a8"
            ],
            [
             0.3333333333333333,
             "#9c179e"
            ],
            [
             0.4444444444444444,
             "#bd3786"
            ],
            [
             0.5555555555555556,
             "#d8576b"
            ],
            [
             0.6666666666666666,
             "#ed7953"
            ],
            [
             0.7777777777777778,
             "#fb9f3a"
            ],
            [
             0.8888888888888888,
             "#fdca26"
            ],
            [
             1,
             "#f0f921"
            ]
           ]
          },
          "colorway": [
           "#636efa",
           "#EF553B",
           "#00cc96",
           "#ab63fa",
           "#FFA15A",
           "#19d3f3",
           "#FF6692",
           "#B6E880",
           "#FF97FF",
           "#FECB52"
          ],
          "font": {
           "color": "#2a3f5f"
          },
          "geo": {
           "bgcolor": "white",
           "lakecolor": "white",
           "landcolor": "#E5ECF6",
           "showlakes": true,
           "showland": true,
           "subunitcolor": "white"
          },
          "hoverlabel": {
           "align": "left"
          },
          "hovermode": "closest",
          "mapbox": {
           "style": "light"
          },
          "paper_bgcolor": "white",
          "plot_bgcolor": "#E5ECF6",
          "polar": {
           "angularaxis": {
            "gridcolor": "white",
            "linecolor": "white",
            "ticks": ""
           },
           "bgcolor": "#E5ECF6",
           "radialaxis": {
            "gridcolor": "white",
            "linecolor": "white",
            "ticks": ""
           }
          },
          "scene": {
           "xaxis": {
            "backgroundcolor": "#E5ECF6",
            "gridcolor": "white",
            "gridwidth": 2,
            "linecolor": "white",
            "showbackground": true,
            "ticks": "",
            "zerolinecolor": "white"
           },
           "yaxis": {
            "backgroundcolor": "#E5ECF6",
            "gridcolor": "white",
            "gridwidth": 2,
            "linecolor": "white",
            "showbackground": true,
            "ticks": "",
            "zerolinecolor": "white"
           },
           "zaxis": {
            "backgroundcolor": "#E5ECF6",
            "gridcolor": "white",
            "gridwidth": 2,
            "linecolor": "white",
            "showbackground": true,
            "ticks": "",
            "zerolinecolor": "white"
           }
          },
          "shapedefaults": {
           "line": {
            "color": "#2a3f5f"
           }
          },
          "ternary": {
           "aaxis": {
            "gridcolor": "white",
            "linecolor": "white",
            "ticks": ""
           },
           "baxis": {
            "gridcolor": "white",
            "linecolor": "white",
            "ticks": ""
           },
           "bgcolor": "#E5ECF6",
           "caxis": {
            "gridcolor": "white",
            "linecolor": "white",
            "ticks": ""
           }
          },
          "title": {
           "x": 0.05
          },
          "xaxis": {
           "automargin": true,
           "gridcolor": "white",
           "linecolor": "white",
           "ticks": "",
           "title": {
            "standoff": 15
           },
           "zerolinecolor": "white",
           "zerolinewidth": 2
          },
          "yaxis": {
           "automargin": true,
           "gridcolor": "white",
           "linecolor": "white",
           "ticks": "",
           "title": {
            "standoff": 15
           },
           "zerolinecolor": "white",
           "zerolinewidth": 2
          }
         }
        },
        "xaxis": {
         "anchor": "y",
         "domain": [
          0,
          0.45
         ],
         "tickfont": {
          "size": 10
         }
        },
        "xaxis2": {
         "anchor": "y2",
         "domain": [
          0.55,
          1
         ],
         "tickfont": {
          "size": 10
         }
        },
        "xaxis3": {
         "anchor": "y3",
         "domain": [
          0,
          0.45
         ],
         "tickfont": {
          "size": 10
         }
        },
        "xaxis4": {
         "anchor": "y4",
         "domain": [
          0.55,
          1
         ],
         "tickfont": {
          "size": 10
         }
        },
        "yaxis": {
         "anchor": "x",
         "domain": [
          0.625,
          1
         ]
        },
        "yaxis2": {
         "anchor": "x2",
         "domain": [
          0.625,
          1
         ]
        },
        "yaxis3": {
         "anchor": "x3",
         "domain": [
          0,
          0.375
         ]
        },
        "yaxis4": {
         "anchor": "x4",
         "domain": [
          0,
          0.375
         ]
        }
       }
      }
     },
     "metadata": {},
     "output_type": "display_data"
    },
    {
     "data": {
      "application/vnd.plotly.v1+json": {
       "config": {
        "plotlyServerURL": "https://plot.ly"
       },
       "data": [
        {
         "marker": {
          "color": "#3498db"
         },
         "name": "books",
         "showlegend": true,
         "type": "bar",
         "x": [
          "the",
          "of",
          "and",
          "in",
          "to",
          "a",
          "was",
          "that",
          "it",
          "ye"
         ],
         "xaxis": "x",
         "y": [
          484,
          413,
          306,
          244,
          229,
          226,
          145,
          138,
          137,
          125
         ],
         "yaxis": "y"
        },
        {
         "marker": {
          "color": "#3498db"
         },
         "name": "books",
         "showlegend": false,
         "type": "bar",
         "x": [
          "the",
          "and",
          "of",
          "a",
          "to",
          "he",
          "in",
          "i",
          "was",
          "had"
         ],
         "xaxis": "x2",
         "y": [
          606,
          344,
          297,
          256,
          232,
          172,
          148,
          131,
          128,
          124
         ],
         "yaxis": "y2"
        },
        {
         "marker": {
          "color": "#3498db"
         },
         "name": "books",
         "showlegend": false,
         "type": "bar",
         "x": [
          "the",
          "a",
          "i",
          "of",
          "to",
          "he",
          "and",
          "in",
          "was",
          "his"
         ],
         "xaxis": "x3",
         "y": [
          470,
          337,
          330,
          313,
          251,
          199,
          191,
          175,
          169,
          149
         ],
         "yaxis": "y3"
        },
        {
         "marker": {
          "color": "#3498db"
         },
         "name": "books",
         "showlegend": false,
         "type": "bar",
         "x": [
          "the",
          "and",
          "a",
          "of",
          "to",
          "s",
          "as",
          "in",
          "he",
          "his"
         ],
         "xaxis": "x4",
         "y": [
          543,
          303,
          274,
          274,
          268,
          159,
          138,
          133,
          129,
          127
         ],
         "yaxis": "y4"
        },
        {
         "marker": {
          "color": "#3498db"
         },
         "name": "books",
         "showlegend": false,
         "type": "bar",
         "x": [
          "the",
          "and",
          "of",
          "a",
          "i",
          "to",
          "in",
          "he",
          "my",
          "his"
         ],
         "xaxis": "x5",
         "y": [
          657,
          408,
          309,
          250,
          189,
          156,
          131,
          118,
          118,
          116
         ],
         "yaxis": "y5"
        },
        {
         "marker": {
          "color": "#3498db"
         },
         "name": "books",
         "showlegend": false,
         "type": "bar",
         "x": [
          "the",
          "and",
          "to",
          "i",
          "a",
          "of",
          "it",
          "you",
          "in",
          "that"
         ],
         "xaxis": "x6",
         "y": [
          345,
          298,
          267,
          230,
          226,
          176,
          171,
          147,
          143,
          135
         ],
         "yaxis": "y6"
        },
        {
         "marker": {
          "color": "#3498db"
         },
         "name": "books",
         "showlegend": false,
         "type": "bar",
         "x": [
          "the",
          "and",
          "a",
          "of",
          "i",
          "to",
          "in",
          "was",
          "that",
          "it"
         ],
         "xaxis": "x7",
         "y": [
          555,
          333,
          317,
          303,
          292,
          252,
          174,
          133,
          111,
          110
         ],
         "yaxis": "y7"
        },
        {
         "marker": {
          "color": "#3498db"
         },
         "name": "books",
         "showlegend": false,
         "type": "bar",
         "x": [
          "the",
          "of",
          "and",
          "to",
          "a",
          "was",
          "in",
          "that",
          "it",
          "as"
         ],
         "xaxis": "x8",
         "y": [
          803,
          496,
          402,
          246,
          200,
          181,
          161,
          109,
          87,
          86
         ],
         "yaxis": "y8"
        },
        {
         "marker": {
          "color": "#3498db"
         },
         "name": "books",
         "showlegend": false,
         "type": "bar",
         "x": [
          "the",
          "and",
          "of",
          "a",
          "in",
          "was",
          "to",
          "she",
          "her",
          "he"
         ],
         "xaxis": "x9",
         "y": [
          782,
          334,
          225,
          215,
          185,
          170,
          168,
          140,
          134,
          133
         ],
         "yaxis": "y9"
        },
        {
         "marker": {
          "color": "#3498db"
         },
         "name": "books",
         "showlegend": false,
         "type": "bar",
         "x": [
          "the",
          "and",
          "of",
          "a",
          "to",
          "in",
          "it",
          "you",
          "i",
          "said"
         ],
         "xaxis": "x10",
         "y": [
          641,
          287,
          240,
          223,
          220,
          169,
          140,
          125,
          122,
          114
         ],
         "yaxis": "y10"
        },
        {
         "marker": {
          "color": "#e74c3c"
         },
         "name": "gpt-3.5-turbo-0125",
         "showlegend": true,
         "type": "bar",
         "x": [
          "the",
          "and",
          "a",
          "of",
          "to",
          "his",
          "in",
          "with",
          "i",
          "was"
         ],
         "xaxis": "x11",
         "y": [
          109,
          60,
          57,
          43,
          39,
          30,
          28,
          24,
          19,
          16
         ],
         "yaxis": "y11"
        },
        {
         "marker": {
          "color": "#e74c3c"
         },
         "name": "gpt-3.5-turbo-0125",
         "showlegend": false,
         "type": "bar",
         "x": [
          "the",
          "a",
          "and",
          "of",
          "that",
          "in",
          "to",
          "with",
          "i",
          "his"
         ],
         "xaxis": "x12",
         "y": [
          131,
          97,
          82,
          75,
          37,
          35,
          33,
          28,
          24,
          23
         ],
         "yaxis": "y12"
        },
        {
         "marker": {
          "color": "#e74c3c"
         },
         "name": "gpt-3.5-turbo-0125",
         "showlegend": false,
         "type": "bar",
         "x": [
          "the",
          "a",
          "and",
          "of",
          "to",
          "in",
          "with",
          "that",
          "is",
          "it"
         ],
         "xaxis": "x13",
         "y": [
          124,
          75,
          66,
          66,
          50,
          31,
          30,
          21,
          18,
          18
         ],
         "yaxis": "y13"
        },
        {
         "marker": {
          "color": "#e74c3c"
         },
         "name": "gpt-3.5-turbo-0125",
         "showlegend": false,
         "type": "bar",
         "x": [
          "the",
          "of",
          "a",
          "and",
          "was",
          "to",
          "in",
          "that",
          "it",
          "as"
         ],
         "xaxis": "x14",
         "y": [
          113,
          51,
          44,
          39,
          30,
          28,
          24,
          24,
          20,
          15
         ],
         "yaxis": "y14"
        },
        {
         "marker": {
          "color": "#e74c3c"
         },
         "name": "gpt-3.5-turbo-0125",
         "showlegend": false,
         "type": "bar",
         "x": [
          "the",
          "a",
          "of",
          "and",
          "to",
          "that",
          "is",
          "it",
          "as",
          "with"
         ],
         "xaxis": "x15",
         "y": [
          55,
          52,
          44,
          41,
          34,
          26,
          20,
          18,
          16,
          16
         ],
         "yaxis": "y15"
        },
        {
         "marker": {
          "color": "#e74c3c"
         },
         "name": "gpt-3.5-turbo-0125",
         "showlegend": false,
         "type": "bar",
         "x": [
          "the",
          "a",
          "and",
          "of",
          "to",
          "in",
          "as",
          "with",
          "that",
          "was"
         ],
         "xaxis": "x16",
         "y": [
          98,
          63,
          54,
          54,
          40,
          22,
          20,
          17,
          16,
          16
         ],
         "yaxis": "y16"
        },
        {
         "marker": {
          "color": "#e74c3c"
         },
         "name": "gpt-3.5-turbo-0125",
         "showlegend": false,
         "type": "bar",
         "x": [
          "the",
          "and",
          "of",
          "a",
          "to",
          "in",
          "that",
          "i",
          "my",
          "was"
         ],
         "xaxis": "x17",
         "y": [
          86,
          66,
          66,
          60,
          25,
          23,
          22,
          20,
          17,
          15
         ],
         "yaxis": "y17"
        },
        {
         "marker": {
          "color": "#e74c3c"
         },
         "name": "gpt-3.5-turbo-0125",
         "showlegend": false,
         "type": "bar",
         "x": [
          "the",
          "a",
          "and",
          "to",
          "was",
          "of",
          "it",
          "that",
          "with",
          "i"
         ],
         "xaxis": "x18",
         "y": [
          58,
          41,
          41,
          36,
          32,
          28,
          23,
          20,
          18,
          17
         ],
         "yaxis": "y18"
        },
        {
         "marker": {
          "color": "#e74c3c"
         },
         "name": "gpt-3.5-turbo-0125",
         "showlegend": false,
         "type": "bar",
         "x": [
          "the",
          "and",
          "of",
          "a",
          "to",
          "in",
          "as",
          "is",
          "that",
          "for"
         ],
         "xaxis": "x19",
         "y": [
          99,
          55,
          55,
          54,
          40,
          26,
          19,
          18,
          16,
          15
         ],
         "yaxis": "y19"
        },
        {
         "marker": {
          "color": "#e74c3c"
         },
         "name": "gpt-3.5-turbo-0125",
         "showlegend": false,
         "type": "bar",
         "x": [
          "the",
          "a",
          "of",
          "and",
          "in",
          "to",
          "was",
          "with",
          "their",
          "i"
         ],
         "xaxis": "x20",
         "y": [
          108,
          57,
          48,
          42,
          27,
          22,
          20,
          18,
          17,
          13
         ],
         "yaxis": "y20"
        },
        {
         "marker": {
          "color": "#2ecc71"
         },
         "name": "gpt-4o",
         "showlegend": true,
         "type": "bar",
         "x": [
          "the",
          "a",
          "and",
          "of",
          "to",
          "that",
          "you",
          "i",
          "with",
          "it"
         ],
         "xaxis": "x21",
         "y": [
          135,
          109,
          84,
          79,
          56,
          47,
          40,
          35,
          30,
          27
         ],
         "yaxis": "y21"
        },
        {
         "marker": {
          "color": "#2ecc71"
         },
         "name": "gpt-4o",
         "showlegend": false,
         "type": "bar",
         "x": [
          "the",
          "a",
          "of",
          "and",
          "was",
          "to",
          "that",
          "with",
          "as",
          "it"
         ],
         "xaxis": "x22",
         "y": [
          253,
          112,
          112,
          82,
          48,
          46,
          45,
          34,
          29,
          29
         ],
         "yaxis": "y22"
        },
        {
         "marker": {
          "color": "#2ecc71"
         },
         "name": "gpt-4o",
         "showlegend": false,
         "type": "bar",
         "x": [
          "the",
          "of",
          "a",
          "and",
          "to",
          "that",
          "is",
          "it",
          "with",
          "in"
         ],
         "xaxis": "x23",
         "y": [
          229,
          131,
          121,
          74,
          63,
          60,
          39,
          31,
          31,
          30
         ],
         "yaxis": "y23"
        },
        {
         "marker": {
          "color": "#2ecc71"
         },
         "name": "gpt-4o",
         "showlegend": false,
         "type": "bar",
         "x": [
          "the",
          "a",
          "of",
          "and",
          "to",
          "with",
          "that",
          "was",
          "it",
          "from"
         ],
         "xaxis": "x24",
         "y": [
          150,
          84,
          84,
          59,
          32,
          30,
          29,
          24,
          16,
          13
         ],
         "yaxis": "y24"
        },
        {
         "marker": {
          "color": "#2ecc71"
         },
         "name": "gpt-4o",
         "showlegend": false,
         "type": "bar",
         "x": [
          "the",
          "of",
          "a",
          "and",
          "to",
          "that",
          "with",
          "in",
          "one",
          "was"
         ],
         "xaxis": "x25",
         "y": [
          117,
          81,
          70,
          37,
          30,
          27,
          27,
          25,
          25,
          22
         ],
         "yaxis": "y25"
        },
        {
         "marker": {
          "color": "#2ecc71"
         },
         "name": "gpt-4o",
         "showlegend": false,
         "type": "bar",
         "x": [
          "the",
          "of",
          "a",
          "and",
          "to",
          "with",
          "that",
          "in",
          "is",
          "as"
         ],
         "xaxis": "x26",
         "y": [
          151,
          85,
          77,
          48,
          39,
          30,
          26,
          23,
          19,
          18
         ],
         "yaxis": "y26"
        },
        {
         "marker": {
          "color": "#2ecc71"
         },
         "name": "gpt-4o",
         "showlegend": false,
         "type": "bar",
         "x": [
          "the",
          "of",
          "a",
          "and",
          "to",
          "in",
          "that",
          "with",
          "is",
          "as"
         ],
         "xaxis": "x27",
         "y": [
          185,
          123,
          96,
          71,
          53,
          39,
          37,
          33,
          18,
          17
         ],
         "yaxis": "y27"
        },
        {
         "marker": {
          "color": "#2ecc71"
         },
         "name": "gpt-4o",
         "showlegend": false,
         "type": "bar",
         "x": [
          "the",
          "of",
          "a",
          "and",
          "to",
          "with",
          "that",
          "was",
          "in",
          "their"
         ],
         "xaxis": "x28",
         "y": [
          157,
          77,
          74,
          66,
          38,
          38,
          37,
          29,
          21,
          21
         ],
         "yaxis": "y28"
        },
        {
         "marker": {
          "color": "#2ecc71"
         },
         "name": "gpt-4o",
         "showlegend": false,
         "type": "bar",
         "x": [
          "the",
          "a",
          "of",
          "and",
          "to",
          "that",
          "in",
          "with",
          "it",
          "is"
         ],
         "xaxis": "x29",
         "y": [
          133,
          98,
          88,
          71,
          48,
          40,
          32,
          28,
          24,
          23
         ],
         "yaxis": "y29"
        },
        {
         "marker": {
          "color": "#2ecc71"
         },
         "name": "gpt-4o",
         "showlegend": false,
         "type": "bar",
         "x": [
          "the",
          "a",
          "of",
          "and",
          "to",
          "that",
          "as",
          "their",
          "with",
          "it"
         ],
         "xaxis": "x30",
         "y": [
          148,
          107,
          81,
          63,
          51,
          30,
          26,
          25,
          25,
          23
         ],
         "yaxis": "y30"
        },
        {
         "marker": {
          "color": "#f1c40f"
         },
         "name": "gemini-1.5-flash",
         "showlegend": true,
         "type": "bar",
         "x": [
          "a",
          "the",
          "you",
          "of",
          "and",
          "it",
          "s",
          "to",
          "that",
          "in"
         ],
         "xaxis": "x31",
         "y": [
          157,
          109,
          80,
          74,
          71,
          55,
          48,
          45,
          38,
          31
         ],
         "yaxis": "y31"
        },
        {
         "marker": {
          "color": "#f1c40f"
         },
         "name": "gemini-1.5-flash",
         "showlegend": false,
         "type": "bar",
         "x": [
          "the",
          "of",
          "a",
          "and",
          "to",
          "i",
          "their",
          "was",
          "it",
          "that"
         ],
         "xaxis": "x32",
         "y": [
          272,
          147,
          142,
          90,
          63,
          48,
          47,
          40,
          36,
          36
         ],
         "yaxis": "y32"
        },
        {
         "marker": {
          "color": "#f1c40f"
         },
         "name": "gemini-1.5-flash",
         "showlegend": false,
         "type": "bar",
         "x": [
          "the",
          "a",
          "of",
          "and",
          "with",
          "that",
          "to",
          "their",
          "he",
          "its"
         ],
         "xaxis": "x33",
         "y": [
          240,
          178,
          168,
          62,
          58,
          55,
          43,
          40,
          32,
          26
         ],
         "yaxis": "y33"
        },
        {
         "marker": {
          "color": "#f1c40f"
         },
         "name": "gemini-1.5-flash",
         "showlegend": false,
         "type": "bar",
         "x": [
          "a",
          "the",
          "of",
          "and",
          "to",
          "with",
          "that",
          "its",
          "as",
          "was"
         ],
         "xaxis": "x34",
         "y": [
          111,
          100,
          88,
          53,
          34,
          23,
          22,
          15,
          13,
          11
         ],
         "yaxis": "y34"
        },
        {
         "marker": {
          "color": "#f1c40f"
         },
         "name": "gemini-1.5-flash",
         "showlegend": false,
         "type": "bar",
         "x": [
          "the",
          "a",
          "of",
          "and",
          "their",
          "with",
          "to",
          "that",
          "in",
          "its"
         ],
         "xaxis": "x35",
         "y": [
          134,
          98,
          76,
          47,
          30,
          30,
          26,
          22,
          19,
          18
         ],
         "yaxis": "y35"
        },
        {
         "marker": {
          "color": "#f1c40f"
         },
         "name": "gemini-1.5-flash",
         "showlegend": false,
         "type": "bar",
         "x": [
          "the",
          "a",
          "and",
          "of",
          "with",
          "in",
          "are",
          "to",
          "they",
          "she"
         ],
         "xaxis": "x36",
         "y": [
          117,
          65,
          59,
          59,
          31,
          28,
          25,
          24,
          19,
          17
         ],
         "yaxis": "y36"
        },
        {
         "marker": {
          "color": "#f1c40f"
         },
         "name": "gemini-1.5-flash",
         "showlegend": false,
         "type": "bar",
         "x": [
          "the",
          "of",
          "a",
          "and",
          "that",
          "to",
          "with",
          "is",
          "its",
          "was"
         ],
         "xaxis": "x37",
         "y": [
          149,
          124,
          117,
          47,
          42,
          33,
          23,
          15,
          15,
          15
         ],
         "yaxis": "y37"
        },
        {
         "marker": {
          "color": "#f1c40f"
         },
         "name": "gemini-1.5-flash",
         "showlegend": false,
         "type": "bar",
         "x": [
          "the",
          "a",
          "of",
          "and",
          "to",
          "it",
          "i",
          "is",
          "with",
          "that"
         ],
         "xaxis": "x38",
         "y": [
          137,
          84,
          72,
          63,
          59,
          40,
          35,
          35,
          34,
          27
         ],
         "yaxis": "y38"
        },
        {
         "marker": {
          "color": "#f1c40f"
         },
         "name": "gemini-1.5-flash",
         "showlegend": false,
         "type": "bar",
         "x": [
          "the",
          "a",
          "of",
          "and",
          "to",
          "with",
          "will",
          "its",
          "is",
          "that"
         ],
         "xaxis": "x39",
         "y": [
          111,
          107,
          71,
          48,
          28,
          20,
          18,
          15,
          14,
          13
         ],
         "yaxis": "y39"
        },
        {
         "marker": {
          "color": "#f1c40f"
         },
         "name": "gemini-1.5-flash",
         "showlegend": false,
         "type": "bar",
         "x": [
          "the",
          "a",
          "of",
          "and",
          "to",
          "with",
          "or",
          "be",
          "in",
          "it"
         ],
         "xaxis": "x40",
         "y": [
          103,
          98,
          90,
          38,
          32,
          31,
          12,
          11,
          11,
          11
         ],
         "yaxis": "y40"
        },
        {
         "marker": {
          "color": "#9b59b6"
         },
         "name": "open-mixtral-8x7b",
         "showlegend": true,
         "type": "bar",
         "x": [
          "a",
          "the",
          "to",
          "and",
          "of",
          "you",
          "that",
          "i",
          "in",
          "it"
         ],
         "xaxis": "x41",
         "y": [
          115,
          100,
          84,
          65,
          65,
          65,
          60,
          57,
          45,
          37
         ],
         "yaxis": "y41"
        },
        {
         "marker": {
          "color": "#9b59b6"
         },
         "name": "open-mixtral-8x7b",
         "showlegend": false,
         "type": "bar",
         "x": [
          "the",
          "and",
          "a",
          "of",
          "to",
          "was",
          "that",
          "in",
          "as",
          "with"
         ],
         "xaxis": "x42",
         "y": [
          271,
          137,
          135,
          122,
          75,
          52,
          49,
          43,
          39,
          38
         ],
         "yaxis": "y42"
        },
        {
         "marker": {
          "color": "#9b59b6"
         },
         "name": "open-mixtral-8x7b",
         "showlegend": false,
         "type": "bar",
         "x": [
          "the",
          "of",
          "and",
          "a",
          "in",
          "that",
          "its",
          "to",
          "with",
          "was"
         ],
         "xaxis": "x43",
         "y": [
          211,
          141,
          103,
          76,
          61,
          58,
          53,
          46,
          39,
          28
         ],
         "yaxis": "y43"
        },
        {
         "marker": {
          "color": "#9b59b6"
         },
         "name": "open-mixtral-8x7b",
         "showlegend": false,
         "type": "bar",
         "x": [
          "the",
          "of",
          "and",
          "a",
          "that",
          "in",
          "to",
          "his",
          "with",
          "is"
         ],
         "xaxis": "x44",
         "y": [
          281,
          185,
          165,
          114,
          74,
          60,
          58,
          47,
          38,
          35
         ],
         "yaxis": "y44"
        },
        {
         "marker": {
          "color": "#9b59b6"
         },
         "name": "open-mixtral-8x7b",
         "showlegend": false,
         "type": "bar",
         "x": [
          "the",
          "of",
          "a",
          "and",
          "to",
          "that",
          "in",
          "is",
          "as",
          "one"
         ],
         "xaxis": "x45",
         "y": [
          166,
          127,
          99,
          74,
          62,
          45,
          43,
          34,
          27,
          24
         ],
         "yaxis": "y45"
        },
        {
         "marker": {
          "color": "#9b59b6"
         },
         "name": "open-mixtral-8x7b",
         "showlegend": false,
         "type": "bar",
         "x": [
          "the",
          "and",
          "of",
          "a",
          "that",
          "to",
          "was",
          "it",
          "in",
          "with"
         ],
         "xaxis": "x46",
         "y": [
          148,
          76,
          72,
          59,
          38,
          36,
          31,
          26,
          25,
          23
         ],
         "yaxis": "y46"
        },
        {
         "marker": {
          "color": "#9b59b6"
         },
         "name": "open-mixtral-8x7b",
         "showlegend": false,
         "type": "bar",
         "x": [
          "the",
          "of",
          "and",
          "a",
          "to",
          "in",
          "i",
          "that",
          "it",
          "was"
         ],
         "xaxis": "x47",
         "y": [
          132,
          108,
          106,
          82,
          74,
          47,
          42,
          37,
          24,
          22
         ],
         "yaxis": "y47"
        },
        {
         "marker": {
          "color": "#9b59b6"
         },
         "name": "open-mixtral-8x7b",
         "showlegend": false,
         "type": "bar",
         "x": [
          "the",
          "and",
          "of",
          "a",
          "to",
          "that",
          "for",
          "one",
          "in",
          "their"
         ],
         "xaxis": "x48",
         "y": [
          122,
          84,
          68,
          53,
          50,
          43,
          33,
          25,
          23,
          21
         ],
         "yaxis": "y48"
        },
        {
         "marker": {
          "color": "#9b59b6"
         },
         "name": "open-mixtral-8x7b",
         "showlegend": false,
         "type": "bar",
         "x": [
          "the",
          "of",
          "and",
          "to",
          "a",
          "in",
          "that",
          "is",
          "with",
          "as"
         ],
         "xaxis": "x49",
         "y": [
          232,
          152,
          115,
          87,
          85,
          76,
          68,
          42,
          32,
          25
         ],
         "yaxis": "y49"
        },
        {
         "marker": {
          "color": "#9b59b6"
         },
         "name": "open-mixtral-8x7b",
         "showlegend": false,
         "type": "bar",
         "x": [
          "the",
          "a",
          "and",
          "of",
          "to",
          "in",
          "with",
          "was",
          "i",
          "or"
         ],
         "xaxis": "x50",
         "y": [
          59,
          44,
          44,
          33,
          26,
          23,
          22,
          16,
          15,
          12
         ],
         "yaxis": "y50"
        },
        {
         "marker": {
          "color": "#e67e22"
         },
         "name": "claude-3-haiku-20240307",
         "showlegend": true,
         "type": "bar",
         "x": [
          "the",
          "a",
          "of",
          "and",
          "to",
          "you",
          "i",
          "that",
          "in",
          "s"
         ],
         "xaxis": "x51",
         "y": [
          192,
          122,
          120,
          104,
          89,
          64,
          61,
          48,
          42,
          41
         ],
         "yaxis": "y51"
        },
        {
         "marker": {
          "color": "#e67e22"
         },
         "name": "claude-3-haiku-20240307",
         "showlegend": false,
         "type": "bar",
         "x": [
          "the",
          "a",
          "of",
          "and",
          "to",
          "i",
          "that",
          "you",
          "in",
          "my"
         ],
         "xaxis": "x52",
         "y": [
          315,
          151,
          147,
          125,
          85,
          74,
          68,
          57,
          53,
          53
         ],
         "yaxis": "y52"
        },
        {
         "marker": {
          "color": "#e67e22"
         },
         "name": "claude-3-haiku-20240307",
         "showlegend": false,
         "type": "bar",
         "x": [
          "the",
          "of",
          "a",
          "and",
          "to",
          "that",
          "as",
          "with",
          "i",
          "is"
         ],
         "xaxis": "x53",
         "y": [
          163,
          95,
          72,
          63,
          38,
          34,
          20,
          20,
          18,
          18
         ],
         "yaxis": "y53"
        },
        {
         "marker": {
          "color": "#e67e22"
         },
         "name": "claude-3-haiku-20240307",
         "showlegend": false,
         "type": "bar",
         "x": [
          "the",
          "of",
          "a",
          "and",
          "to",
          "that",
          "in",
          "with",
          "i",
          "my"
         ],
         "xaxis": "x54",
         "y": [
          202,
          130,
          109,
          80,
          72,
          58,
          42,
          41,
          35,
          32
         ],
         "yaxis": "y54"
        },
        {
         "marker": {
          "color": "#e67e22"
         },
         "name": "claude-3-haiku-20240307",
         "showlegend": false,
         "type": "bar",
         "x": [
          "the",
          "of",
          "a",
          "and",
          "to",
          "with",
          "in",
          "that",
          "your",
          "you"
         ],
         "xaxis": "x55",
         "y": [
          201,
          126,
          89,
          74,
          62,
          38,
          31,
          30,
          30,
          29
         ],
         "yaxis": "y55"
        },
        {
         "marker": {
          "color": "#e67e22"
         },
         "name": "claude-3-haiku-20240307",
         "showlegend": false,
         "type": "bar",
         "x": [
          "the",
          "of",
          "a",
          "and",
          "to",
          "i",
          "that",
          "in",
          "it",
          "with"
         ],
         "xaxis": "x56",
         "y": [
          219,
          126,
          104,
          92,
          73,
          54,
          39,
          35,
          32,
          30
         ],
         "yaxis": "y56"
        },
        {
         "marker": {
          "color": "#e67e22"
         },
         "name": "claude-3-haiku-20240307",
         "showlegend": false,
         "type": "bar",
         "x": [
          "the",
          "of",
          "a",
          "and",
          "their",
          "to",
          "that",
          "with",
          "in",
          "is"
         ],
         "xaxis": "x57",
         "y": [
          383,
          199,
          156,
          138,
          110,
          72,
          57,
          50,
          44,
          37
         ],
         "yaxis": "y57"
        },
        {
         "marker": {
          "color": "#e67e22"
         },
         "name": "claude-3-haiku-20240307",
         "showlegend": false,
         "type": "bar",
         "x": [
          "the",
          "of",
          "a",
          "and",
          "to",
          "that",
          "i",
          "with",
          "was",
          "my"
         ],
         "xaxis": "x58",
         "y": [
          273,
          196,
          187,
          158,
          124,
          110,
          80,
          74,
          70,
          50
         ],
         "yaxis": "y58"
        },
        {
         "marker": {
          "color": "#e67e22"
         },
         "name": "claude-3-haiku-20240307",
         "showlegend": false,
         "type": "bar",
         "x": [
          "the",
          "of",
          "a",
          "to",
          "and",
          "that",
          "in",
          "with",
          "where",
          "be"
         ],
         "xaxis": "x59",
         "y": [
          194,
          88,
          75,
          49,
          44,
          27,
          23,
          17,
          16,
          15
         ],
         "yaxis": "y59"
        },
        {
         "marker": {
          "color": "#e67e22"
         },
         "name": "claude-3-haiku-20240307",
         "showlegend": false,
         "type": "bar",
         "x": [
          "the",
          "of",
          "a",
          "and",
          "to",
          "that",
          "i",
          "with",
          "me",
          "as"
         ],
         "xaxis": "x60",
         "y": [
          159,
          129,
          128,
          101,
          71,
          58,
          51,
          47,
          35,
          34
         ],
         "yaxis": "y60"
        }
       ],
       "layout": {
        "annotations": [
         {
          "font": {
           "size": 10
          },
          "showarrow": false,
          "text": "Mark Twain",
          "x": 0.041,
          "xanchor": "center",
          "xref": "paper",
          "y": 0.9999999999999999,
          "yanchor": "bottom",
          "yref": "paper"
         },
         {
          "font": {
           "size": 10
          },
          "showarrow": false,
          "text": "Zane Grey",
          "x": 0.14300000000000002,
          "xanchor": "center",
          "xref": "paper",
          "y": 0.9999999999999999,
          "yanchor": "bottom",
          "yref": "paper"
         },
         {
          "font": {
           "size": 10
          },
          "showarrow": false,
          "text": "Joseph Conrad",
          "x": 0.24500000000000002,
          "xanchor": "center",
          "xref": "paper",
          "y": 0.9999999999999999,
          "yanchor": "bottom",
          "yref": "paper"
         },
         {
          "font": {
           "size": 10
          },
          "showarrow": false,
          "text": "George Eliot",
          "x": 0.347,
          "xanchor": "center",
          "xref": "paper",
          "y": 0.9999999999999999,
          "yanchor": "bottom",
          "yref": "paper"
         },
         {
          "font": {
           "size": 10
          },
          "showarrow": false,
          "text": "Benjamin Disraeli",
          "x": 0.44900000000000007,
          "xanchor": "center",
          "xref": "paper",
          "y": 0.9999999999999999,
          "yanchor": "bottom",
          "yref": "paper"
         },
         {
          "font": {
           "size": 10
          },
          "showarrow": false,
          "text": "Lucy Maud Montgomery",
          "x": 0.5509999999999999,
          "xanchor": "center",
          "xref": "paper",
          "y": 0.9999999999999999,
          "yanchor": "bottom",
          "yref": "paper"
         },
         {
          "font": {
           "size": 10
          },
          "showarrow": false,
          "text": "William Henry Hudson",
          "x": 0.653,
          "xanchor": "center",
          "xref": "paper",
          "y": 0.9999999999999999,
          "yanchor": "bottom",
          "yref": "paper"
         },
         {
          "font": {
           "size": 10
          },
          "showarrow": false,
          "text": "Howard Pyle",
          "x": 0.7550000000000001,
          "xanchor": "center",
          "xref": "paper",
          "y": 0.9999999999999999,
          "yanchor": "bottom",
          "yref": "paper"
         },
         {
          "font": {
           "size": 10
          },
          "showarrow": false,
          "text": "Virginia Woolf",
          "x": 0.857,
          "xanchor": "center",
          "xref": "paper",
          "y": 0.9999999999999999,
          "yanchor": "bottom",
          "yref": "paper"
         },
         {
          "font": {
           "size": 10
          },
          "showarrow": false,
          "text": "Lewis Carroll",
          "x": 0.9589999999999999,
          "xanchor": "center",
          "xref": "paper",
          "y": 0.9999999999999999,
          "yanchor": "bottom",
          "yref": "paper"
         }
        ],
        "height": 800,
        "template": {
         "data": {
          "bar": [
           {
            "error_x": {
             "color": "#2a3f5f"
            },
            "error_y": {
             "color": "#2a3f5f"
            },
            "marker": {
             "line": {
              "color": "#E5ECF6",
              "width": 0.5
             },
             "pattern": {
              "fillmode": "overlay",
              "size": 10,
              "solidity": 0.2
             }
            },
            "type": "bar"
           }
          ],
          "barpolar": [
           {
            "marker": {
             "line": {
              "color": "#E5ECF6",
              "width": 0.5
             },
             "pattern": {
              "fillmode": "overlay",
              "size": 10,
              "solidity": 0.2
             }
            },
            "type": "barpolar"
           }
          ],
          "carpet": [
           {
            "aaxis": {
             "endlinecolor": "#2a3f5f",
             "gridcolor": "white",
             "linecolor": "white",
             "minorgridcolor": "white",
             "startlinecolor": "#2a3f5f"
            },
            "baxis": {
             "endlinecolor": "#2a3f5f",
             "gridcolor": "white",
             "linecolor": "white",
             "minorgridcolor": "white",
             "startlinecolor": "#2a3f5f"
            },
            "type": "carpet"
           }
          ],
          "choropleth": [
           {
            "colorbar": {
             "outlinewidth": 0,
             "ticks": ""
            },
            "type": "choropleth"
           }
          ],
          "contour": [
           {
            "colorbar": {
             "outlinewidth": 0,
             "ticks": ""
            },
            "colorscale": [
             [
              0,
              "#0d0887"
             ],
             [
              0.1111111111111111,
              "#46039f"
             ],
             [
              0.2222222222222222,
              "#7201a8"
             ],
             [
              0.3333333333333333,
              "#9c179e"
             ],
             [
              0.4444444444444444,
              "#bd3786"
             ],
             [
              0.5555555555555556,
              "#d8576b"
             ],
             [
              0.6666666666666666,
              "#ed7953"
             ],
             [
              0.7777777777777778,
              "#fb9f3a"
             ],
             [
              0.8888888888888888,
              "#fdca26"
             ],
             [
              1,
              "#f0f921"
             ]
            ],
            "type": "contour"
           }
          ],
          "contourcarpet": [
           {
            "colorbar": {
             "outlinewidth": 0,
             "ticks": ""
            },
            "type": "contourcarpet"
           }
          ],
          "heatmap": [
           {
            "colorbar": {
             "outlinewidth": 0,
             "ticks": ""
            },
            "colorscale": [
             [
              0,
              "#0d0887"
             ],
             [
              0.1111111111111111,
              "#46039f"
             ],
             [
              0.2222222222222222,
              "#7201a8"
             ],
             [
              0.3333333333333333,
              "#9c179e"
             ],
             [
              0.4444444444444444,
              "#bd3786"
             ],
             [
              0.5555555555555556,
              "#d8576b"
             ],
             [
              0.6666666666666666,
              "#ed7953"
             ],
             [
              0.7777777777777778,
              "#fb9f3a"
             ],
             [
              0.8888888888888888,
              "#fdca26"
             ],
             [
              1,
              "#f0f921"
             ]
            ],
            "type": "heatmap"
           }
          ],
          "heatmapgl": [
           {
            "colorbar": {
             "outlinewidth": 0,
             "ticks": ""
            },
            "colorscale": [
             [
              0,
              "#0d0887"
             ],
             [
              0.1111111111111111,
              "#46039f"
             ],
             [
              0.2222222222222222,
              "#7201a8"
             ],
             [
              0.3333333333333333,
              "#9c179e"
             ],
             [
              0.4444444444444444,
              "#bd3786"
             ],
             [
              0.5555555555555556,
              "#d8576b"
             ],
             [
              0.6666666666666666,
              "#ed7953"
             ],
             [
              0.7777777777777778,
              "#fb9f3a"
             ],
             [
              0.8888888888888888,
              "#fdca26"
             ],
             [
              1,
              "#f0f921"
             ]
            ],
            "type": "heatmapgl"
           }
          ],
          "histogram": [
           {
            "marker": {
             "pattern": {
              "fillmode": "overlay",
              "size": 10,
              "solidity": 0.2
             }
            },
            "type": "histogram"
           }
          ],
          "histogram2d": [
           {
            "colorbar": {
             "outlinewidth": 0,
             "ticks": ""
            },
            "colorscale": [
             [
              0,
              "#0d0887"
             ],
             [
              0.1111111111111111,
              "#46039f"
             ],
             [
              0.2222222222222222,
              "#7201a8"
             ],
             [
              0.3333333333333333,
              "#9c179e"
             ],
             [
              0.4444444444444444,
              "#bd3786"
             ],
             [
              0.5555555555555556,
              "#d8576b"
             ],
             [
              0.6666666666666666,
              "#ed7953"
             ],
             [
              0.7777777777777778,
              "#fb9f3a"
             ],
             [
              0.8888888888888888,
              "#fdca26"
             ],
             [
              1,
              "#f0f921"
             ]
            ],
            "type": "histogram2d"
           }
          ],
          "histogram2dcontour": [
           {
            "colorbar": {
             "outlinewidth": 0,
             "ticks": ""
            },
            "colorscale": [
             [
              0,
              "#0d0887"
             ],
             [
              0.1111111111111111,
              "#46039f"
             ],
             [
              0.2222222222222222,
              "#7201a8"
             ],
             [
              0.3333333333333333,
              "#9c179e"
             ],
             [
              0.4444444444444444,
              "#bd3786"
             ],
             [
              0.5555555555555556,
              "#d8576b"
             ],
             [
              0.6666666666666666,
              "#ed7953"
             ],
             [
              0.7777777777777778,
              "#fb9f3a"
             ],
             [
              0.8888888888888888,
              "#fdca26"
             ],
             [
              1,
              "#f0f921"
             ]
            ],
            "type": "histogram2dcontour"
           }
          ],
          "mesh3d": [
           {
            "colorbar": {
             "outlinewidth": 0,
             "ticks": ""
            },
            "type": "mesh3d"
           }
          ],
          "parcoords": [
           {
            "line": {
             "colorbar": {
              "outlinewidth": 0,
              "ticks": ""
             }
            },
            "type": "parcoords"
           }
          ],
          "pie": [
           {
            "automargin": true,
            "type": "pie"
           }
          ],
          "scatter": [
           {
            "fillpattern": {
             "fillmode": "overlay",
             "size": 10,
             "solidity": 0.2
            },
            "type": "scatter"
           }
          ],
          "scatter3d": [
           {
            "line": {
             "colorbar": {
              "outlinewidth": 0,
              "ticks": ""
             }
            },
            "marker": {
             "colorbar": {
              "outlinewidth": 0,
              "ticks": ""
             }
            },
            "type": "scatter3d"
           }
          ],
          "scattercarpet": [
           {
            "marker": {
             "colorbar": {
              "outlinewidth": 0,
              "ticks": ""
             }
            },
            "type": "scattercarpet"
           }
          ],
          "scattergeo": [
           {
            "marker": {
             "colorbar": {
              "outlinewidth": 0,
              "ticks": ""
             }
            },
            "type": "scattergeo"
           }
          ],
          "scattergl": [
           {
            "marker": {
             "colorbar": {
              "outlinewidth": 0,
              "ticks": ""
             }
            },
            "type": "scattergl"
           }
          ],
          "scattermapbox": [
           {
            "marker": {
             "colorbar": {
              "outlinewidth": 0,
              "ticks": ""
             }
            },
            "type": "scattermapbox"
           }
          ],
          "scatterpolar": [
           {
            "marker": {
             "colorbar": {
              "outlinewidth": 0,
              "ticks": ""
             }
            },
            "type": "scatterpolar"
           }
          ],
          "scatterpolargl": [
           {
            "marker": {
             "colorbar": {
              "outlinewidth": 0,
              "ticks": ""
             }
            },
            "type": "scatterpolargl"
           }
          ],
          "scatterternary": [
           {
            "marker": {
             "colorbar": {
              "outlinewidth": 0,
              "ticks": ""
             }
            },
            "type": "scatterternary"
           }
          ],
          "surface": [
           {
            "colorbar": {
             "outlinewidth": 0,
             "ticks": ""
            },
            "colorscale": [
             [
              0,
              "#0d0887"
             ],
             [
              0.1111111111111111,
              "#46039f"
             ],
             [
              0.2222222222222222,
              "#7201a8"
             ],
             [
              0.3333333333333333,
              "#9c179e"
             ],
             [
              0.4444444444444444,
              "#bd3786"
             ],
             [
              0.5555555555555556,
              "#d8576b"
             ],
             [
              0.6666666666666666,
              "#ed7953"
             ],
             [
              0.7777777777777778,
              "#fb9f3a"
             ],
             [
              0.8888888888888888,
              "#fdca26"
             ],
             [
              1,
              "#f0f921"
             ]
            ],
            "type": "surface"
           }
          ],
          "table": [
           {
            "cells": {
             "fill": {
              "color": "#EBF0F8"
             },
             "line": {
              "color": "white"
             }
            },
            "header": {
             "fill": {
              "color": "#C8D4E3"
             },
             "line": {
              "color": "white"
             }
            },
            "type": "table"
           }
          ]
         },
         "layout": {
          "annotationdefaults": {
           "arrowcolor": "#2a3f5f",
           "arrowhead": 0,
           "arrowwidth": 1
          },
          "autotypenumbers": "strict",
          "coloraxis": {
           "colorbar": {
            "outlinewidth": 0,
            "ticks": ""
           }
          },
          "colorscale": {
           "diverging": [
            [
             0,
             "#8e0152"
            ],
            [
             0.1,
             "#c51b7d"
            ],
            [
             0.2,
             "#de77ae"
            ],
            [
             0.3,
             "#f1b6da"
            ],
            [
             0.4,
             "#fde0ef"
            ],
            [
             0.5,
             "#f7f7f7"
            ],
            [
             0.6,
             "#e6f5d0"
            ],
            [
             0.7,
             "#b8e186"
            ],
            [
             0.8,
             "#7fbc41"
            ],
            [
             0.9,
             "#4d9221"
            ],
            [
             1,
             "#276419"
            ]
           ],
           "sequential": [
            [
             0,
             "#0d0887"
            ],
            [
             0.1111111111111111,
             "#46039f"
            ],
            [
             0.2222222222222222,
             "#7201a8"
            ],
            [
             0.3333333333333333,
             "#9c179e"
            ],
            [
             0.4444444444444444,
             "#bd3786"
            ],
            [
             0.5555555555555556,
             "#d8576b"
            ],
            [
             0.6666666666666666,
             "#ed7953"
            ],
            [
             0.7777777777777778,
             "#fb9f3a"
            ],
            [
             0.8888888888888888,
             "#fdca26"
            ],
            [
             1,
             "#f0f921"
            ]
           ],
           "sequentialminus": [
            [
             0,
             "#0d0887"
            ],
            [
             0.1111111111111111,
             "#46039f"
            ],
            [
             0.2222222222222222,
             "#7201a8"
            ],
            [
             0.3333333333333333,
             "#9c179e"
            ],
            [
             0.4444444444444444,
             "#bd3786"
            ],
            [
             0.5555555555555556,
             "#d8576b"
            ],
            [
             0.6666666666666666,
             "#ed7953"
            ],
            [
             0.7777777777777778,
             "#fb9f3a"
            ],
            [
             0.8888888888888888,
             "#fdca26"
            ],
            [
             1,
             "#f0f921"
            ]
           ]
          },
          "colorway": [
           "#636efa",
           "#EF553B",
           "#00cc96",
           "#ab63fa",
           "#FFA15A",
           "#19d3f3",
           "#FF6692",
           "#B6E880",
           "#FF97FF",
           "#FECB52"
          ],
          "font": {
           "color": "#2a3f5f"
          },
          "geo": {
           "bgcolor": "white",
           "lakecolor": "white",
           "landcolor": "#E5ECF6",
           "showlakes": true,
           "showland": true,
           "subunitcolor": "white"
          },
          "hoverlabel": {
           "align": "left"
          },
          "hovermode": "closest",
          "mapbox": {
           "style": "light"
          },
          "paper_bgcolor": "white",
          "plot_bgcolor": "#E5ECF6",
          "polar": {
           "angularaxis": {
            "gridcolor": "white",
            "linecolor": "white",
            "ticks": ""
           },
           "bgcolor": "#E5ECF6",
           "radialaxis": {
            "gridcolor": "white",
            "linecolor": "white",
            "ticks": ""
           }
          },
          "scene": {
           "xaxis": {
            "backgroundcolor": "#E5ECF6",
            "gridcolor": "white",
            "gridwidth": 2,
            "linecolor": "white",
            "showbackground": true,
            "ticks": "",
            "zerolinecolor": "white"
           },
           "yaxis": {
            "backgroundcolor": "#E5ECF6",
            "gridcolor": "white",
            "gridwidth": 2,
            "linecolor": "white",
            "showbackground": true,
            "ticks": "",
            "zerolinecolor": "white"
           },
           "zaxis": {
            "backgroundcolor": "#E5ECF6",
            "gridcolor": "white",
            "gridwidth": 2,
            "linecolor": "white",
            "showbackground": true,
            "ticks": "",
            "zerolinecolor": "white"
           }
          },
          "shapedefaults": {
           "line": {
            "color": "#2a3f5f"
           }
          },
          "ternary": {
           "aaxis": {
            "gridcolor": "white",
            "linecolor": "white",
            "ticks": ""
           },
           "baxis": {
            "gridcolor": "white",
            "linecolor": "white",
            "ticks": ""
           },
           "bgcolor": "#E5ECF6",
           "caxis": {
            "gridcolor": "white",
            "linecolor": "white",
            "ticks": ""
           }
          },
          "title": {
           "x": 0.05
          },
          "xaxis": {
           "automargin": true,
           "gridcolor": "white",
           "linecolor": "white",
           "ticks": "",
           "title": {
            "standoff": 15
           },
           "zerolinecolor": "white",
           "zerolinewidth": 2
          },
          "yaxis": {
           "automargin": true,
           "gridcolor": "white",
           "linecolor": "white",
           "ticks": "",
           "title": {
            "standoff": 15
           },
           "zerolinecolor": "white",
           "zerolinewidth": 2
          }
         }
        },
        "title": {
         "text": "Top 10 function words",
         "x": 0.5
        },
        "xaxis": {
         "anchor": "y",
         "domain": [
          0,
          0.082
         ],
         "tickfont": {
          "size": 10
         }
        },
        "xaxis10": {
         "anchor": "y10",
         "domain": [
          0.9179999999999999,
          0.9999999999999999
         ],
         "tickfont": {
          "size": 10
         }
        },
        "xaxis11": {
         "anchor": "y11",
         "domain": [
          0,
          0.082
         ],
         "tickfont": {
          "size": 10
         }
        },
        "xaxis12": {
         "anchor": "y12",
         "domain": [
          0.10200000000000001,
          0.184
         ],
         "tickfont": {
          "size": 10
         }
        },
        "xaxis13": {
         "anchor": "y13",
         "domain": [
          0.20400000000000001,
          0.28600000000000003
         ],
         "tickfont": {
          "size": 10
         }
        },
        "xaxis14": {
         "anchor": "y14",
         "domain": [
          0.306,
          0.388
         ],
         "tickfont": {
          "size": 10
         }
        },
        "xaxis15": {
         "anchor": "y15",
         "domain": [
          0.40800000000000003,
          0.49000000000000005
         ],
         "tickfont": {
          "size": 10
         }
        },
        "xaxis16": {
         "anchor": "y16",
         "domain": [
          0.51,
          0.592
         ],
         "tickfont": {
          "size": 10
         }
        },
        "xaxis17": {
         "anchor": "y17",
         "domain": [
          0.612,
          0.694
         ],
         "tickfont": {
          "size": 10
         }
        },
        "xaxis18": {
         "anchor": "y18",
         "domain": [
          0.7140000000000001,
          0.796
         ],
         "tickfont": {
          "size": 10
         }
        },
        "xaxis19": {
         "anchor": "y19",
         "domain": [
          0.8160000000000001,
          0.898
         ],
         "tickfont": {
          "size": 10
         }
        },
        "xaxis2": {
         "anchor": "y2",
         "domain": [
          0.10200000000000001,
          0.184
         ],
         "tickfont": {
          "size": 10
         }
        },
        "xaxis20": {
         "anchor": "y20",
         "domain": [
          0.9179999999999999,
          0.9999999999999999
         ],
         "tickfont": {
          "size": 10
         }
        },
        "xaxis21": {
         "anchor": "y21",
         "domain": [
          0,
          0.082
         ],
         "tickfont": {
          "size": 10
         }
        },
        "xaxis22": {
         "anchor": "y22",
         "domain": [
          0.10200000000000001,
          0.184
         ],
         "tickfont": {
          "size": 10
         }
        },
        "xaxis23": {
         "anchor": "y23",
         "domain": [
          0.20400000000000001,
          0.28600000000000003
         ],
         "tickfont": {
          "size": 10
         }
        },
        "xaxis24": {
         "anchor": "y24",
         "domain": [
          0.306,
          0.388
         ],
         "tickfont": {
          "size": 10
         }
        },
        "xaxis25": {
         "anchor": "y25",
         "domain": [
          0.40800000000000003,
          0.49000000000000005
         ],
         "tickfont": {
          "size": 10
         }
        },
        "xaxis26": {
         "anchor": "y26",
         "domain": [
          0.51,
          0.592
         ],
         "tickfont": {
          "size": 10
         }
        },
        "xaxis27": {
         "anchor": "y27",
         "domain": [
          0.612,
          0.694
         ],
         "tickfont": {
          "size": 10
         }
        },
        "xaxis28": {
         "anchor": "y28",
         "domain": [
          0.7140000000000001,
          0.796
         ],
         "tickfont": {
          "size": 10
         }
        },
        "xaxis29": {
         "anchor": "y29",
         "domain": [
          0.8160000000000001,
          0.898
         ],
         "tickfont": {
          "size": 10
         }
        },
        "xaxis3": {
         "anchor": "y3",
         "domain": [
          0.20400000000000001,
          0.28600000000000003
         ],
         "tickfont": {
          "size": 10
         }
        },
        "xaxis30": {
         "anchor": "y30",
         "domain": [
          0.9179999999999999,
          0.9999999999999999
         ],
         "tickfont": {
          "size": 10
         }
        },
        "xaxis31": {
         "anchor": "y31",
         "domain": [
          0,
          0.082
         ],
         "tickfont": {
          "size": 10
         }
        },
        "xaxis32": {
         "anchor": "y32",
         "domain": [
          0.10200000000000001,
          0.184
         ],
         "tickfont": {
          "size": 10
         }
        },
        "xaxis33": {
         "anchor": "y33",
         "domain": [
          0.20400000000000001,
          0.28600000000000003
         ],
         "tickfont": {
          "size": 10
         }
        },
        "xaxis34": {
         "anchor": "y34",
         "domain": [
          0.306,
          0.388
         ],
         "tickfont": {
          "size": 10
         }
        },
        "xaxis35": {
         "anchor": "y35",
         "domain": [
          0.40800000000000003,
          0.49000000000000005
         ],
         "tickfont": {
          "size": 10
         }
        },
        "xaxis36": {
         "anchor": "y36",
         "domain": [
          0.51,
          0.592
         ],
         "tickfont": {
          "size": 10
         }
        },
        "xaxis37": {
         "anchor": "y37",
         "domain": [
          0.612,
          0.694
         ],
         "tickfont": {
          "size": 10
         }
        },
        "xaxis38": {
         "anchor": "y38",
         "domain": [
          0.7140000000000001,
          0.796
         ],
         "tickfont": {
          "size": 10
         }
        },
        "xaxis39": {
         "anchor": "y39",
         "domain": [
          0.8160000000000001,
          0.898
         ],
         "tickfont": {
          "size": 10
         }
        },
        "xaxis4": {
         "anchor": "y4",
         "domain": [
          0.306,
          0.388
         ],
         "tickfont": {
          "size": 10
         }
        },
        "xaxis40": {
         "anchor": "y40",
         "domain": [
          0.9179999999999999,
          0.9999999999999999
         ],
         "tickfont": {
          "size": 10
         }
        },
        "xaxis41": {
         "anchor": "y41",
         "domain": [
          0,
          0.082
         ],
         "tickfont": {
          "size": 10
         }
        },
        "xaxis42": {
         "anchor": "y42",
         "domain": [
          0.10200000000000001,
          0.184
         ],
         "tickfont": {
          "size": 10
         }
        },
        "xaxis43": {
         "anchor": "y43",
         "domain": [
          0.20400000000000001,
          0.28600000000000003
         ],
         "tickfont": {
          "size": 10
         }
        },
        "xaxis44": {
         "anchor": "y44",
         "domain": [
          0.306,
          0.388
         ],
         "tickfont": {
          "size": 10
         }
        },
        "xaxis45": {
         "anchor": "y45",
         "domain": [
          0.40800000000000003,
          0.49000000000000005
         ],
         "tickfont": {
          "size": 10
         }
        },
        "xaxis46": {
         "anchor": "y46",
         "domain": [
          0.51,
          0.592
         ],
         "tickfont": {
          "size": 10
         }
        },
        "xaxis47": {
         "anchor": "y47",
         "domain": [
          0.612,
          0.694
         ],
         "tickfont": {
          "size": 10
         }
        },
        "xaxis48": {
         "anchor": "y48",
         "domain": [
          0.7140000000000001,
          0.796
         ],
         "tickfont": {
          "size": 10
         }
        },
        "xaxis49": {
         "anchor": "y49",
         "domain": [
          0.8160000000000001,
          0.898
         ],
         "tickfont": {
          "size": 10
         }
        },
        "xaxis5": {
         "anchor": "y5",
         "domain": [
          0.40800000000000003,
          0.49000000000000005
         ],
         "tickfont": {
          "size": 10
         }
        },
        "xaxis50": {
         "anchor": "y50",
         "domain": [
          0.9179999999999999,
          0.9999999999999999
         ],
         "tickfont": {
          "size": 10
         }
        },
        "xaxis51": {
         "anchor": "y51",
         "domain": [
          0,
          0.082
         ],
         "tickfont": {
          "size": 10
         }
        },
        "xaxis52": {
         "anchor": "y52",
         "domain": [
          0.10200000000000001,
          0.184
         ],
         "tickfont": {
          "size": 10
         }
        },
        "xaxis53": {
         "anchor": "y53",
         "domain": [
          0.20400000000000001,
          0.28600000000000003
         ],
         "tickfont": {
          "size": 10
         }
        },
        "xaxis54": {
         "anchor": "y54",
         "domain": [
          0.306,
          0.388
         ],
         "tickfont": {
          "size": 10
         }
        },
        "xaxis55": {
         "anchor": "y55",
         "domain": [
          0.40800000000000003,
          0.49000000000000005
         ],
         "tickfont": {
          "size": 10
         }
        },
        "xaxis56": {
         "anchor": "y56",
         "domain": [
          0.51,
          0.592
         ],
         "tickfont": {
          "size": 10
         }
        },
        "xaxis57": {
         "anchor": "y57",
         "domain": [
          0.612,
          0.694
         ],
         "tickfont": {
          "size": 10
         }
        },
        "xaxis58": {
         "anchor": "y58",
         "domain": [
          0.7140000000000001,
          0.796
         ],
         "tickfont": {
          "size": 10
         }
        },
        "xaxis59": {
         "anchor": "y59",
         "domain": [
          0.8160000000000001,
          0.898
         ],
         "tickfont": {
          "size": 10
         }
        },
        "xaxis6": {
         "anchor": "y6",
         "domain": [
          0.51,
          0.592
         ],
         "tickfont": {
          "size": 10
         }
        },
        "xaxis60": {
         "anchor": "y60",
         "domain": [
          0.9179999999999999,
          0.9999999999999999
         ],
         "tickfont": {
          "size": 10
         }
        },
        "xaxis7": {
         "anchor": "y7",
         "domain": [
          0.612,
          0.694
         ],
         "tickfont": {
          "size": 10
         }
        },
        "xaxis8": {
         "anchor": "y8",
         "domain": [
          0.7140000000000001,
          0.796
         ],
         "tickfont": {
          "size": 10
         }
        },
        "xaxis9": {
         "anchor": "y9",
         "domain": [
          0.8160000000000001,
          0.898
         ],
         "tickfont": {
          "size": 10
         }
        },
        "yaxis": {
         "anchor": "x",
         "domain": [
          0.9027777777777777,
          0.9999999999999999
         ],
         "range": [
          0,
          803
         ]
        },
        "yaxis10": {
         "anchor": "x10",
         "domain": [
          0.9027777777777777,
          0.9999999999999999
         ],
         "range": [
          0,
          803
         ]
        },
        "yaxis11": {
         "anchor": "x11",
         "domain": [
          0.7222222222222222,
          0.8194444444444444
         ],
         "range": [
          0,
          803
         ]
        },
        "yaxis12": {
         "anchor": "x12",
         "domain": [
          0.7222222222222222,
          0.8194444444444444
         ],
         "range": [
          0,
          803
         ]
        },
        "yaxis13": {
         "anchor": "x13",
         "domain": [
          0.7222222222222222,
          0.8194444444444444
         ],
         "range": [
          0,
          803
         ]
        },
        "yaxis14": {
         "anchor": "x14",
         "domain": [
          0.7222222222222222,
          0.8194444444444444
         ],
         "range": [
          0,
          803
         ]
        },
        "yaxis15": {
         "anchor": "x15",
         "domain": [
          0.7222222222222222,
          0.8194444444444444
         ],
         "range": [
          0,
          803
         ]
        },
        "yaxis16": {
         "anchor": "x16",
         "domain": [
          0.7222222222222222,
          0.8194444444444444
         ],
         "range": [
          0,
          803
         ]
        },
        "yaxis17": {
         "anchor": "x17",
         "domain": [
          0.7222222222222222,
          0.8194444444444444
         ],
         "range": [
          0,
          803
         ]
        },
        "yaxis18": {
         "anchor": "x18",
         "domain": [
          0.7222222222222222,
          0.8194444444444444
         ],
         "range": [
          0,
          803
         ]
        },
        "yaxis19": {
         "anchor": "x19",
         "domain": [
          0.7222222222222222,
          0.8194444444444444
         ],
         "range": [
          0,
          803
         ]
        },
        "yaxis2": {
         "anchor": "x2",
         "domain": [
          0.9027777777777777,
          0.9999999999999999
         ],
         "range": [
          0,
          803
         ]
        },
        "yaxis20": {
         "anchor": "x20",
         "domain": [
          0.7222222222222222,
          0.8194444444444444
         ],
         "range": [
          0,
          803
         ]
        },
        "yaxis21": {
         "anchor": "x21",
         "domain": [
          0.5416666666666667,
          0.638888888888889
         ],
         "range": [
          0,
          803
         ]
        },
        "yaxis22": {
         "anchor": "x22",
         "domain": [
          0.5416666666666667,
          0.638888888888889
         ],
         "range": [
          0,
          803
         ]
        },
        "yaxis23": {
         "anchor": "x23",
         "domain": [
          0.5416666666666667,
          0.638888888888889
         ],
         "range": [
          0,
          803
         ]
        },
        "yaxis24": {
         "anchor": "x24",
         "domain": [
          0.5416666666666667,
          0.638888888888889
         ],
         "range": [
          0,
          803
         ]
        },
        "yaxis25": {
         "anchor": "x25",
         "domain": [
          0.5416666666666667,
          0.638888888888889
         ],
         "range": [
          0,
          803
         ]
        },
        "yaxis26": {
         "anchor": "x26",
         "domain": [
          0.5416666666666667,
          0.638888888888889
         ],
         "range": [
          0,
          803
         ]
        },
        "yaxis27": {
         "anchor": "x27",
         "domain": [
          0.5416666666666667,
          0.638888888888889
         ],
         "range": [
          0,
          803
         ]
        },
        "yaxis28": {
         "anchor": "x28",
         "domain": [
          0.5416666666666667,
          0.638888888888889
         ],
         "range": [
          0,
          803
         ]
        },
        "yaxis29": {
         "anchor": "x29",
         "domain": [
          0.5416666666666667,
          0.638888888888889
         ],
         "range": [
          0,
          803
         ]
        },
        "yaxis3": {
         "anchor": "x3",
         "domain": [
          0.9027777777777777,
          0.9999999999999999
         ],
         "range": [
          0,
          803
         ]
        },
        "yaxis30": {
         "anchor": "x30",
         "domain": [
          0.5416666666666667,
          0.638888888888889
         ],
         "range": [
          0,
          803
         ]
        },
        "yaxis31": {
         "anchor": "x31",
         "domain": [
          0.3611111111111111,
          0.4583333333333333
         ],
         "range": [
          0,
          803
         ]
        },
        "yaxis32": {
         "anchor": "x32",
         "domain": [
          0.3611111111111111,
          0.4583333333333333
         ],
         "range": [
          0,
          803
         ]
        },
        "yaxis33": {
         "anchor": "x33",
         "domain": [
          0.3611111111111111,
          0.4583333333333333
         ],
         "range": [
          0,
          803
         ]
        },
        "yaxis34": {
         "anchor": "x34",
         "domain": [
          0.3611111111111111,
          0.4583333333333333
         ],
         "range": [
          0,
          803
         ]
        },
        "yaxis35": {
         "anchor": "x35",
         "domain": [
          0.3611111111111111,
          0.4583333333333333
         ],
         "range": [
          0,
          803
         ]
        },
        "yaxis36": {
         "anchor": "x36",
         "domain": [
          0.3611111111111111,
          0.4583333333333333
         ],
         "range": [
          0,
          803
         ]
        },
        "yaxis37": {
         "anchor": "x37",
         "domain": [
          0.3611111111111111,
          0.4583333333333333
         ],
         "range": [
          0,
          803
         ]
        },
        "yaxis38": {
         "anchor": "x38",
         "domain": [
          0.3611111111111111,
          0.4583333333333333
         ],
         "range": [
          0,
          803
         ]
        },
        "yaxis39": {
         "anchor": "x39",
         "domain": [
          0.3611111111111111,
          0.4583333333333333
         ],
         "range": [
          0,
          803
         ]
        },
        "yaxis4": {
         "anchor": "x4",
         "domain": [
          0.9027777777777777,
          0.9999999999999999
         ],
         "range": [
          0,
          803
         ]
        },
        "yaxis40": {
         "anchor": "x40",
         "domain": [
          0.3611111111111111,
          0.4583333333333333
         ],
         "range": [
          0,
          803
         ]
        },
        "yaxis41": {
         "anchor": "x41",
         "domain": [
          0.18055555555555555,
          0.2777777777777778
         ],
         "range": [
          0,
          803
         ]
        },
        "yaxis42": {
         "anchor": "x42",
         "domain": [
          0.18055555555555555,
          0.2777777777777778
         ],
         "range": [
          0,
          803
         ]
        },
        "yaxis43": {
         "anchor": "x43",
         "domain": [
          0.18055555555555555,
          0.2777777777777778
         ],
         "range": [
          0,
          803
         ]
        },
        "yaxis44": {
         "anchor": "x44",
         "domain": [
          0.18055555555555555,
          0.2777777777777778
         ],
         "range": [
          0,
          803
         ]
        },
        "yaxis45": {
         "anchor": "x45",
         "domain": [
          0.18055555555555555,
          0.2777777777777778
         ],
         "range": [
          0,
          803
         ]
        },
        "yaxis46": {
         "anchor": "x46",
         "domain": [
          0.18055555555555555,
          0.2777777777777778
         ],
         "range": [
          0,
          803
         ]
        },
        "yaxis47": {
         "anchor": "x47",
         "domain": [
          0.18055555555555555,
          0.2777777777777778
         ],
         "range": [
          0,
          803
         ]
        },
        "yaxis48": {
         "anchor": "x48",
         "domain": [
          0.18055555555555555,
          0.2777777777777778
         ],
         "range": [
          0,
          803
         ]
        },
        "yaxis49": {
         "anchor": "x49",
         "domain": [
          0.18055555555555555,
          0.2777777777777778
         ],
         "range": [
          0,
          803
         ]
        },
        "yaxis5": {
         "anchor": "x5",
         "domain": [
          0.9027777777777777,
          0.9999999999999999
         ],
         "range": [
          0,
          803
         ]
        },
        "yaxis50": {
         "anchor": "x50",
         "domain": [
          0.18055555555555555,
          0.2777777777777778
         ],
         "range": [
          0,
          803
         ]
        },
        "yaxis51": {
         "anchor": "x51",
         "domain": [
          0,
          0.09722222222222222
         ],
         "range": [
          0,
          803
         ]
        },
        "yaxis52": {
         "anchor": "x52",
         "domain": [
          0,
          0.09722222222222222
         ],
         "range": [
          0,
          803
         ]
        },
        "yaxis53": {
         "anchor": "x53",
         "domain": [
          0,
          0.09722222222222222
         ],
         "range": [
          0,
          803
         ]
        },
        "yaxis54": {
         "anchor": "x54",
         "domain": [
          0,
          0.09722222222222222
         ],
         "range": [
          0,
          803
         ]
        },
        "yaxis55": {
         "anchor": "x55",
         "domain": [
          0,
          0.09722222222222222
         ],
         "range": [
          0,
          803
         ]
        },
        "yaxis56": {
         "anchor": "x56",
         "domain": [
          0,
          0.09722222222222222
         ],
         "range": [
          0,
          803
         ]
        },
        "yaxis57": {
         "anchor": "x57",
         "domain": [
          0,
          0.09722222222222222
         ],
         "range": [
          0,
          803
         ]
        },
        "yaxis58": {
         "anchor": "x58",
         "domain": [
          0,
          0.09722222222222222
         ],
         "range": [
          0,
          803
         ]
        },
        "yaxis59": {
         "anchor": "x59",
         "domain": [
          0,
          0.09722222222222222
         ],
         "range": [
          0,
          803
         ]
        },
        "yaxis6": {
         "anchor": "x6",
         "domain": [
          0.9027777777777777,
          0.9999999999999999
         ],
         "range": [
          0,
          803
         ]
        },
        "yaxis60": {
         "anchor": "x60",
         "domain": [
          0,
          0.09722222222222222
         ],
         "range": [
          0,
          803
         ]
        },
        "yaxis7": {
         "anchor": "x7",
         "domain": [
          0.9027777777777777,
          0.9999999999999999
         ],
         "range": [
          0,
          803
         ]
        },
        "yaxis8": {
         "anchor": "x8",
         "domain": [
          0.9027777777777777,
          0.9999999999999999
         ],
         "range": [
          0,
          803
         ]
        },
        "yaxis9": {
         "anchor": "x9",
         "domain": [
          0.9027777777777777,
          0.9999999999999999
         ],
         "range": [
          0,
          803
         ]
        }
       }
      }
     },
     "metadata": {},
     "output_type": "display_data"
    }
   ],
   "source": [
    "AnalysisVisualization().visualize(analysis_data)"
   ]
  }
 ],
 "metadata": {
  "kernelspec": {
   "display_name": ".venv",
   "language": "python",
   "name": "python3"
  },
  "language_info": {
   "codemirror_mode": {
    "name": "ipython",
    "version": 3
   },
   "file_extension": ".py",
   "mimetype": "text/x-python",
   "name": "python",
   "nbconvert_exporter": "python",
   "pygments_lexer": "ipython3",
   "version": "3.12.1"
  }
 },
 "nbformat": 4,
 "nbformat_minor": 2
}
