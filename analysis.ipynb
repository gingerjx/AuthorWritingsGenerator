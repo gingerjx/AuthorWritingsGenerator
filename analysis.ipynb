{
 "cells": [
  {
   "cell_type": "code",
   "execution_count": 13,
   "metadata": {},
   "outputs": [],
   "source": [
    "\n",
    "import src\n",
    "# TODO: Delete after development\n",
    "import importlib\n",
    "importlib.reload(src)\n",
    "\n",
    "from src import *"
   ]
  },
  {
   "cell_type": "code",
   "execution_count": 14,
   "metadata": {},
   "outputs": [],
   "source": [
    "configuration = Configuration()"
   ]
  },
  {
   "cell_type": "code",
   "execution_count": 15,
   "metadata": {},
   "outputs": [],
   "source": [
    "authors = []\n",
    "for author_name in FileUtils.read_authors(configuration.selected_authors_filepath):\n",
    "    author = Author(name=author_name)\n",
    "    author.read_book_collection(configuration.all_book_data_directory)\n",
    "    author.read_generated_texts(configuration.model_dirs)\n",
    "    authors.append(author)"
   ]
  },
  {
   "cell_type": "code",
   "execution_count": 16,
   "metadata": {},
   "outputs": [],
   "source": [
    "analysis = Analysis(configuration.analysis_size)\n",
    "analysis_data = analysis.analyze(authors)"
   ]
  },
  {
   "cell_type": "code",
   "execution_count": 17,
   "metadata": {},
   "outputs": [
    {
     "data": {
      "application/vnd.plotly.v1+json": {
       "config": {
        "plotlyServerURL": "https://plot.ly"
       },
       "data": [
        {
         "marker": {
          "color": "#3498db"
         },
         "name": "books",
         "type": "bar",
         "x": [
          "Zane Grey",
          "Joseph Conrad",
          "Benjamin Disraeli",
          "Lucy Maud Montgomery",
          "William Henry Hudson"
         ],
         "xaxis": "x3",
         "y": [
          3117,
          3336,
          3535,
          2863,
          3137
         ],
         "yaxis": "y3"
        },
        {
         "marker": {
          "color": "#3498db"
         },
         "name": "books",
         "showlegend": false,
         "type": "bar",
         "x": [
          "Zane Grey",
          "Joseph Conrad",
          "Benjamin Disraeli",
          "Lucy Maud Montgomery",
          "William Henry Hudson"
         ],
         "xaxis": "x2",
         "y": [
          4.5062,
          4.5361,
          4.5501,
          4.3474,
          4.5572
         ],
         "yaxis": "y2"
        },
        {
         "marker": {
          "color": "#3498db"
         },
         "name": "books",
         "showlegend": false,
         "type": "bar",
         "x": [
          "Zane Grey",
          "Joseph Conrad",
          "Benjamin Disraeli",
          "Lucy Maud Montgomery",
          "William Henry Hudson"
         ],
         "xaxis": "x4",
         "y": [
          16.44736842105263,
          12.224938875305623,
          13.458950201884253,
          11.160714285714286,
          27.397260273972602
         ],
         "yaxis": "y4"
        },
        {
         "marker": {
          "color": "#e74c3c"
         },
         "name": "gpt-3.5-turbo-0125",
         "showlegend": false,
         "type": "bar",
         "x": [
          "Zane Grey",
          "Joseph Conrad",
          "Benjamin Disraeli",
          "Lucy Maud Montgomery",
          "William Henry Hudson"
         ],
         "xaxis": "x",
         "y": [
          749,
          384,
          353,
          533,
          743
         ],
         "yaxis": "y"
        },
        {
         "marker": {
          "color": "#e74c3c"
         },
         "name": "gpt-3.5-turbo-0125",
         "type": "bar",
         "x": [
          "Zane Grey",
          "Joseph Conrad",
          "Benjamin Disraeli",
          "Lucy Maud Montgomery",
          "William Henry Hudson"
         ],
         "xaxis": "x3",
         "y": [
          368,
          215,
          203,
          281,
          393
         ],
         "yaxis": "y3"
        },
        {
         "marker": {
          "color": "#e74c3c"
         },
         "name": "gpt-3.5-turbo-0125",
         "showlegend": false,
         "type": "bar",
         "x": [
          "Zane Grey",
          "Joseph Conrad",
          "Benjamin Disraeli",
          "Lucy Maud Montgomery",
          "William Henry Hudson"
         ],
         "xaxis": "x2",
         "y": [
          4.320427236315087,
          4.802083333333333,
          4.620396600566572,
          4.457786116322701,
          4.685060565275909
         ],
         "yaxis": "y2"
        },
        {
         "marker": {
          "color": "#e74c3c"
         },
         "name": "gpt-3.5-turbo-0125",
         "showlegend": false,
         "type": "bar",
         "x": [
          "Zane Grey",
          "Joseph Conrad",
          "Benjamin Disraeli",
          "Lucy Maud Montgomery",
          "William Henry Hudson"
         ],
         "xaxis": "x4",
         "y": [
          25.82758620689655,
          24,
          27.153846153846153,
          24.227272727272727,
          25.620689655172413
         ],
         "yaxis": "y4"
        },
        {
         "marker": {
          "color": "#2ecc71"
         },
         "name": "gpt-4o",
         "showlegend": false,
         "type": "bar",
         "x": [
          "Zane Grey",
          "Joseph Conrad",
          "Benjamin Disraeli",
          "Lucy Maud Montgomery",
          "William Henry Hudson"
         ],
         "xaxis": "x",
         "y": [
          763,
          928,
          697,
          871,
          921
         ],
         "yaxis": "y"
        },
        {
         "marker": {
          "color": "#2ecc71"
         },
         "name": "gpt-4o",
         "type": "bar",
         "x": [
          "Zane Grey",
          "Joseph Conrad",
          "Benjamin Disraeli",
          "Lucy Maud Montgomery",
          "William Henry Hudson"
         ],
         "xaxis": "x3",
         "y": [
          416,
          452,
          377,
          437,
          445
         ],
         "yaxis": "y3"
        },
        {
         "marker": {
          "color": "#2ecc71"
         },
         "name": "gpt-4o",
         "showlegend": false,
         "type": "bar",
         "x": [
          "Zane Grey",
          "Joseph Conrad",
          "Benjamin Disraeli",
          "Lucy Maud Montgomery",
          "William Henry Hudson"
         ],
         "xaxis": "x2",
         "y": [
          4.730013106159896,
          4.7780172413793105,
          4.961262553802008,
          4.8300803673938,
          4.666666666666667
         ],
         "yaxis": "y2"
        },
        {
         "marker": {
          "color": "#2ecc71"
         },
         "name": "gpt-4o",
         "showlegend": false,
         "type": "bar",
         "x": [
          "Zane Grey",
          "Joseph Conrad",
          "Benjamin Disraeli",
          "Lucy Maud Montgomery",
          "William Henry Hudson"
         ],
         "xaxis": "x4",
         "y": [
          19.564102564102566,
          21.09090909090909,
          19.914285714285715,
          30.03448275862069,
          24.89189189189189
         ],
         "yaxis": "y4"
        },
        {
         "marker": {
          "color": "#f1c40f"
         },
         "name": "gemini-1.5-flash",
         "showlegend": false,
         "type": "bar",
         "x": [
          "Zane Grey",
          "Joseph Conrad",
          "Benjamin Disraeli",
          "Lucy Maud Montgomery",
          "William Henry Hudson"
         ],
         "xaxis": "x",
         "y": [
          965,
          851,
          764,
          811,
          750
         ],
         "yaxis": "y"
        },
        {
         "marker": {
          "color": "#f1c40f"
         },
         "name": "gemini-1.5-flash",
         "type": "bar",
         "x": [
          "Zane Grey",
          "Joseph Conrad",
          "Benjamin Disraeli",
          "Lucy Maud Montgomery",
          "William Henry Hudson"
         ],
         "xaxis": "x3",
         "y": [
          500,
          393,
          408,
          410,
          358
         ],
         "yaxis": "y3"
        },
        {
         "marker": {
          "color": "#f1c40f"
         },
         "name": "gemini-1.5-flash",
         "showlegend": false,
         "type": "bar",
         "x": [
          "Zane Grey",
          "Joseph Conrad",
          "Benjamin Disraeli",
          "Lucy Maud Montgomery",
          "William Henry Hudson"
         ],
         "xaxis": "x2",
         "y": [
          4.680829015544042,
          4.619271445358402,
          5.028795811518324,
          4.551171393341554,
          4.738666666666667
         ],
         "yaxis": "y2"
        },
        {
         "marker": {
          "color": "#f1c40f"
         },
         "name": "gemini-1.5-flash",
         "showlegend": false,
         "type": "bar",
         "x": [
          "Zane Grey",
          "Joseph Conrad",
          "Benjamin Disraeli",
          "Lucy Maud Montgomery",
          "William Henry Hudson"
         ],
         "xaxis": "x4",
         "y": [
          15.564516129032258,
          23,
          22.470588235294116,
          17.630434782608695,
          25.862068965517242
         ],
         "yaxis": "y4"
        },
        {
         "marker": {
          "color": "#9b59b6"
         },
         "name": "open-mixtral-8x7b",
         "showlegend": false,
         "type": "bar",
         "x": [
          "Zane Grey",
          "Joseph Conrad",
          "Benjamin Disraeli",
          "Lucy Maud Montgomery",
          "William Henry Hudson"
         ],
         "xaxis": "x",
         "y": [
          676,
          861,
          1027,
          859,
          1258
         ],
         "yaxis": "y"
        },
        {
         "marker": {
          "color": "#9b59b6"
         },
         "name": "open-mixtral-8x7b",
         "type": "bar",
         "x": [
          "Zane Grey",
          "Joseph Conrad",
          "Benjamin Disraeli",
          "Lucy Maud Montgomery",
          "William Henry Hudson"
         ],
         "xaxis": "x3",
         "y": [
          341,
          423,
          480,
          395,
          537
         ],
         "yaxis": "y3"
        },
        {
         "marker": {
          "color": "#9b59b6"
         },
         "name": "open-mixtral-8x7b",
         "showlegend": false,
         "type": "bar",
         "x": [
          "Zane Grey",
          "Joseph Conrad",
          "Benjamin Disraeli",
          "Lucy Maud Montgomery",
          "William Henry Hudson"
         ],
         "xaxis": "x2",
         "y": [
          4.400887573964497,
          4.5737514518002325,
          4.801363193768257,
          4.495925494761351,
          4.639904610492846
         ],
         "yaxis": "y2"
        },
        {
         "marker": {
          "color": "#9b59b6"
         },
         "name": "open-mixtral-8x7b",
         "showlegend": false,
         "type": "bar",
         "x": [
          "Zane Grey",
          "Joseph Conrad",
          "Benjamin Disraeli",
          "Lucy Maud Montgomery",
          "William Henry Hudson"
         ],
         "xaxis": "x4",
         "y": [
          24.142857142857142,
          23.27027027027027,
          33.12903225806452,
          19.08888888888889,
          37
         ],
         "yaxis": "y4"
        },
        {
         "marker": {
          "color": "#e67e22"
         },
         "name": "claude-3-haiku-20240307",
         "showlegend": false,
         "type": "bar",
         "x": [
          "Zane Grey",
          "Joseph Conrad",
          "Benjamin Disraeli",
          "Lucy Maud Montgomery",
          "William Henry Hudson"
         ],
         "xaxis": "x",
         "y": [
          2038,
          754,
          1002,
          1716,
          1120
         ],
         "yaxis": "y"
        },
        {
         "marker": {
          "color": "#e67e22"
         },
         "name": "claude-3-haiku-20240307",
         "type": "bar",
         "x": [
          "Zane Grey",
          "Joseph Conrad",
          "Benjamin Disraeli",
          "Lucy Maud Montgomery",
          "William Henry Hudson"
         ],
         "xaxis": "x3",
         "y": [
          827,
          385,
          462,
          695,
          541
         ],
         "yaxis": "y3"
        },
        {
         "marker": {
          "color": "#e67e22"
         },
         "name": "claude-3-haiku-20240307",
         "showlegend": false,
         "type": "bar",
         "x": [
          "Zane Grey",
          "Joseph Conrad",
          "Benjamin Disraeli",
          "Lucy Maud Montgomery",
          "William Henry Hudson"
         ],
         "xaxis": "x2",
         "y": [
          4.717860647693818,
          5.062334217506631,
          4.872255489021956,
          4.886363636363637,
          4.951785714285714
         ],
         "yaxis": "y2"
        },
        {
         "marker": {
          "color": "#e67e22"
         },
         "name": "claude-3-haiku-20240307",
         "showlegend": false,
         "type": "bar",
         "x": [
          "Zane Grey",
          "Joseph Conrad",
          "Benjamin Disraeli",
          "Lucy Maud Montgomery",
          "William Henry Hudson"
         ],
         "xaxis": "x4",
         "y": [
          18.36036036036036,
          22.176470588235293,
          25.692307692307693,
          22,
          26.666666666666668
         ],
         "yaxis": "y4"
        }
       ],
       "layout": {
        "annotations": [
         {
          "font": {
           "size": 16
          },
          "showarrow": false,
          "text": "Word counts",
          "x": 0.225,
          "xanchor": "center",
          "xref": "paper",
          "y": 1,
          "yanchor": "bottom",
          "yref": "paper"
         },
         {
          "font": {
           "size": 16
          },
          "showarrow": false,
          "text": "Average word length",
          "x": 0.775,
          "xanchor": "center",
          "xref": "paper",
          "y": 1,
          "yanchor": "bottom",
          "yref": "paper"
         },
         {
          "font": {
           "size": 16
          },
          "showarrow": false,
          "text": "Unique word count",
          "x": 0.225,
          "xanchor": "center",
          "xref": "paper",
          "y": 0.375,
          "yanchor": "bottom",
          "yref": "paper"
         },
         {
          "font": {
           "size": 16
          },
          "showarrow": false,
          "text": "Average sentence length",
          "x": 0.775,
          "xanchor": "center",
          "xref": "paper",
          "y": 0.375,
          "yanchor": "bottom",
          "yref": "paper"
         }
        ],
        "legend": {
         "title": {
          "text": "Text source"
         }
        },
        "template": {
         "data": {
          "bar": [
           {
            "error_x": {
             "color": "#2a3f5f"
            },
            "error_y": {
             "color": "#2a3f5f"
            },
            "marker": {
             "line": {
              "color": "#E5ECF6",
              "width": 0.5
             },
             "pattern": {
              "fillmode": "overlay",
              "size": 10,
              "solidity": 0.2
             }
            },
            "type": "bar"
           }
          ],
          "barpolar": [
           {
            "marker": {
             "line": {
              "color": "#E5ECF6",
              "width": 0.5
             },
             "pattern": {
              "fillmode": "overlay",
              "size": 10,
              "solidity": 0.2
             }
            },
            "type": "barpolar"
           }
          ],
          "carpet": [
           {
            "aaxis": {
             "endlinecolor": "#2a3f5f",
             "gridcolor": "white",
             "linecolor": "white",
             "minorgridcolor": "white",
             "startlinecolor": "#2a3f5f"
            },
            "baxis": {
             "endlinecolor": "#2a3f5f",
             "gridcolor": "white",
             "linecolor": "white",
             "minorgridcolor": "white",
             "startlinecolor": "#2a3f5f"
            },
            "type": "carpet"
           }
          ],
          "choropleth": [
           {
            "colorbar": {
             "outlinewidth": 0,
             "ticks": ""
            },
            "type": "choropleth"
           }
          ],
          "contour": [
           {
            "colorbar": {
             "outlinewidth": 0,
             "ticks": ""
            },
            "colorscale": [
             [
              0,
              "#0d0887"
             ],
             [
              0.1111111111111111,
              "#46039f"
             ],
             [
              0.2222222222222222,
              "#7201a8"
             ],
             [
              0.3333333333333333,
              "#9c179e"
             ],
             [
              0.4444444444444444,
              "#bd3786"
             ],
             [
              0.5555555555555556,
              "#d8576b"
             ],
             [
              0.6666666666666666,
              "#ed7953"
             ],
             [
              0.7777777777777778,
              "#fb9f3a"
             ],
             [
              0.8888888888888888,
              "#fdca26"
             ],
             [
              1,
              "#f0f921"
             ]
            ],
            "type": "contour"
           }
          ],
          "contourcarpet": [
           {
            "colorbar": {
             "outlinewidth": 0,
             "ticks": ""
            },
            "type": "contourcarpet"
           }
          ],
          "heatmap": [
           {
            "colorbar": {
             "outlinewidth": 0,
             "ticks": ""
            },
            "colorscale": [
             [
              0,
              "#0d0887"
             ],
             [
              0.1111111111111111,
              "#46039f"
             ],
             [
              0.2222222222222222,
              "#7201a8"
             ],
             [
              0.3333333333333333,
              "#9c179e"
             ],
             [
              0.4444444444444444,
              "#bd3786"
             ],
             [
              0.5555555555555556,
              "#d8576b"
             ],
             [
              0.6666666666666666,
              "#ed7953"
             ],
             [
              0.7777777777777778,
              "#fb9f3a"
             ],
             [
              0.8888888888888888,
              "#fdca26"
             ],
             [
              1,
              "#f0f921"
             ]
            ],
            "type": "heatmap"
           }
          ],
          "heatmapgl": [
           {
            "colorbar": {
             "outlinewidth": 0,
             "ticks": ""
            },
            "colorscale": [
             [
              0,
              "#0d0887"
             ],
             [
              0.1111111111111111,
              "#46039f"
             ],
             [
              0.2222222222222222,
              "#7201a8"
             ],
             [
              0.3333333333333333,
              "#9c179e"
             ],
             [
              0.4444444444444444,
              "#bd3786"
             ],
             [
              0.5555555555555556,
              "#d8576b"
             ],
             [
              0.6666666666666666,
              "#ed7953"
             ],
             [
              0.7777777777777778,
              "#fb9f3a"
             ],
             [
              0.8888888888888888,
              "#fdca26"
             ],
             [
              1,
              "#f0f921"
             ]
            ],
            "type": "heatmapgl"
           }
          ],
          "histogram": [
           {
            "marker": {
             "pattern": {
              "fillmode": "overlay",
              "size": 10,
              "solidity": 0.2
             }
            },
            "type": "histogram"
           }
          ],
          "histogram2d": [
           {
            "colorbar": {
             "outlinewidth": 0,
             "ticks": ""
            },
            "colorscale": [
             [
              0,
              "#0d0887"
             ],
             [
              0.1111111111111111,
              "#46039f"
             ],
             [
              0.2222222222222222,
              "#7201a8"
             ],
             [
              0.3333333333333333,
              "#9c179e"
             ],
             [
              0.4444444444444444,
              "#bd3786"
             ],
             [
              0.5555555555555556,
              "#d8576b"
             ],
             [
              0.6666666666666666,
              "#ed7953"
             ],
             [
              0.7777777777777778,
              "#fb9f3a"
             ],
             [
              0.8888888888888888,
              "#fdca26"
             ],
             [
              1,
              "#f0f921"
             ]
            ],
            "type": "histogram2d"
           }
          ],
          "histogram2dcontour": [
           {
            "colorbar": {
             "outlinewidth": 0,
             "ticks": ""
            },
            "colorscale": [
             [
              0,
              "#0d0887"
             ],
             [
              0.1111111111111111,
              "#46039f"
             ],
             [
              0.2222222222222222,
              "#7201a8"
             ],
             [
              0.3333333333333333,
              "#9c179e"
             ],
             [
              0.4444444444444444,
              "#bd3786"
             ],
             [
              0.5555555555555556,
              "#d8576b"
             ],
             [
              0.6666666666666666,
              "#ed7953"
             ],
             [
              0.7777777777777778,
              "#fb9f3a"
             ],
             [
              0.8888888888888888,
              "#fdca26"
             ],
             [
              1,
              "#f0f921"
             ]
            ],
            "type": "histogram2dcontour"
           }
          ],
          "mesh3d": [
           {
            "colorbar": {
             "outlinewidth": 0,
             "ticks": ""
            },
            "type": "mesh3d"
           }
          ],
          "parcoords": [
           {
            "line": {
             "colorbar": {
              "outlinewidth": 0,
              "ticks": ""
             }
            },
            "type": "parcoords"
           }
          ],
          "pie": [
           {
            "automargin": true,
            "type": "pie"
           }
          ],
          "scatter": [
           {
            "fillpattern": {
             "fillmode": "overlay",
             "size": 10,
             "solidity": 0.2
            },
            "type": "scatter"
           }
          ],
          "scatter3d": [
           {
            "line": {
             "colorbar": {
              "outlinewidth": 0,
              "ticks": ""
             }
            },
            "marker": {
             "colorbar": {
              "outlinewidth": 0,
              "ticks": ""
             }
            },
            "type": "scatter3d"
           }
          ],
          "scattercarpet": [
           {
            "marker": {
             "colorbar": {
              "outlinewidth": 0,
              "ticks": ""
             }
            },
            "type": "scattercarpet"
           }
          ],
          "scattergeo": [
           {
            "marker": {
             "colorbar": {
              "outlinewidth": 0,
              "ticks": ""
             }
            },
            "type": "scattergeo"
           }
          ],
          "scattergl": [
           {
            "marker": {
             "colorbar": {
              "outlinewidth": 0,
              "ticks": ""
             }
            },
            "type": "scattergl"
           }
          ],
          "scattermapbox": [
           {
            "marker": {
             "colorbar": {
              "outlinewidth": 0,
              "ticks": ""
             }
            },
            "type": "scattermapbox"
           }
          ],
          "scatterpolar": [
           {
            "marker": {
             "colorbar": {
              "outlinewidth": 0,
              "ticks": ""
             }
            },
            "type": "scatterpolar"
           }
          ],
          "scatterpolargl": [
           {
            "marker": {
             "colorbar": {
              "outlinewidth": 0,
              "ticks": ""
             }
            },
            "type": "scatterpolargl"
           }
          ],
          "scatterternary": [
           {
            "marker": {
             "colorbar": {
              "outlinewidth": 0,
              "ticks": ""
             }
            },
            "type": "scatterternary"
           }
          ],
          "surface": [
           {
            "colorbar": {
             "outlinewidth": 0,
             "ticks": ""
            },
            "colorscale": [
             [
              0,
              "#0d0887"
             ],
             [
              0.1111111111111111,
              "#46039f"
             ],
             [
              0.2222222222222222,
              "#7201a8"
             ],
             [
              0.3333333333333333,
              "#9c179e"
             ],
             [
              0.4444444444444444,
              "#bd3786"
             ],
             [
              0.5555555555555556,
              "#d8576b"
             ],
             [
              0.6666666666666666,
              "#ed7953"
             ],
             [
              0.7777777777777778,
              "#fb9f3a"
             ],
             [
              0.8888888888888888,
              "#fdca26"
             ],
             [
              1,
              "#f0f921"
             ]
            ],
            "type": "surface"
           }
          ],
          "table": [
           {
            "cells": {
             "fill": {
              "color": "#EBF0F8"
             },
             "line": {
              "color": "white"
             }
            },
            "header": {
             "fill": {
              "color": "#C8D4E3"
             },
             "line": {
              "color": "white"
             }
            },
            "type": "table"
           }
          ]
         },
         "layout": {
          "annotationdefaults": {
           "arrowcolor": "#2a3f5f",
           "arrowhead": 0,
           "arrowwidth": 1
          },
          "autotypenumbers": "strict",
          "coloraxis": {
           "colorbar": {
            "outlinewidth": 0,
            "ticks": ""
           }
          },
          "colorscale": {
           "diverging": [
            [
             0,
             "#8e0152"
            ],
            [
             0.1,
             "#c51b7d"
            ],
            [
             0.2,
             "#de77ae"
            ],
            [
             0.3,
             "#f1b6da"
            ],
            [
             0.4,
             "#fde0ef"
            ],
            [
             0.5,
             "#f7f7f7"
            ],
            [
             0.6,
             "#e6f5d0"
            ],
            [
             0.7,
             "#b8e186"
            ],
            [
             0.8,
             "#7fbc41"
            ],
            [
             0.9,
             "#4d9221"
            ],
            [
             1,
             "#276419"
            ]
           ],
           "sequential": [
            [
             0,
             "#0d0887"
            ],
            [
             0.1111111111111111,
             "#46039f"
            ],
            [
             0.2222222222222222,
             "#7201a8"
            ],
            [
             0.3333333333333333,
             "#9c179e"
            ],
            [
             0.4444444444444444,
             "#bd3786"
            ],
            [
             0.5555555555555556,
             "#d8576b"
            ],
            [
             0.6666666666666666,
             "#ed7953"
            ],
            [
             0.7777777777777778,
             "#fb9f3a"
            ],
            [
             0.8888888888888888,
             "#fdca26"
            ],
            [
             1,
             "#f0f921"
            ]
           ],
           "sequentialminus": [
            [
             0,
             "#0d0887"
            ],
            [
             0.1111111111111111,
             "#46039f"
            ],
            [
             0.2222222222222222,
             "#7201a8"
            ],
            [
             0.3333333333333333,
             "#9c179e"
            ],
            [
             0.4444444444444444,
             "#bd3786"
            ],
            [
             0.5555555555555556,
             "#d8576b"
            ],
            [
             0.6666666666666666,
             "#ed7953"
            ],
            [
             0.7777777777777778,
             "#fb9f3a"
            ],
            [
             0.8888888888888888,
             "#fdca26"
            ],
            [
             1,
             "#f0f921"
            ]
           ]
          },
          "colorway": [
           "#636efa",
           "#EF553B",
           "#00cc96",
           "#ab63fa",
           "#FFA15A",
           "#19d3f3",
           "#FF6692",
           "#B6E880",
           "#FF97FF",
           "#FECB52"
          ],
          "font": {
           "color": "#2a3f5f"
          },
          "geo": {
           "bgcolor": "white",
           "lakecolor": "white",
           "landcolor": "#E5ECF6",
           "showlakes": true,
           "showland": true,
           "subunitcolor": "white"
          },
          "hoverlabel": {
           "align": "left"
          },
          "hovermode": "closest",
          "mapbox": {
           "style": "light"
          },
          "paper_bgcolor": "white",
          "plot_bgcolor": "#E5ECF6",
          "polar": {
           "angularaxis": {
            "gridcolor": "white",
            "linecolor": "white",
            "ticks": ""
           },
           "bgcolor": "#E5ECF6",
           "radialaxis": {
            "gridcolor": "white",
            "linecolor": "white",
            "ticks": ""
           }
          },
          "scene": {
           "xaxis": {
            "backgroundcolor": "#E5ECF6",
            "gridcolor": "white",
            "gridwidth": 2,
            "linecolor": "white",
            "showbackground": true,
            "ticks": "",
            "zerolinecolor": "white"
           },
           "yaxis": {
            "backgroundcolor": "#E5ECF6",
            "gridcolor": "white",
            "gridwidth": 2,
            "linecolor": "white",
            "showbackground": true,
            "ticks": "",
            "zerolinecolor": "white"
           },
           "zaxis": {
            "backgroundcolor": "#E5ECF6",
            "gridcolor": "white",
            "gridwidth": 2,
            "linecolor": "white",
            "showbackground": true,
            "ticks": "",
            "zerolinecolor": "white"
           }
          },
          "shapedefaults": {
           "line": {
            "color": "#2a3f5f"
           }
          },
          "ternary": {
           "aaxis": {
            "gridcolor": "white",
            "linecolor": "white",
            "ticks": ""
           },
           "baxis": {
            "gridcolor": "white",
            "linecolor": "white",
            "ticks": ""
           },
           "bgcolor": "#E5ECF6",
           "caxis": {
            "gridcolor": "white",
            "linecolor": "white",
            "ticks": ""
           }
          },
          "title": {
           "x": 0.05
          },
          "xaxis": {
           "automargin": true,
           "gridcolor": "white",
           "linecolor": "white",
           "ticks": "",
           "title": {
            "standoff": 15
           },
           "zerolinecolor": "white",
           "zerolinewidth": 2
          },
          "yaxis": {
           "automargin": true,
           "gridcolor": "white",
           "linecolor": "white",
           "ticks": "",
           "title": {
            "standoff": 15
           },
           "zerolinecolor": "white",
           "zerolinewidth": 2
          }
         }
        },
        "xaxis": {
         "anchor": "y",
         "domain": [
          0,
          0.45
         ],
         "tickfont": {
          "size": 10
         }
        },
        "xaxis2": {
         "anchor": "y2",
         "domain": [
          0.55,
          1
         ],
         "tickfont": {
          "size": 10
         }
        },
        "xaxis3": {
         "anchor": "y3",
         "domain": [
          0,
          0.45
         ],
         "tickfont": {
          "size": 10
         }
        },
        "xaxis4": {
         "anchor": "y4",
         "domain": [
          0.55,
          1
         ],
         "tickfont": {
          "size": 10
         }
        },
        "yaxis": {
         "anchor": "x",
         "domain": [
          0.625,
          1
         ]
        },
        "yaxis2": {
         "anchor": "x2",
         "domain": [
          0.625,
          1
         ]
        },
        "yaxis3": {
         "anchor": "x3",
         "domain": [
          0,
          0.375
         ]
        },
        "yaxis4": {
         "anchor": "x4",
         "domain": [
          0,
          0.375
         ]
        }
       }
      }
     },
     "metadata": {},
     "output_type": "display_data"
    },
    {
     "data": {
      "application/vnd.plotly.v1+json": {
       "config": {
        "plotlyServerURL": "https://plot.ly"
       },
       "data": [
        {
         "marker": {
          "color": "#3498db"
         },
         "name": "books",
         "showlegend": true,
         "type": "bar",
         "x": [
          "the",
          "and",
          "of",
          "a",
          "to",
          "he",
          "in",
          "i",
          "was",
          "had"
         ],
         "xaxis": "x",
         "y": [
          606,
          344,
          297,
          256,
          232,
          172,
          148,
          131,
          128,
          124
         ],
         "yaxis": "y"
        },
        {
         "marker": {
          "color": "#3498db"
         },
         "name": "books",
         "showlegend": false,
         "type": "bar",
         "x": [
          "the",
          "a",
          "i",
          "of",
          "to",
          "he",
          "and",
          "in",
          "was",
          "his"
         ],
         "xaxis": "x2",
         "y": [
          470,
          337,
          330,
          313,
          251,
          199,
          191,
          175,
          169,
          149
         ],
         "yaxis": "y2"
        },
        {
         "marker": {
          "color": "#3498db"
         },
         "name": "books",
         "showlegend": false,
         "type": "bar",
         "x": [
          "the",
          "and",
          "of",
          "a",
          "i",
          "to",
          "in",
          "he",
          "my",
          "his"
         ],
         "xaxis": "x3",
         "y": [
          657,
          408,
          309,
          250,
          189,
          156,
          131,
          118,
          118,
          116
         ],
         "yaxis": "y3"
        },
        {
         "marker": {
          "color": "#3498db"
         },
         "name": "books",
         "showlegend": false,
         "type": "bar",
         "x": [
          "the",
          "and",
          "to",
          "i",
          "a",
          "of",
          "it",
          "you",
          "in",
          "that"
         ],
         "xaxis": "x4",
         "y": [
          345,
          298,
          267,
          230,
          226,
          176,
          171,
          147,
          143,
          135
         ],
         "yaxis": "y4"
        },
        {
         "marker": {
          "color": "#3498db"
         },
         "name": "books",
         "showlegend": false,
         "type": "bar",
         "x": [
          "the",
          "and",
          "a",
          "of",
          "i",
          "to",
          "in",
          "was",
          "that",
          "it"
         ],
         "xaxis": "x5",
         "y": [
          555,
          333,
          317,
          303,
          292,
          252,
          174,
          133,
          111,
          110
         ],
         "yaxis": "y5"
        },
        {
         "marker": {
          "color": "#e74c3c"
         },
         "name": "gpt-3.5-turbo-0125",
         "showlegend": true,
         "type": "bar",
         "x": [
          "the",
          "a",
          "of",
          "and",
          "i",
          "that",
          "in",
          "my",
          "like",
          "with"
         ],
         "xaxis": "x6",
         "y": [
          47,
          44,
          32,
          30,
          24,
          23,
          14,
          14,
          11,
          11
         ],
         "yaxis": "y6"
        },
        {
         "marker": {
          "color": "#e74c3c"
         },
         "name": "gpt-3.5-turbo-0125",
         "showlegend": false,
         "type": "bar",
         "x": [
          "the",
          "a",
          "and",
          "of",
          "i",
          "in",
          "with",
          "to",
          "was",
          "their"
         ],
         "xaxis": "x7",
         "y": [
          33,
          17,
          17,
          15,
          9,
          9,
          9,
          8,
          6,
          5
         ],
         "yaxis": "y7"
        },
        {
         "marker": {
          "color": "#e74c3c"
         },
         "name": "gpt-3.5-turbo-0125",
         "showlegend": false,
         "type": "bar",
         "x": [
          "a",
          "the",
          "of",
          "that",
          "with",
          "was",
          "and",
          "as",
          "in",
          "it"
         ],
         "xaxis": "x8",
         "y": [
          27,
          22,
          20,
          12,
          12,
          10,
          9,
          7,
          5,
          5
         ],
         "yaxis": "y8"
        },
        {
         "marker": {
          "color": "#e74c3c"
         },
         "name": "gpt-3.5-turbo-0125",
         "showlegend": false,
         "type": "bar",
         "x": [
          "the",
          "a",
          "of",
          "and",
          "was",
          "to",
          "i",
          "that",
          "with",
          "as"
         ],
         "xaxis": "x9",
         "y": [
          40,
          34,
          33,
          16,
          16,
          15,
          10,
          10,
          9,
          8
         ],
         "yaxis": "y9"
        },
        {
         "marker": {
          "color": "#e74c3c"
         },
         "name": "gpt-3.5-turbo-0125",
         "showlegend": false,
         "type": "bar",
         "x": [
          "the",
          "a",
          "of",
          "and",
          "that",
          "i",
          "my",
          "to",
          "was",
          "had"
         ],
         "xaxis": "x10",
         "y": [
          39,
          38,
          36,
          29,
          21,
          20,
          17,
          16,
          15,
          10
         ],
         "yaxis": "y10"
        },
        {
         "marker": {
          "color": "#2ecc71"
         },
         "name": "gpt-4o",
         "showlegend": true,
         "type": "bar",
         "x": [
          "the",
          "a",
          "of",
          "and",
          "that",
          "was",
          "to",
          "with",
          "as",
          "had"
         ],
         "xaxis": "x11",
         "y": [
          75,
          39,
          31,
          19,
          17,
          16,
          13,
          10,
          9,
          9
         ],
         "yaxis": "y11"
        },
        {
         "marker": {
          "color": "#2ecc71"
         },
         "name": "gpt-4o",
         "showlegend": false,
         "type": "bar",
         "x": [
          "the",
          "a",
          "of",
          "that",
          "was",
          "to",
          "as",
          "and",
          "with",
          "in"
         ],
         "xaxis": "x12",
         "y": [
          90,
          45,
          40,
          30,
          23,
          22,
          14,
          13,
          13,
          12
         ],
         "yaxis": "y12"
        },
        {
         "marker": {
          "color": "#2ecc71"
         },
         "name": "gpt-4o",
         "showlegend": false,
         "type": "bar",
         "x": [
          "the",
          "a",
          "of",
          "was",
          "and",
          "that",
          "with",
          "to",
          "in",
          "it"
         ],
         "xaxis": "x13",
         "y": [
          44,
          43,
          37,
          22,
          21,
          15,
          14,
          13,
          11,
          9
         ],
         "yaxis": "y13"
        },
        {
         "marker": {
          "color": "#2ecc71"
         },
         "name": "gpt-4o",
         "showlegend": false,
         "type": "bar",
         "x": [
          "the",
          "of",
          "a",
          "and",
          "with",
          "to",
          "was",
          "i",
          "in",
          "that"
         ],
         "xaxis": "x14",
         "y": [
          74,
          43,
          36,
          31,
          20,
          19,
          17,
          16,
          12,
          12
         ],
         "yaxis": "y14"
        },
        {
         "marker": {
          "color": "#2ecc71"
         },
         "name": "gpt-4o",
         "showlegend": false,
         "type": "bar",
         "x": [
          "the",
          "of",
          "a",
          "and",
          "that",
          "to",
          "with",
          "i",
          "was",
          "as"
         ],
         "xaxis": "x15",
         "y": [
          80,
          57,
          38,
          30,
          25,
          21,
          19,
          15,
          13,
          10
         ],
         "yaxis": "y15"
        },
        {
         "marker": {
          "color": "#f1c40f"
         },
         "name": "gemini-1.5-flash",
         "showlegend": true,
         "type": "bar",
         "x": [
          "the",
          "a",
          "of",
          "and",
          "it",
          "i",
          "to",
          "my",
          "in",
          "was"
         ],
         "xaxis": "x16",
         "y": [
          68,
          53,
          38,
          37,
          26,
          23,
          18,
          16,
          14,
          13
         ],
         "yaxis": "y16"
        },
        {
         "marker": {
          "color": "#f1c40f"
         },
         "name": "gemini-1.5-flash",
         "showlegend": false,
         "type": "bar",
         "x": [
          "the",
          "a",
          "of",
          "with",
          "and",
          "that",
          "to",
          "was",
          "had",
          "their"
         ],
         "xaxis": "x17",
         "y": [
          80,
          57,
          49,
          28,
          21,
          21,
          13,
          11,
          10,
          10
         ],
         "yaxis": "y17"
        },
        {
         "marker": {
          "color": "#f1c40f"
         },
         "name": "gemini-1.5-flash",
         "showlegend": false,
         "type": "bar",
         "x": [
          "the",
          "a",
          "of",
          "and",
          "was",
          "that",
          "to",
          "with",
          "i",
          "my"
         ],
         "xaxis": "x18",
         "y": [
          58,
          53,
          36,
          27,
          18,
          14,
          14,
          14,
          13,
          8
         ],
         "yaxis": "y18"
        },
        {
         "marker": {
          "color": "#f1c40f"
         },
         "name": "gemini-1.5-flash",
         "showlegend": false,
         "type": "bar",
         "x": [
          "the",
          "a",
          "of",
          "and",
          "in",
          "with",
          "she",
          "as",
          "it",
          "that"
         ],
         "xaxis": "x19",
         "y": [
          63,
          41,
          31,
          28,
          20,
          19,
          16,
          14,
          14,
          14
         ],
         "yaxis": "y19"
        },
        {
         "marker": {
          "color": "#f1c40f"
         },
         "name": "gemini-1.5-flash",
         "showlegend": false,
         "type": "bar",
         "x": [
          "the",
          "a",
          "of",
          "that",
          "and",
          "with",
          "was",
          "to",
          "their",
          "i"
         ],
         "xaxis": "x20",
         "y": [
          67,
          57,
          47,
          29,
          22,
          20,
          15,
          13,
          10,
          9
         ],
         "yaxis": "y20"
        },
        {
         "marker": {
          "color": "#9b59b6"
         },
         "name": "open-mixtral-8x7b",
         "showlegend": true,
         "type": "bar",
         "x": [
          "the",
          "a",
          "of",
          "and",
          "i",
          "to",
          "was",
          "in",
          "that",
          "with"
         ],
         "xaxis": "x21",
         "y": [
          50,
          40,
          28,
          26,
          16,
          16,
          16,
          12,
          11,
          11
         ],
         "yaxis": "y21"
        },
        {
         "marker": {
          "color": "#9b59b6"
         },
         "name": "open-mixtral-8x7b",
         "showlegend": false,
         "type": "bar",
         "x": [
          "the",
          "of",
          "a",
          "was",
          "that",
          "and",
          "it",
          "in",
          "had",
          "i"
         ],
         "xaxis": "x22",
         "y": [
          71,
          53,
          44,
          28,
          27,
          25,
          20,
          15,
          13,
          13
         ],
         "yaxis": "y22"
        },
        {
         "marker": {
          "color": "#9b59b6"
         },
         "name": "open-mixtral-8x7b",
         "showlegend": false,
         "type": "bar",
         "x": [
          "the",
          "of",
          "a",
          "and",
          "that",
          "to",
          "was",
          "i",
          "in",
          "as"
         ],
         "xaxis": "x23",
         "y": [
          85,
          66,
          54,
          37,
          27,
          23,
          22,
          21,
          18,
          17
         ],
         "yaxis": "y23"
        },
        {
         "marker": {
          "color": "#9b59b6"
         },
         "name": "open-mixtral-8x7b",
         "showlegend": false,
         "type": "bar",
         "x": [
          "the",
          "and",
          "of",
          "a",
          "was",
          "that",
          "it",
          "i",
          "with",
          "to"
         ],
         "xaxis": "x24",
         "y": [
          79,
          44,
          37,
          35,
          31,
          25,
          21,
          20,
          14,
          11
         ],
         "yaxis": "y24"
        },
        {
         "marker": {
          "color": "#9b59b6"
         },
         "name": "open-mixtral-8x7b",
         "showlegend": false,
         "type": "bar",
         "x": [
          "the",
          "and",
          "of",
          "a",
          "i",
          "to",
          "that",
          "in",
          "was",
          "my"
         ],
         "xaxis": "x25",
         "y": [
          83,
          72,
          70,
          50,
          41,
          39,
          28,
          26,
          22,
          19
         ],
         "yaxis": "y25"
        },
        {
         "marker": {
          "color": "#e67e22"
         },
         "name": "claude-3-haiku-20240307",
         "showlegend": true,
         "type": "bar",
         "x": [
          "the",
          "a",
          "of",
          "and",
          "i",
          "my",
          "to",
          "that",
          "you",
          "with"
         ],
         "xaxis": "x26",
         "y": [
          154,
          93,
          87,
          64,
          58,
          53,
          40,
          34,
          32,
          26
         ],
         "yaxis": "y26"
        },
        {
         "marker": {
          "color": "#e67e22"
         },
         "name": "claude-3-haiku-20240307",
         "showlegend": false,
         "type": "bar",
         "x": [
          "the",
          "of",
          "a",
          "and",
          "that",
          "i",
          "my",
          "to",
          "was",
          "as"
         ],
         "xaxis": "x27",
         "y": [
          65,
          39,
          34,
          31,
          19,
          18,
          15,
          15,
          14,
          13
         ],
         "yaxis": "y27"
        },
        {
         "marker": {
          "color": "#e67e22"
         },
         "name": "claude-3-haiku-20240307",
         "showlegend": false,
         "type": "bar",
         "x": [
          "the",
          "of",
          "a",
          "and",
          "i",
          "to",
          "my",
          "that",
          "with",
          "as"
         ],
         "xaxis": "x28",
         "y": [
          88,
          59,
          44,
          35,
          26,
          24,
          18,
          15,
          14,
          10
         ],
         "yaxis": "y28"
        },
        {
         "marker": {
          "color": "#e67e22"
         },
         "name": "claude-3-haiku-20240307",
         "showlegend": false,
         "type": "bar",
         "x": [
          "the",
          "of",
          "a",
          "and",
          "i",
          "to",
          "my",
          "that",
          "in",
          "it"
         ],
         "xaxis": "x29",
         "y": [
          138,
          78,
          70,
          56,
          50,
          45,
          28,
          26,
          23,
          21
         ],
         "yaxis": "y29"
        },
        {
         "marker": {
          "color": "#e67e22"
         },
         "name": "claude-3-haiku-20240307",
         "showlegend": false,
         "type": "bar",
         "x": [
          "the",
          "a",
          "of",
          "and",
          "i",
          "to",
          "my",
          "that",
          "in",
          "it"
         ],
         "xaxis": "x30",
         "y": [
          90,
          55,
          54,
          44,
          26,
          24,
          22,
          18,
          13,
          12
         ],
         "yaxis": "y30"
        }
       ],
       "layout": {
        "annotations": [
         {
          "font": {
           "size": 16
          },
          "showarrow": false,
          "text": "Zane Grey",
          "x": 0.08399999999999999,
          "xanchor": "center",
          "xref": "paper",
          "y": 0.9999999999999999,
          "yanchor": "bottom",
          "yref": "paper"
         },
         {
          "font": {
           "size": 16
          },
          "showarrow": false,
          "text": "Joseph Conrad",
          "x": 0.292,
          "xanchor": "center",
          "xref": "paper",
          "y": 0.9999999999999999,
          "yanchor": "bottom",
          "yref": "paper"
         },
         {
          "font": {
           "size": 16
          },
          "showarrow": false,
          "text": "Benjamin Disraeli",
          "x": 0.5,
          "xanchor": "center",
          "xref": "paper",
          "y": 0.9999999999999999,
          "yanchor": "bottom",
          "yref": "paper"
         },
         {
          "font": {
           "size": 16
          },
          "showarrow": false,
          "text": "Lucy Maud Montgomery",
          "x": 0.708,
          "xanchor": "center",
          "xref": "paper",
          "y": 0.9999999999999999,
          "yanchor": "bottom",
          "yref": "paper"
         },
         {
          "font": {
           "size": 16
          },
          "showarrow": false,
          "text": "William Henry Hudson",
          "x": 0.9159999999999999,
          "xanchor": "center",
          "xref": "paper",
          "y": 0.9999999999999999,
          "yanchor": "bottom",
          "yref": "paper"
         }
        ],
        "height": 800,
        "template": {
         "data": {
          "bar": [
           {
            "error_x": {
             "color": "#2a3f5f"
            },
            "error_y": {
             "color": "#2a3f5f"
            },
            "marker": {
             "line": {
              "color": "#E5ECF6",
              "width": 0.5
             },
             "pattern": {
              "fillmode": "overlay",
              "size": 10,
              "solidity": 0.2
             }
            },
            "type": "bar"
           }
          ],
          "barpolar": [
           {
            "marker": {
             "line": {
              "color": "#E5ECF6",
              "width": 0.5
             },
             "pattern": {
              "fillmode": "overlay",
              "size": 10,
              "solidity": 0.2
             }
            },
            "type": "barpolar"
           }
          ],
          "carpet": [
           {
            "aaxis": {
             "endlinecolor": "#2a3f5f",
             "gridcolor": "white",
             "linecolor": "white",
             "minorgridcolor": "white",
             "startlinecolor": "#2a3f5f"
            },
            "baxis": {
             "endlinecolor": "#2a3f5f",
             "gridcolor": "white",
             "linecolor": "white",
             "minorgridcolor": "white",
             "startlinecolor": "#2a3f5f"
            },
            "type": "carpet"
           }
          ],
          "choropleth": [
           {
            "colorbar": {
             "outlinewidth": 0,
             "ticks": ""
            },
            "type": "choropleth"
           }
          ],
          "contour": [
           {
            "colorbar": {
             "outlinewidth": 0,
             "ticks": ""
            },
            "colorscale": [
             [
              0,
              "#0d0887"
             ],
             [
              0.1111111111111111,
              "#46039f"
             ],
             [
              0.2222222222222222,
              "#7201a8"
             ],
             [
              0.3333333333333333,
              "#9c179e"
             ],
             [
              0.4444444444444444,
              "#bd3786"
             ],
             [
              0.5555555555555556,
              "#d8576b"
             ],
             [
              0.6666666666666666,
              "#ed7953"
             ],
             [
              0.7777777777777778,
              "#fb9f3a"
             ],
             [
              0.8888888888888888,
              "#fdca26"
             ],
             [
              1,
              "#f0f921"
             ]
            ],
            "type": "contour"
           }
          ],
          "contourcarpet": [
           {
            "colorbar": {
             "outlinewidth": 0,
             "ticks": ""
            },
            "type": "contourcarpet"
           }
          ],
          "heatmap": [
           {
            "colorbar": {
             "outlinewidth": 0,
             "ticks": ""
            },
            "colorscale": [
             [
              0,
              "#0d0887"
             ],
             [
              0.1111111111111111,
              "#46039f"
             ],
             [
              0.2222222222222222,
              "#7201a8"
             ],
             [
              0.3333333333333333,
              "#9c179e"
             ],
             [
              0.4444444444444444,
              "#bd3786"
             ],
             [
              0.5555555555555556,
              "#d8576b"
             ],
             [
              0.6666666666666666,
              "#ed7953"
             ],
             [
              0.7777777777777778,
              "#fb9f3a"
             ],
             [
              0.8888888888888888,
              "#fdca26"
             ],
             [
              1,
              "#f0f921"
             ]
            ],
            "type": "heatmap"
           }
          ],
          "heatmapgl": [
           {
            "colorbar": {
             "outlinewidth": 0,
             "ticks": ""
            },
            "colorscale": [
             [
              0,
              "#0d0887"
             ],
             [
              0.1111111111111111,
              "#46039f"
             ],
             [
              0.2222222222222222,
              "#7201a8"
             ],
             [
              0.3333333333333333,
              "#9c179e"
             ],
             [
              0.4444444444444444,
              "#bd3786"
             ],
             [
              0.5555555555555556,
              "#d8576b"
             ],
             [
              0.6666666666666666,
              "#ed7953"
             ],
             [
              0.7777777777777778,
              "#fb9f3a"
             ],
             [
              0.8888888888888888,
              "#fdca26"
             ],
             [
              1,
              "#f0f921"
             ]
            ],
            "type": "heatmapgl"
           }
          ],
          "histogram": [
           {
            "marker": {
             "pattern": {
              "fillmode": "overlay",
              "size": 10,
              "solidity": 0.2
             }
            },
            "type": "histogram"
           }
          ],
          "histogram2d": [
           {
            "colorbar": {
             "outlinewidth": 0,
             "ticks": ""
            },
            "colorscale": [
             [
              0,
              "#0d0887"
             ],
             [
              0.1111111111111111,
              "#46039f"
             ],
             [
              0.2222222222222222,
              "#7201a8"
             ],
             [
              0.3333333333333333,
              "#9c179e"
             ],
             [
              0.4444444444444444,
              "#bd3786"
             ],
             [
              0.5555555555555556,
              "#d8576b"
             ],
             [
              0.6666666666666666,
              "#ed7953"
             ],
             [
              0.7777777777777778,
              "#fb9f3a"
             ],
             [
              0.8888888888888888,
              "#fdca26"
             ],
             [
              1,
              "#f0f921"
             ]
            ],
            "type": "histogram2d"
           }
          ],
          "histogram2dcontour": [
           {
            "colorbar": {
             "outlinewidth": 0,
             "ticks": ""
            },
            "colorscale": [
             [
              0,
              "#0d0887"
             ],
             [
              0.1111111111111111,
              "#46039f"
             ],
             [
              0.2222222222222222,
              "#7201a8"
             ],
             [
              0.3333333333333333,
              "#9c179e"
             ],
             [
              0.4444444444444444,
              "#bd3786"
             ],
             [
              0.5555555555555556,
              "#d8576b"
             ],
             [
              0.6666666666666666,
              "#ed7953"
             ],
             [
              0.7777777777777778,
              "#fb9f3a"
             ],
             [
              0.8888888888888888,
              "#fdca26"
             ],
             [
              1,
              "#f0f921"
             ]
            ],
            "type": "histogram2dcontour"
           }
          ],
          "mesh3d": [
           {
            "colorbar": {
             "outlinewidth": 0,
             "ticks": ""
            },
            "type": "mesh3d"
           }
          ],
          "parcoords": [
           {
            "line": {
             "colorbar": {
              "outlinewidth": 0,
              "ticks": ""
             }
            },
            "type": "parcoords"
           }
          ],
          "pie": [
           {
            "automargin": true,
            "type": "pie"
           }
          ],
          "scatter": [
           {
            "fillpattern": {
             "fillmode": "overlay",
             "size": 10,
             "solidity": 0.2
            },
            "type": "scatter"
           }
          ],
          "scatter3d": [
           {
            "line": {
             "colorbar": {
              "outlinewidth": 0,
              "ticks": ""
             }
            },
            "marker": {
             "colorbar": {
              "outlinewidth": 0,
              "ticks": ""
             }
            },
            "type": "scatter3d"
           }
          ],
          "scattercarpet": [
           {
            "marker": {
             "colorbar": {
              "outlinewidth": 0,
              "ticks": ""
             }
            },
            "type": "scattercarpet"
           }
          ],
          "scattergeo": [
           {
            "marker": {
             "colorbar": {
              "outlinewidth": 0,
              "ticks": ""
             }
            },
            "type": "scattergeo"
           }
          ],
          "scattergl": [
           {
            "marker": {
             "colorbar": {
              "outlinewidth": 0,
              "ticks": ""
             }
            },
            "type": "scattergl"
           }
          ],
          "scattermapbox": [
           {
            "marker": {
             "colorbar": {
              "outlinewidth": 0,
              "ticks": ""
             }
            },
            "type": "scattermapbox"
           }
          ],
          "scatterpolar": [
           {
            "marker": {
             "colorbar": {
              "outlinewidth": 0,
              "ticks": ""
             }
            },
            "type": "scatterpolar"
           }
          ],
          "scatterpolargl": [
           {
            "marker": {
             "colorbar": {
              "outlinewidth": 0,
              "ticks": ""
             }
            },
            "type": "scatterpolargl"
           }
          ],
          "scatterternary": [
           {
            "marker": {
             "colorbar": {
              "outlinewidth": 0,
              "ticks": ""
             }
            },
            "type": "scatterternary"
           }
          ],
          "surface": [
           {
            "colorbar": {
             "outlinewidth": 0,
             "ticks": ""
            },
            "colorscale": [
             [
              0,
              "#0d0887"
             ],
             [
              0.1111111111111111,
              "#46039f"
             ],
             [
              0.2222222222222222,
              "#7201a8"
             ],
             [
              0.3333333333333333,
              "#9c179e"
             ],
             [
              0.4444444444444444,
              "#bd3786"
             ],
             [
              0.5555555555555556,
              "#d8576b"
             ],
             [
              0.6666666666666666,
              "#ed7953"
             ],
             [
              0.7777777777777778,
              "#fb9f3a"
             ],
             [
              0.8888888888888888,
              "#fdca26"
             ],
             [
              1,
              "#f0f921"
             ]
            ],
            "type": "surface"
           }
          ],
          "table": [
           {
            "cells": {
             "fill": {
              "color": "#EBF0F8"
             },
             "line": {
              "color": "white"
             }
            },
            "header": {
             "fill": {
              "color": "#C8D4E3"
             },
             "line": {
              "color": "white"
             }
            },
            "type": "table"
           }
          ]
         },
         "layout": {
          "annotationdefaults": {
           "arrowcolor": "#2a3f5f",
           "arrowhead": 0,
           "arrowwidth": 1
          },
          "autotypenumbers": "strict",
          "coloraxis": {
           "colorbar": {
            "outlinewidth": 0,
            "ticks": ""
           }
          },
          "colorscale": {
           "diverging": [
            [
             0,
             "#8e0152"
            ],
            [
             0.1,
             "#c51b7d"
            ],
            [
             0.2,
             "#de77ae"
            ],
            [
             0.3,
             "#f1b6da"
            ],
            [
             0.4,
             "#fde0ef"
            ],
            [
             0.5,
             "#f7f7f7"
            ],
            [
             0.6,
             "#e6f5d0"
            ],
            [
             0.7,
             "#b8e186"
            ],
            [
             0.8,
             "#7fbc41"
            ],
            [
             0.9,
             "#4d9221"
            ],
            [
             1,
             "#276419"
            ]
           ],
           "sequential": [
            [
             0,
             "#0d0887"
            ],
            [
             0.1111111111111111,
             "#46039f"
            ],
            [
             0.2222222222222222,
             "#7201a8"
            ],
            [
             0.3333333333333333,
             "#9c179e"
            ],
            [
             0.4444444444444444,
             "#bd3786"
            ],
            [
             0.5555555555555556,
             "#d8576b"
            ],
            [
             0.6666666666666666,
             "#ed7953"
            ],
            [
             0.7777777777777778,
             "#fb9f3a"
            ],
            [
             0.8888888888888888,
             "#fdca26"
            ],
            [
             1,
             "#f0f921"
            ]
           ],
           "sequentialminus": [
            [
             0,
             "#0d0887"
            ],
            [
             0.1111111111111111,
             "#46039f"
            ],
            [
             0.2222222222222222,
             "#7201a8"
            ],
            [
             0.3333333333333333,
             "#9c179e"
            ],
            [
             0.4444444444444444,
             "#bd3786"
            ],
            [
             0.5555555555555556,
             "#d8576b"
            ],
            [
             0.6666666666666666,
             "#ed7953"
            ],
            [
             0.7777777777777778,
             "#fb9f3a"
            ],
            [
             0.8888888888888888,
             "#fdca26"
            ],
            [
             1,
             "#f0f921"
            ]
           ]
          },
          "colorway": [
           "#636efa",
           "#EF553B",
           "#00cc96",
           "#ab63fa",
           "#FFA15A",
           "#19d3f3",
           "#FF6692",
           "#B6E880",
           "#FF97FF",
           "#FECB52"
          ],
          "font": {
           "color": "#2a3f5f"
          },
          "geo": {
           "bgcolor": "white",
           "lakecolor": "white",
           "landcolor": "#E5ECF6",
           "showlakes": true,
           "showland": true,
           "subunitcolor": "white"
          },
          "hoverlabel": {
           "align": "left"
          },
          "hovermode": "closest",
          "mapbox": {
           "style": "light"
          },
          "paper_bgcolor": "white",
          "plot_bgcolor": "#E5ECF6",
          "polar": {
           "angularaxis": {
            "gridcolor": "white",
            "linecolor": "white",
            "ticks": ""
           },
           "bgcolor": "#E5ECF6",
           "radialaxis": {
            "gridcolor": "white",
            "linecolor": "white",
            "ticks": ""
           }
          },
          "scene": {
           "xaxis": {
            "backgroundcolor": "#E5ECF6",
            "gridcolor": "white",
            "gridwidth": 2,
            "linecolor": "white",
            "showbackground": true,
            "ticks": "",
            "zerolinecolor": "white"
           },
           "yaxis": {
            "backgroundcolor": "#E5ECF6",
            "gridcolor": "white",
            "gridwidth": 2,
            "linecolor": "white",
            "showbackground": true,
            "ticks": "",
            "zerolinecolor": "white"
           },
           "zaxis": {
            "backgroundcolor": "#E5ECF6",
            "gridcolor": "white",
            "gridwidth": 2,
            "linecolor": "white",
            "showbackground": true,
            "ticks": "",
            "zerolinecolor": "white"
           }
          },
          "shapedefaults": {
           "line": {
            "color": "#2a3f5f"
           }
          },
          "ternary": {
           "aaxis": {
            "gridcolor": "white",
            "linecolor": "white",
            "ticks": ""
           },
           "baxis": {
            "gridcolor": "white",
            "linecolor": "white",
            "ticks": ""
           },
           "bgcolor": "#E5ECF6",
           "caxis": {
            "gridcolor": "white",
            "linecolor": "white",
            "ticks": ""
           }
          },
          "title": {
           "x": 0.05
          },
          "xaxis": {
           "automargin": true,
           "gridcolor": "white",
           "linecolor": "white",
           "ticks": "",
           "title": {
            "standoff": 15
           },
           "zerolinecolor": "white",
           "zerolinewidth": 2
          },
          "yaxis": {
           "automargin": true,
           "gridcolor": "white",
           "linecolor": "white",
           "ticks": "",
           "title": {
            "standoff": 15
           },
           "zerolinecolor": "white",
           "zerolinewidth": 2
          }
         }
        },
        "xaxis": {
         "anchor": "y",
         "domain": [
          0,
          0.16799999999999998
         ],
         "tickfont": {
          "size": 10
         }
        },
        "xaxis10": {
         "anchor": "y10",
         "domain": [
          0.832,
          1
         ],
         "tickfont": {
          "size": 10
         }
        },
        "xaxis11": {
         "anchor": "y11",
         "domain": [
          0,
          0.16799999999999998
         ],
         "tickfont": {
          "size": 10
         }
        },
        "xaxis12": {
         "anchor": "y12",
         "domain": [
          0.208,
          0.376
         ],
         "tickfont": {
          "size": 10
         }
        },
        "xaxis13": {
         "anchor": "y13",
         "domain": [
          0.416,
          0.584
         ],
         "tickfont": {
          "size": 10
         }
        },
        "xaxis14": {
         "anchor": "y14",
         "domain": [
          0.624,
          0.792
         ],
         "tickfont": {
          "size": 10
         }
        },
        "xaxis15": {
         "anchor": "y15",
         "domain": [
          0.832,
          1
         ],
         "tickfont": {
          "size": 10
         }
        },
        "xaxis16": {
         "anchor": "y16",
         "domain": [
          0,
          0.16799999999999998
         ],
         "tickfont": {
          "size": 10
         }
        },
        "xaxis17": {
         "anchor": "y17",
         "domain": [
          0.208,
          0.376
         ],
         "tickfont": {
          "size": 10
         }
        },
        "xaxis18": {
         "anchor": "y18",
         "domain": [
          0.416,
          0.584
         ],
         "tickfont": {
          "size": 10
         }
        },
        "xaxis19": {
         "anchor": "y19",
         "domain": [
          0.624,
          0.792
         ],
         "tickfont": {
          "size": 10
         }
        },
        "xaxis2": {
         "anchor": "y2",
         "domain": [
          0.208,
          0.376
         ],
         "tickfont": {
          "size": 10
         }
        },
        "xaxis20": {
         "anchor": "y20",
         "domain": [
          0.832,
          1
         ],
         "tickfont": {
          "size": 10
         }
        },
        "xaxis21": {
         "anchor": "y21",
         "domain": [
          0,
          0.16799999999999998
         ],
         "tickfont": {
          "size": 10
         }
        },
        "xaxis22": {
         "anchor": "y22",
         "domain": [
          0.208,
          0.376
         ],
         "tickfont": {
          "size": 10
         }
        },
        "xaxis23": {
         "anchor": "y23",
         "domain": [
          0.416,
          0.584
         ],
         "tickfont": {
          "size": 10
         }
        },
        "xaxis24": {
         "anchor": "y24",
         "domain": [
          0.624,
          0.792
         ],
         "tickfont": {
          "size": 10
         }
        },
        "xaxis25": {
         "anchor": "y25",
         "domain": [
          0.832,
          1
         ],
         "tickfont": {
          "size": 10
         }
        },
        "xaxis26": {
         "anchor": "y26",
         "domain": [
          0,
          0.16799999999999998
         ],
         "tickfont": {
          "size": 10
         }
        },
        "xaxis27": {
         "anchor": "y27",
         "domain": [
          0.208,
          0.376
         ],
         "tickfont": {
          "size": 10
         }
        },
        "xaxis28": {
         "anchor": "y28",
         "domain": [
          0.416,
          0.584
         ],
         "tickfont": {
          "size": 10
         }
        },
        "xaxis29": {
         "anchor": "y29",
         "domain": [
          0.624,
          0.792
         ],
         "tickfont": {
          "size": 10
         }
        },
        "xaxis3": {
         "anchor": "y3",
         "domain": [
          0.416,
          0.584
         ],
         "tickfont": {
          "size": 10
         }
        },
        "xaxis30": {
         "anchor": "y30",
         "domain": [
          0.832,
          1
         ],
         "tickfont": {
          "size": 10
         }
        },
        "xaxis4": {
         "anchor": "y4",
         "domain": [
          0.624,
          0.792
         ],
         "tickfont": {
          "size": 10
         }
        },
        "xaxis5": {
         "anchor": "y5",
         "domain": [
          0.832,
          1
         ],
         "tickfont": {
          "size": 10
         }
        },
        "xaxis6": {
         "anchor": "y6",
         "domain": [
          0,
          0.16799999999999998
         ],
         "tickfont": {
          "size": 10
         }
        },
        "xaxis7": {
         "anchor": "y7",
         "domain": [
          0.208,
          0.376
         ],
         "tickfont": {
          "size": 10
         }
        },
        "xaxis8": {
         "anchor": "y8",
         "domain": [
          0.416,
          0.584
         ],
         "tickfont": {
          "size": 10
         }
        },
        "xaxis9": {
         "anchor": "y9",
         "domain": [
          0.624,
          0.792
         ],
         "tickfont": {
          "size": 10
         }
        },
        "yaxis": {
         "anchor": "x",
         "domain": [
          0.9027777777777777,
          0.9999999999999999
         ],
         "range": [
          0,
          657
         ]
        },
        "yaxis10": {
         "anchor": "x10",
         "domain": [
          0.7222222222222222,
          0.8194444444444444
         ],
         "range": [
          0,
          657
         ]
        },
        "yaxis11": {
         "anchor": "x11",
         "domain": [
          0.5416666666666667,
          0.638888888888889
         ],
         "range": [
          0,
          657
         ]
        },
        "yaxis12": {
         "anchor": "x12",
         "domain": [
          0.5416666666666667,
          0.638888888888889
         ],
         "range": [
          0,
          657
         ]
        },
        "yaxis13": {
         "anchor": "x13",
         "domain": [
          0.5416666666666667,
          0.638888888888889
         ],
         "range": [
          0,
          657
         ]
        },
        "yaxis14": {
         "anchor": "x14",
         "domain": [
          0.5416666666666667,
          0.638888888888889
         ],
         "range": [
          0,
          657
         ]
        },
        "yaxis15": {
         "anchor": "x15",
         "domain": [
          0.5416666666666667,
          0.638888888888889
         ],
         "range": [
          0,
          657
         ]
        },
        "yaxis16": {
         "anchor": "x16",
         "domain": [
          0.3611111111111111,
          0.4583333333333333
         ],
         "range": [
          0,
          657
         ]
        },
        "yaxis17": {
         "anchor": "x17",
         "domain": [
          0.3611111111111111,
          0.4583333333333333
         ],
         "range": [
          0,
          657
         ]
        },
        "yaxis18": {
         "anchor": "x18",
         "domain": [
          0.3611111111111111,
          0.4583333333333333
         ],
         "range": [
          0,
          657
         ]
        },
        "yaxis19": {
         "anchor": "x19",
         "domain": [
          0.3611111111111111,
          0.4583333333333333
         ],
         "range": [
          0,
          657
         ]
        },
        "yaxis2": {
         "anchor": "x2",
         "domain": [
          0.9027777777777777,
          0.9999999999999999
         ],
         "range": [
          0,
          657
         ]
        },
        "yaxis20": {
         "anchor": "x20",
         "domain": [
          0.3611111111111111,
          0.4583333333333333
         ],
         "range": [
          0,
          657
         ]
        },
        "yaxis21": {
         "anchor": "x21",
         "domain": [
          0.18055555555555555,
          0.2777777777777778
         ],
         "range": [
          0,
          657
         ]
        },
        "yaxis22": {
         "anchor": "x22",
         "domain": [
          0.18055555555555555,
          0.2777777777777778
         ],
         "range": [
          0,
          657
         ]
        },
        "yaxis23": {
         "anchor": "x23",
         "domain": [
          0.18055555555555555,
          0.2777777777777778
         ],
         "range": [
          0,
          657
         ]
        },
        "yaxis24": {
         "anchor": "x24",
         "domain": [
          0.18055555555555555,
          0.2777777777777778
         ],
         "range": [
          0,
          657
         ]
        },
        "yaxis25": {
         "anchor": "x25",
         "domain": [
          0.18055555555555555,
          0.2777777777777778
         ],
         "range": [
          0,
          657
         ]
        },
        "yaxis26": {
         "anchor": "x26",
         "domain": [
          0,
          0.09722222222222222
         ],
         "range": [
          0,
          657
         ]
        },
        "yaxis27": {
         "anchor": "x27",
         "domain": [
          0,
          0.09722222222222222
         ],
         "range": [
          0,
          657
         ]
        },
        "yaxis28": {
         "anchor": "x28",
         "domain": [
          0,
          0.09722222222222222
         ],
         "range": [
          0,
          657
         ]
        },
        "yaxis29": {
         "anchor": "x29",
         "domain": [
          0,
          0.09722222222222222
         ],
         "range": [
          0,
          657
         ]
        },
        "yaxis3": {
         "anchor": "x3",
         "domain": [
          0.9027777777777777,
          0.9999999999999999
         ],
         "range": [
          0,
          657
         ]
        },
        "yaxis30": {
         "anchor": "x30",
         "domain": [
          0,
          0.09722222222222222
         ],
         "range": [
          0,
          657
         ]
        },
        "yaxis4": {
         "anchor": "x4",
         "domain": [
          0.9027777777777777,
          0.9999999999999999
         ],
         "range": [
          0,
          657
         ]
        },
        "yaxis5": {
         "anchor": "x5",
         "domain": [
          0.9027777777777777,
          0.9999999999999999
         ],
         "range": [
          0,
          657
         ]
        },
        "yaxis6": {
         "anchor": "x6",
         "domain": [
          0.7222222222222222,
          0.8194444444444444
         ],
         "range": [
          0,
          657
         ]
        },
        "yaxis7": {
         "anchor": "x7",
         "domain": [
          0.7222222222222222,
          0.8194444444444444
         ],
         "range": [
          0,
          657
         ]
        },
        "yaxis8": {
         "anchor": "x8",
         "domain": [
          0.7222222222222222,
          0.8194444444444444
         ],
         "range": [
          0,
          657
         ]
        },
        "yaxis9": {
         "anchor": "x9",
         "domain": [
          0.7222222222222222,
          0.8194444444444444
         ],
         "range": [
          0,
          657
         ]
        }
       }
      }
     },
     "metadata": {},
     "output_type": "display_data"
    }
   ],
   "source": [
    "AnalysisVisualization().visualize(analysis_data)"
   ]
  }
 ],
 "metadata": {
  "kernelspec": {
   "display_name": ".venv",
   "language": "python",
   "name": "python3"
  },
  "language_info": {
   "codemirror_mode": {
    "name": "ipython",
    "version": 3
   },
   "file_extension": ".py",
   "mimetype": "text/x-python",
   "name": "python",
   "nbconvert_exporter": "python",
   "pygments_lexer": "ipython3",
   "version": "3.12.1"
  }
 },
 "nbformat": 4,
 "nbformat_minor": 2
}
