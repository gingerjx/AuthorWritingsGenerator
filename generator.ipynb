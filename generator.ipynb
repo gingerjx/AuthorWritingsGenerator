{
 "cells": [
  {
   "cell_type": "code",
   "execution_count": 54,
   "metadata": {},
   "outputs": [],
   "source": [
    "from g4f.client import Client\n",
    "from g4f.cookies import set_cookies\n",
    "from datetime import datetime\n",
    "import json\n",
    "import os"
   ]
  },
  {
   "cell_type": "code",
   "execution_count": 55,
   "metadata": {},
   "outputs": [],
   "source": [
    "res_dir = \"res/\"\n",
    "har_dir = \"hardir/\"\n",
    "gemini_cookies = f\"{har_dir}gemini_cookies.json\"\n",
    "authors_list_filepath = f\"{res_dir}gutenberg_author_list\"\n",
    "prompts_filepath = f\"{res_dir}prompts\"\n",
    "\n",
    "models = [\"gemini-pro\", \"claude-3-opus\", \"gpt-4-turbo\"]\n",
    "response_length = 500"
   ]
  },
  {
   "cell_type": "markdown",
   "metadata": {},
   "source": [
    "Setup necessary cookies"
   ]
  },
  {
   "cell_type": "code",
   "execution_count": 56,
   "metadata": {},
   "outputs": [],
   "source": [
    "with open(gemini_cookies, \"r\") as f:\n",
    "    cookies = json.load(f)\n",
    "    set_cookies(\".google.com\", {\n",
    "        \"__Secure-1PSID\": cookies[\"__Secure-1PSID\"],\n",
    "        \"__Secure-1PSIDTS\": cookies[\"__Secure-1PSIDTS\"],\n",
    "    })"
   ]
  },
  {
   "cell_type": "code",
   "execution_count": 57,
   "metadata": {},
   "outputs": [],
   "source": [
    "def get_generated_response(system_spec, prompt, model):\n",
    "    client = Client()\n",
    "    response = client.chat.completions.create(\n",
    "        model=model,\n",
    "        messages=[\n",
    "            {\"role\": \"system\", \"content\": system_spec},\n",
    "            {\"role\": \"user\", \"content\": prompt}],\n",
    "    )\n",
    "    return response.choices[0].message.content"
   ]
  },
  {
   "cell_type": "code",
   "execution_count": 58,
   "metadata": {},
   "outputs": [],
   "source": [
    "def save_data(data):\n",
    "    model_dir = f\"{res_dir}{data['model']}\"\n",
    "    filename = f\"{model_dir}/{data['author']}/request{data['id']}.json\"\n",
    "    os.makedirs(os.path.dirname(filename), exist_ok=True)\n",
    "    with open(filename, 'w') as f:\n",
    "        f.write(json.dumps(data, indent=4))"
   ]
  },
  {
   "cell_type": "code",
   "execution_count": 59,
   "metadata": {},
   "outputs": [
    {
     "data": {
      "text/plain": [
       "['Abraham Lincoln',\n",
       " 'Agatha Christie',\n",
       " 'Albert Einstein',\n",
       " 'Aldous Huxley',\n",
       " 'Alexander Pope']"
      ]
     },
     "execution_count": 59,
     "metadata": {},
     "output_type": "execute_result"
    }
   ],
   "source": [
    "authors = open(authors_list_filepath, 'r', encoding='utf-8').read().split('\\n')\n",
    "authors[:5]"
   ]
  },
  {
   "cell_type": "code",
   "execution_count": 60,
   "metadata": {},
   "outputs": [
    {
     "data": {
      "text/plain": [
       "['Tell me about your favourite weather.',\n",
       " 'Tell me how would you explain the look of the sun to the blind person.',\n",
       " 'Explain me the meaning of life.',\n",
       " 'Explain me how to create cyan color.',\n",
       " 'Present me the advantage of the salt over the pepper.']"
      ]
     },
     "execution_count": 60,
     "metadata": {},
     "output_type": "execute_result"
    }
   ],
   "source": [
    "prompts = open(prompts_filepath, 'r', encoding='utf-8').read().split('\\n')\n",
    "prompts[:5]"
   ]
  },
  {
   "cell_type": "code",
   "execution_count": 61,
   "metadata": {},
   "outputs": [
    {
     "name": "stdout",
     "output_type": "stream",
     "text": [
      "Generating response for Abraham Lincoln's response using gpt-4-turbo model.\n",
      "Generating response for Abraham Lincoln's response using gpt-4-turbo model.\n",
      "Generating response for Agatha Christie's response using gpt-4-turbo model.\n",
      "Generating response for Agatha Christie's response using gpt-4-turbo model.\n"
     ]
    }
   ],
   "source": [
    "for model in models[2:]:\n",
    "\n",
    "    for author in authors[:2]: # only 2 authors for testing purposes\n",
    "        system_spec = f\"Answer in {author}'s writing style. Don't use direct references and citations of {author}. Use {response_length} words. Answer in plain text format.\"\n",
    "        id = 0\n",
    "        \n",
    "        for prompt in prompts: # only 2 prompts for testing purposes\n",
    "            print(f\"Generating response for {author}'s response using {model} model.\")\n",
    "            response = get_generated_response(system_spec, prompt, model)\n",
    "\n",
    "            data = {\n",
    "                \"requested_response_length\": response_length,\n",
    "                \"response_length\": len(response),\n",
    "                \"model\": model,\n",
    "                \"created_at\": datetime.now().isoformat(),\n",
    "                \"author\": author, \n",
    "                \"system_spec\": system_spec,\n",
    "                'prompt': prompt,\n",
    "                'response':  response\n",
    "            }\n",
    "\n",
    "            save_data(data)\n",
    "            id += 1"
   ]
  }
 ],
 "metadata": {
  "kernelspec": {
   "display_name": ".venv",
   "language": "python",
   "name": "python3"
  },
  "language_info": {
   "codemirror_mode": {
    "name": "ipython",
    "version": 3
   },
   "file_extension": ".py",
   "mimetype": "text/x-python",
   "name": "python",
   "nbconvert_exporter": "python",
   "pygments_lexer": "ipython3",
   "version": "3.12.1"
  }
 },
 "nbformat": 4,
 "nbformat_minor": 2
}
