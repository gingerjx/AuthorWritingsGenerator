{
 "cells": [
  {
   "cell_type": "code",
   "execution_count": 6,
   "metadata": {},
   "outputs": [],
   "source": [
    "from langchain_anthropic import ChatAnthropic\n",
    "from langchain_google_genai import ChatGoogleGenerativeAI\n",
    "from langchain_mistralai.chat_models import ChatMistralAI\n",
    "from langchain_openai import ChatOpenAI\n",
    "\n",
    "# TODO: Delete after development\n",
    "import src\n",
    "import importlib\n",
    "importlib.reload(src)\n",
    "\n",
    "from src import *"
   ]
  },
  {
   "cell_type": "code",
   "execution_count": 7,
   "metadata": {},
   "outputs": [],
   "source": [
    "secrets = Secrets()\n",
    "configuration = Configuration()"
   ]
  },
  {
   "cell_type": "code",
   "execution_count": 8,
   "metadata": {},
   "outputs": [],
   "source": [
    "models = {\n",
    "    # \"gpt-3.5-turbo-0125\": ChatOpenAI(model=\"gpt-3.5-turbo-0125\", api_key=secrets.openai_api_key),\n",
    "    # \"gpt-4o\": ChatOpenAI(model=\"gpt-4o\", api_key=secrets.openai_api_key),\n",
    "    \"gemini-1.5-flash\": ChatGoogleGenerativeAI(model=\"gemini-1.5-flash\", google_api_key=secrets.google_api_key),\n",
    "    # \"open-mixtral-8x7b\": ChatMistralAI(model=\"open-mixtral-8x7b\", api_key=secrets.mistral_api_key),\n",
    "    # \"claude-3-haiku\": ChatAnthropic(model=\"claude-3-haiku\", api_key=secrets.anthropic_api_key),\n",
    "}"
   ]
  },
  {
   "cell_type": "code",
   "execution_count": 9,
   "metadata": {},
   "outputs": [],
   "source": [
    "text_generator = TextGenerator(\n",
    "    models=models,\n",
    "    queries_path=configuration.query_filepath,\n",
    "    authors_path=configuration.selected_authors_filepath,\n",
    "    response_length=configuration.response_length\n",
    ")"
   ]
  },
  {
   "cell_type": "code",
   "execution_count": 10,
   "metadata": {},
   "outputs": [
    {
     "name": "stdout",
     "output_type": "stream",
     "text": [
      "Path:  res\\gemini-1.5-flash\\Zane Grey\\1717345053.json\n",
      "Path:  res\\gemini-1.5-flash\\Zane Grey\\1717345075.json\n",
      "Path:  res\\gemini-1.5-flash\\Joseph Conrad\\1717345085.json\n",
      "Path:  res\\gemini-1.5-flash\\Joseph Conrad\\1717345135.json\n"
     ]
    }
   ],
   "source": [
    "generated_texts = text_generator.generate()\n",
    "for generated_text in generated_texts:\n",
    "    generated_text.save(configuration.res_directory)"
   ]
  }
 ],
 "metadata": {
  "kernelspec": {
   "display_name": ".venv",
   "language": "python",
   "name": "python3"
  },
  "language_info": {
   "codemirror_mode": {
    "name": "ipython",
    "version": 3
   },
   "file_extension": ".py",
   "mimetype": "text/x-python",
   "name": "python",
   "nbconvert_exporter": "python",
   "pygments_lexer": "ipython3",
   "version": "3.12.1"
  }
 },
 "nbformat": 4,
 "nbformat_minor": 2
}
