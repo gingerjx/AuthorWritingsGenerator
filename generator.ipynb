{
 "cells": [
  {
   "cell_type": "markdown",
   "metadata": {},
   "source": [
    "### Data generation\n",
    "\n",
    "For the academic research writings of the specific authors are generated using these LLMs:\n",
    "- gemini-pro\n",
    "- mistralai/Mixtral-8x7B-Instruct-v0.1\n",
    "- gpt-4-turbo\n",
    "- gpt-3.5-turbo\n",
    "\n",
    "### Provider\n",
    "\n",
    "Data is generated using [gpt4free](https://github.com/xtekky/gpt4free/tree/main), which implements reversed engineering technics in order to give free access to the most popular language models.\n",
    "\n",
    "### Run\n",
    "\n",
    "In order to run the notebook, few data is necessary to be filled\n",
    "\n",
    "**GPT-4**\n",
    "\n",
    "Create `hardir` in the root of the project. Save `.har` file explained in `.HAR File for OpenaiChat Provider` section in [gpt4free](https://github.com/xtekky/gpt4free/tree/main) README.\n",
    "\n",
    "**Gemini-pro**\n",
    "\n",
    "Create `hardir` in the root of the project and create `gemini_cookies.json` file:\n",
    "```json\n",
    "{\n",
    "    \"__Secure-1PSID\": \"your_cookies\",\n",
    "    \"__Secure-1PSIDTS\": \"your_cookies\"\n",
    "}\n",
    "```\n",
    "How to find these cookies is explained in `Cookies` section in [gpt4free](https://github.com/xtekky/gpt4free/tree/main) README."
   ]
  },
  {
   "cell_type": "code",
   "execution_count": 37,
   "metadata": {},
   "outputs": [],
   "source": [
    "%%capture\n",
    "%pip install -U g4f[all]"
   ]
  },
  {
   "cell_type": "code",
   "execution_count": 29,
   "metadata": {},
   "outputs": [],
   "source": [
    "from g4f.client import Client\n",
    "from g4f.cookies import set_cookies\n",
    "from g4f.Provider import Gemini, OpenaiChat, DeepInfra, FreeGpt\n",
    "from datetime import datetime\n",
    "import json\n",
    "import os"
   ]
  },
  {
   "cell_type": "code",
   "execution_count": 30,
   "metadata": {},
   "outputs": [],
   "source": [
    "res_dir = \"res/\"\n",
    "har_dir = \"hardir/\"\n",
    "gemini_cookies = f\"{har_dir}gemini_cookies.json\"\n",
    "authors_list_filepath = f\"{res_dir}gutenberg_author_list\"\n",
    "prompts_filepath = f\"{res_dir}prompts\"\n",
    "\n",
    "models = [\n",
    "    \"gemini-pro\", \n",
    "    \"mistralai/Mixtral-8x7B-Instruct-v0.1\", \n",
    "    \"gpt-4\",\n",
    "    \"gpt-3.5-turbo\"\n",
    "]\n",
    "provider = {\n",
    "    \"gemini-pro\": Gemini,\n",
    "    \"mistralai/Mixtral-8x7B-Instruct-v0.1\": DeepInfra,\n",
    "    \"gpt-4\": OpenaiChat,\n",
    "    \"gpt-3.5-turbo\": FreeGpt\n",
    "}\n",
    "response_length = 5000"
   ]
  },
  {
   "cell_type": "markdown",
   "metadata": {},
   "source": [
    "Setup necessary cookies"
   ]
  },
  {
   "cell_type": "code",
   "execution_count": 31,
   "metadata": {},
   "outputs": [],
   "source": [
    "with open(gemini_cookies, \"r\") as f:\n",
    "    cookies = json.load(f)\n",
    "    set_cookies(\".google.com\", {\n",
    "        \"__Secure-1PSID\": cookies[\"__Secure-1PSID\"],\n",
    "        \"__Secure-1PSIDTS\": cookies[\"__Secure-1PSIDTS\"],\n",
    "    })"
   ]
  },
  {
   "cell_type": "code",
   "execution_count": 32,
   "metadata": {},
   "outputs": [],
   "source": [
    "def get_generated_response(system_spec, prompt, model):\n",
    "    prompt = f\"{prompt}. Use at least {response_length} words.\"\n",
    "    client = Client()\n",
    "    response = client.chat.completions.create(\n",
    "        model=model,\n",
    "        provider=provider[model],\n",
    "        messages=[\n",
    "            {\"role\": \"system\", \"content\": system_spec},\n",
    "            {\"role\": \"user\", \"content\": prompt}],\n",
    "    )\n",
    "    return response.choices[0].message.content"
   ]
  },
  {
   "cell_type": "code",
   "execution_count": 33,
   "metadata": {},
   "outputs": [],
   "source": [
    "def save_data(data):\n",
    "    model_dir = f\"{res_dir}{data['model'].replace('/', '-')}\"\n",
    "    data['id'] = int(datetime.now().timestamp())  \n",
    "    filename = f\"{model_dir}/{data['author']}/{data['id']}.json\"\n",
    "    os.makedirs(os.path.dirname(filename), exist_ok=True)\n",
    "    with open(filename, 'w') as f:\n",
    "        f.write(json.dumps(data, indent=4))"
   ]
  },
  {
   "cell_type": "markdown",
   "metadata": {},
   "source": [
    "Use the list of 10 authors with the highest total words count from `book_stats.ipynb`."
   ]
  },
  {
   "cell_type": "code",
   "execution_count": 34,
   "metadata": {},
   "outputs": [],
   "source": [
    "authors = [\n",
    "    'George Alfred Henty',\n",
    "    \"Anthony Trollope\",\n",
    "    \"Charlotte Mary Yonge\",\n",
    "    \"Charles Dickens\",\n",
    "    \"R M Ballantyne\",\n",
    "    \"James Fenimore Cooper\",\n",
    "    \"Robert Louis Stevenson\",\n",
    "    \"William Dean Howells\",\n",
    "    \"Henry Rider Haggard\",\n",
    "    \"Sir Walter Scott\"\n",
    "]"
   ]
  },
  {
   "cell_type": "code",
   "execution_count": 35,
   "metadata": {},
   "outputs": [
    {
     "data": {
      "text/plain": [
       "[\"Describe the most peculiar meal you've ever encountered.\",\n",
       " 'Explain the finer points of etiquette for a barnyard gathering.',\n",
       " 'Convince a grumpy mule to pull a rickety carriage.',\n",
       " 'Debate the merits of a mustache versus a beard.',\n",
       " 'Write a love letter from a lovesick cactus to a blooming rose.']"
      ]
     },
     "execution_count": 35,
     "metadata": {},
     "output_type": "execute_result"
    }
   ],
   "source": [
    "prompts = open(prompts_filepath, 'r', encoding='utf-8').read().split('\\n')\n",
    "prompts[:5]"
   ]
  },
  {
   "cell_type": "code",
   "execution_count": 36,
   "metadata": {},
   "outputs": [
    {
     "name": "stdout",
     "output_type": "stream",
     "text": [
      "Generating response for George Alfred Henty's response using gpt-4 model.\n",
      "Generating response for George Alfred Henty's response using gpt-3.5-turbo model.\n"
     ]
    }
   ],
   "source": [
    "for author in authors:\n",
    "    system_spec = f\"Come up with the answer in {author}'s writing style. Don't use direct references and citations of {author}. Answer in plain text format.\"\n",
    "        \n",
    "    for model in models:\n",
    "        \n",
    "        for prompt in prompts:\n",
    "            print(f\"Generating response for {author}'s response using {model} model.\")\n",
    "            response = get_generated_response(system_spec, prompt, model)\n",
    "\n",
    "            data = {\n",
    "                \"requested_response_length\": response_length,\n",
    "                \"response_length\": len(response),\n",
    "                \"model\": model,\n",
    "                \"created_at\": datetime.now().isoformat(),\n",
    "                \"author\": author, \n",
    "                \"system_spec\": system_spec,\n",
    "                'prompt': prompt,\n",
    "                'response':  response\n",
    "            }\n",
    "\n",
    "            save_data(data)"
   ]
  }
 ],
 "metadata": {
  "kernelspec": {
   "display_name": ".venv",
   "language": "python",
   "name": "python3"
  },
  "language_info": {
   "codemirror_mode": {
    "name": "ipython",
    "version": 3
   },
   "file_extension": ".py",
   "mimetype": "text/x-python",
   "name": "python",
   "nbconvert_exporter": "python",
   "pygments_lexer": "ipython3",
   "version": "3.12.1"
  }
 },
 "nbformat": 4,
 "nbformat_minor": 2
}
