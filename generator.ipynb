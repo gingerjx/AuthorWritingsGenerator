{
 "cells": [
  {
   "cell_type": "markdown",
   "metadata": {},
   "source": [
    "# Generator\n",
    "\n",
    "Notebook uses Large Language Models to generate the text for 10 authors from `res/selected/author_list` file. It uses the list of queries from `res/queries` and the system specification message that together create the prompt. The goal is to generate text in writing style of the specific author, where the topic is of secondary importance.\n",
    "\n",
    "In order to run the notebook create `.env` file in the root of the project and set the api keys in the following manner:\n",
    "\n",
    "```bash\n",
    "ANTHROPIC_API_KEY=YOUR_API_KEY\n",
    "GOOGLE_API_KEY=YOUR_API_KEY\n",
    "MISTRAL_API_KEY=YOUR_API_KEY\n",
    "OPENAI_API_KEY=YOUR_API_KEY\n",
    "```\n",
    "\n",
    "Below there is a list of used LLMs along with their default settings that are used. The intention is to give the LLM the freedom, without many constraints, in generation process. Default settings provide sufficient level of such flexibility to the model.\n",
    "\n",
    "### OpenAI defaults\n",
    "\n",
    "[07.06.2024] [Reference](https://platform.openai.com/docs/api-reference/chat)\n",
    "\n",
    "```json\n",
    "{\n",
    "  \"seed\": null,\n",
    "  \"temperature\": 1.0,\n",
    "  \"top_p\": 1.0,\n",
    "  \"frequency_penalty\": 0.0,\n",
    "  \"presence_penalty\": 0.0,\n",
    "  \"n\": 1,\n",
    "  \"stop\": null,\n",
    "  \"echo\": false,\n",
    "  \"best_of\": 1,\n",
    "}\n",
    "```\n",
    "\n",
    "### Gemini defaults\n",
    "\n",
    "[07.06.2024] [Reference](https://cloud.google.com/vertex-ai/generative-ai/docs/model-reference/gemini#request_body)\n",
    "\n",
    "```json\n",
    "{\n",
    "  \"temperature\": 1.0,\n",
    "  \"topK\": 32,\n",
    "  \"topP\": 1,\n",
    "  \"frequencyPenalty\": 0,\n",
    "  \"presencePenalty\": 0,\n",
    "  \"stopSequences\": null,\n",
    "}\n",
    "```\n",
    "\n",
    "### MistralAI defaults\n",
    "\n",
    "[07.06.2024] [Reference](https://docs.mistral.ai/api/#operation/createChatCompletion)\n",
    "\n",
    "```json\n",
    "{\n",
    "  \"temperature\": 0.7,\n",
    "  \"top_p\": 1,\n",
    "  \"random_seed\": null\n",
    "}\n",
    "```\n",
    "### Anthropic defaults\n",
    "\n",
    "[07.06.2024] [Reference](https://docs.anthropic.com/en/api/messages)\n",
    "\n",
    "```json\n",
    "{\n",
    "  \"stop_sequences\": null,\n",
    "  \"temperature\": 1.0,\n",
    "}\n",
    "```\n",
    "\n",
    "Max token parameter is set to 4096, due to the contraints of `claude-3-haiku` model.\n",
    "\n"
   ]
  },
  {
   "cell_type": "code",
   "execution_count": 1,
   "metadata": {},
   "outputs": [
    {
     "name": "stderr",
     "output_type": "stream",
     "text": [
      "c:\\Projects\\Thesis\\.venv\\Lib\\site-packages\\tqdm\\auto.py:21: TqdmWarning: IProgress not found. Please update jupyter and ipywidgets. See https://ipywidgets.readthedocs.io/en/stable/user_install.html\n",
      "  from .autonotebook import tqdm as notebook_tqdm\n",
      "[nltk_data] Downloading package punkt to\n",
      "[nltk_data]     C:\\Users\\piotr\\AppData\\Roaming\\nltk_data...\n",
      "[nltk_data]   Package punkt is already up-to-date!\n",
      "c:\\Projects\\Thesis\\.venv\\Lib\\site-packages\\pydantic\\_internal\\_fields.py:151: UserWarning: Field \"model_dirs\" has conflict with protected namespace \"model_\".\n",
      "\n",
      "You may be able to resolve this warning by setting `model_config['protected_namespaces'] = ()`.\n",
      "  warnings.warn(\n"
     ]
    }
   ],
   "source": [
    "from langchain_anthropic import ChatAnthropic\n",
    "from langchain_google_genai import ChatGoogleGenerativeAI\n",
    "from langchain_mistralai.chat_models import ChatMistralAI\n",
    "from langchain_openai import ChatOpenAI\n",
    "import os\n",
    "\n",
    "# TODO: Delete after development\n",
    "import src\n",
    "import importlib\n",
    "importlib.reload(src)\n",
    "\n",
    "from src import *"
   ]
  },
  {
   "cell_type": "code",
   "execution_count": 2,
   "metadata": {},
   "outputs": [],
   "source": [
    "secrets = Secrets()\n",
    "configuration = Configuration()"
   ]
  },
  {
   "cell_type": "code",
   "execution_count": 3,
   "metadata": {},
   "outputs": [],
   "source": [
    "models = {\n",
    "    \"gpt-3.5-turbo-0125\": ChatOpenAI(model=\"gpt-3.5-turbo-0125\", max_tokens=configuration.max_tokens),\n",
    "    \"gpt-4o\": ChatOpenAI(model=\"gpt-4o\", api_key=secrets.openai_api_key, max_tokens=configuration.max_tokens),\n",
    "    \"gemini-1.5-flash\": ChatGoogleGenerativeAI(model=\"gemini-1.5-flash\", google_api_key=secrets.google_api_key, max_tokens=configuration.max_tokens),\n",
    "    \"open-mixtral-8x7b\": ChatMistralAI(model=\"open-mixtral-8x7b\", api_key=secrets.mistral_api_key, max_tokens=configuration.max_tokens),\n",
    "    \"claude-3-haiku-20240307\": ChatAnthropic(model=\"claude-3-haiku-20240307\", api_key=secrets.anthropic_api_key, max_tokens=configuration.max_tokens),\n",
    "}"
   ]
  },
  {
   "cell_type": "code",
   "execution_count": 4,
   "metadata": {},
   "outputs": [],
   "source": [
    "text_generator = TextGenerator(\n",
    "    models=models,\n",
    "    queries_path=configuration.query_filepath,\n",
    "    authors_path=configuration.selected_authors_filepath,\n",
    "    res_directory=configuration.res_directory,\n",
    "    response_length=configuration.response_length\n",
    ")"
   ]
  },
  {
   "cell_type": "code",
   "execution_count": 5,
   "metadata": {},
   "outputs": [
    {
     "name": "stdout",
     "output_type": "stream",
     "text": [
      "Generating [gemini-1.5-flash]-[Zane Grey] Describe the most peculiar meal you've ever encountered.\n"
     ]
    }
   ],
   "source": [
    "generated_texts = text_generator.generate()"
   ]
  }
 ],
 "metadata": {
  "kernelspec": {
   "display_name": ".venv",
   "language": "python",
   "name": "python3"
  },
  "language_info": {
   "codemirror_mode": {
    "name": "ipython",
    "version": 3
   },
   "file_extension": ".py",
   "mimetype": "text/x-python",
   "name": "python",
   "nbconvert_exporter": "python",
   "pygments_lexer": "ipython3",
   "version": "3.12.1"
  }
 },
 "nbformat": 4,
 "nbformat_minor": 2
}
