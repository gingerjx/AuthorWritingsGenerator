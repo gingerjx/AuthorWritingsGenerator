{
 "cells": [
  {
   "cell_type": "markdown",
   "metadata": {},
   "source": [
    "### Data generation\n",
    "\n",
    "For the academic research writings of the specific authors are generated using these LLMs:\n",
    "- gemini-pro\n",
    "- mistralai/Mixtral-8x7B-Instruct-v0.1\n",
    "- gpt-4\n",
    "\n",
    "### Provider\n",
    "\n",
    "Data is generated using [gpt4free](https://github.com/xtekky/gpt4free/tree/main), which implements reversed engineering technics in order to give free access to the most popular language models.\n",
    "\n",
    "### Run\n",
    "\n",
    "In order to run the notebook, few data is necessary to be filled\n",
    "\n",
    "**GPT-4**\n",
    "\n",
    "Create `hardir` in the root of the project. Save `.har` file explained in `.HAR File for OpenaiChat Provider` section in [gpt4free](https://github.com/xtekky/gpt4free/tree/main) README.\n",
    "\n",
    "**Gemini-pro**\n",
    "\n",
    "Create `hardir` in the root of the project and create `gemini_cookies.json` file:\n",
    "```json\n",
    "{\n",
    "    \"__Secure-1PSID\": \"your_cookies\",\n",
    "    \"__Secure-1PSIDTS\": \"your_cookies\"\n",
    "}\n",
    "```\n",
    "How to find these cookies is explained in `Cookies` section in [gpt4free](https://github.com/xtekky/gpt4free/tree/main) README."
   ]
  },
  {
   "cell_type": "code",
   "execution_count": 107,
   "metadata": {},
   "outputs": [
    {
     "name": "stdout",
     "output_type": "stream",
     "text": [
      "Requirement already satisfied: g4f[all] in c:\\projects\\thesis\\.venv\\lib\\site-packages (0.2.9.4)\n",
      "Requirement already satisfied: requests in c:\\projects\\thesis\\.venv\\lib\\site-packages (from g4f[all]) (2.31.0)\n",
      "Requirement already satisfied: aiohttp in c:\\projects\\thesis\\.venv\\lib\\site-packages (from g4f[all]) (3.9.3)\n",
      "Requirement already satisfied: brotli in c:\\projects\\thesis\\.venv\\lib\\site-packages (from g4f[all]) (1.1.0)\n",
      "Requirement already satisfied: pycryptodome in c:\\projects\\thesis\\.venv\\lib\\site-packages (from g4f[all]) (3.20.0)\n",
      "Requirement already satisfied: curl-cffi>=0.6.2 in c:\\projects\\thesis\\.venv\\lib\\site-packages (from g4f[all]) (0.6.2)\n",
      "Requirement already satisfied: certifi in c:\\projects\\thesis\\.venv\\lib\\site-packages (from g4f[all]) (2024.2.2)\n",
      "Requirement already satisfied: browser-cookie3 in c:\\projects\\thesis\\.venv\\lib\\site-packages (from g4f[all]) (0.19.1)\n",
      "Requirement already satisfied: PyExecJS in c:\\projects\\thesis\\.venv\\lib\\site-packages (from g4f[all]) (1.5.1)\n",
      "Requirement already satisfied: duckduckgo-search>=5.0 in c:\\projects\\thesis\\.venv\\lib\\site-packages (from g4f[all]) (5.3.0)\n",
      "Requirement already satisfied: beautifulsoup4 in c:\\projects\\thesis\\.venv\\lib\\site-packages (from g4f[all]) (4.12.3)\n",
      "Requirement already satisfied: pywebview in c:\\projects\\thesis\\.venv\\lib\\site-packages (from g4f[all]) (5.0.5)\n",
      "Requirement already satisfied: platformdirs in c:\\projects\\thesis\\.venv\\lib\\site-packages (from g4f[all]) (4.2.0)\n",
      "Requirement already satisfied: plyer in c:\\projects\\thesis\\.venv\\lib\\site-packages (from g4f[all]) (2.1.0)\n",
      "Requirement already satisfied: cryptography in c:\\projects\\thesis\\.venv\\lib\\site-packages (from g4f[all]) (42.0.5)\n",
      "Requirement already satisfied: aiohttp-socks in c:\\projects\\thesis\\.venv\\lib\\site-packages (from g4f[all]) (0.8.4)\n",
      "Requirement already satisfied: pillow in c:\\projects\\thesis\\.venv\\lib\\site-packages (from g4f[all]) (10.3.0)\n",
      "Requirement already satisfied: cairosvg in c:\\projects\\thesis\\.venv\\lib\\site-packages (from g4f[all]) (2.7.1)\n",
      "Requirement already satisfied: werkzeug in c:\\projects\\thesis\\.venv\\lib\\site-packages (from g4f[all]) (3.0.2)\n",
      "Requirement already satisfied: flask in c:\\projects\\thesis\\.venv\\lib\\site-packages (from g4f[all]) (3.0.3)\n",
      "Requirement already satisfied: loguru in c:\\projects\\thesis\\.venv\\lib\\site-packages (from g4f[all]) (0.7.2)\n",
      "Requirement already satisfied: fastapi in c:\\projects\\thesis\\.venv\\lib\\site-packages (from g4f[all]) (0.110.1)\n",
      "Requirement already satisfied: uvicorn in c:\\projects\\thesis\\.venv\\lib\\site-packages (from g4f[all]) (0.29.0)\n",
      "Requirement already satisfied: nest-asyncio in c:\\projects\\thesis\\.venv\\lib\\site-packages (from g4f[all]) (1.6.0)\n",
      "Requirement already satisfied: cffi>=1.12.0 in c:\\projects\\thesis\\.venv\\lib\\site-packages (from curl-cffi>=0.6.2->g4f[all]) (1.16.0)\n",
      "Requirement already satisfied: click>=8.1.7 in c:\\projects\\thesis\\.venv\\lib\\site-packages (from duckduckgo-search>=5.0->g4f[all]) (8.1.7)\n",
      "Requirement already satisfied: orjson>=3.10.0 in c:\\projects\\thesis\\.venv\\lib\\site-packages (from duckduckgo-search>=5.0->g4f[all]) (3.10.0)\n",
      "Requirement already satisfied: aiosignal>=1.1.2 in c:\\projects\\thesis\\.venv\\lib\\site-packages (from aiohttp->g4f[all]) (1.3.1)\n",
      "Requirement already satisfied: attrs>=17.3.0 in c:\\projects\\thesis\\.venv\\lib\\site-packages (from aiohttp->g4f[all]) (23.2.0)\n",
      "Requirement already satisfied: frozenlist>=1.1.1 in c:\\projects\\thesis\\.venv\\lib\\site-packages (from aiohttp->g4f[all]) (1.4.1)\n",
      "Requirement already satisfied: multidict<7.0,>=4.5 in c:\\projects\\thesis\\.venv\\lib\\site-packages (from aiohttp->g4f[all]) (6.0.5)\n",
      "Requirement already satisfied: yarl<2.0,>=1.0 in c:\\projects\\thesis\\.venv\\lib\\site-packages (from aiohttp->g4f[all]) (1.9.4)\n",
      "Requirement already satisfied: python-socks<3.0.0,>=2.4.3 in c:\\projects\\thesis\\.venv\\lib\\site-packages (from python-socks[asyncio]<3.0.0,>=2.4.3->aiohttp-socks->g4f[all]) (2.4.4)\n",
      "Requirement already satisfied: soupsieve>1.2 in c:\\projects\\thesis\\.venv\\lib\\site-packages (from beautifulsoup4->g4f[all]) (2.5)\n",
      "Requirement already satisfied: lz4 in c:\\projects\\thesis\\.venv\\lib\\site-packages (from browser-cookie3->g4f[all]) (4.3.3)\n",
      "Requirement already satisfied: pycryptodomex in c:\\projects\\thesis\\.venv\\lib\\site-packages (from browser-cookie3->g4f[all]) (3.20.0)\n",
      "Requirement already satisfied: cairocffi in c:\\projects\\thesis\\.venv\\lib\\site-packages (from cairosvg->g4f[all]) (1.6.1)\n",
      "Requirement already satisfied: cssselect2 in c:\\projects\\thesis\\.venv\\lib\\site-packages (from cairosvg->g4f[all]) (0.7.0)\n",
      "Requirement already satisfied: defusedxml in c:\\projects\\thesis\\.venv\\lib\\site-packages (from cairosvg->g4f[all]) (0.7.1)\n",
      "Requirement already satisfied: tinycss2 in c:\\projects\\thesis\\.venv\\lib\\site-packages (from cairosvg->g4f[all]) (1.2.1)\n",
      "Requirement already satisfied: pydantic!=1.8,!=1.8.1,!=2.0.0,!=2.0.1,!=2.1.0,<3.0.0,>=1.7.4 in c:\\projects\\thesis\\.venv\\lib\\site-packages (from fastapi->g4f[all]) (2.6.4)\n",
      "Requirement already satisfied: starlette<0.38.0,>=0.37.2 in c:\\projects\\thesis\\.venv\\lib\\site-packages (from fastapi->g4f[all]) (0.37.2)\n",
      "Requirement already satisfied: typing-extensions>=4.8.0 in c:\\projects\\thesis\\.venv\\lib\\site-packages (from fastapi->g4f[all]) (4.11.0)\n",
      "Requirement already satisfied: Jinja2>=3.1.2 in c:\\projects\\thesis\\.venv\\lib\\site-packages (from flask->g4f[all]) (3.1.3)\n",
      "Requirement already satisfied: itsdangerous>=2.1.2 in c:\\projects\\thesis\\.venv\\lib\\site-packages (from flask->g4f[all]) (2.1.2)\n",
      "Requirement already satisfied: blinker>=1.6.2 in c:\\projects\\thesis\\.venv\\lib\\site-packages (from flask->g4f[all]) (1.7.0)\n",
      "Requirement already satisfied: MarkupSafe>=2.1.1 in c:\\projects\\thesis\\.venv\\lib\\site-packages (from werkzeug->g4f[all]) (2.1.5)\n",
      "Requirement already satisfied: colorama>=0.3.4 in c:\\projects\\thesis\\.venv\\lib\\site-packages (from loguru->g4f[all]) (0.4.6)\n",
      "Requirement already satisfied: win32-setctime>=1.0.0 in c:\\projects\\thesis\\.venv\\lib\\site-packages (from loguru->g4f[all]) (1.1.0)\n",
      "Requirement already satisfied: six>=1.10.0 in c:\\projects\\thesis\\.venv\\lib\\site-packages (from PyExecJS->g4f[all]) (1.16.0)\n",
      "Requirement already satisfied: proxy-tools in c:\\projects\\thesis\\.venv\\lib\\site-packages (from pywebview->g4f[all]) (0.1.0)\n",
      "Requirement already satisfied: bottle in c:\\projects\\thesis\\.venv\\lib\\site-packages (from pywebview->g4f[all]) (0.12.25)\n",
      "Requirement already satisfied: pythonnet in c:\\projects\\thesis\\.venv\\lib\\site-packages (from pywebview->g4f[all]) (3.0.3)\n",
      "Requirement already satisfied: charset-normalizer<4,>=2 in c:\\projects\\thesis\\.venv\\lib\\site-packages (from requests->g4f[all]) (3.3.2)\n",
      "Requirement already satisfied: idna<4,>=2.5 in c:\\projects\\thesis\\.venv\\lib\\site-packages (from requests->g4f[all]) (3.6)\n",
      "Requirement already satisfied: urllib3<3,>=1.21.1 in c:\\projects\\thesis\\.venv\\lib\\site-packages (from requests->g4f[all]) (2.2.1)\n",
      "Requirement already satisfied: h11>=0.8 in c:\\projects\\thesis\\.venv\\lib\\site-packages (from uvicorn->g4f[all]) (0.14.0)\n",
      "Requirement already satisfied: pycparser in c:\\projects\\thesis\\.venv\\lib\\site-packages (from cffi>=1.12.0->curl-cffi>=0.6.2->g4f[all]) (2.22)\n",
      "Requirement already satisfied: annotated-types>=0.4.0 in c:\\projects\\thesis\\.venv\\lib\\site-packages (from pydantic!=1.8,!=1.8.1,!=2.0.0,!=2.0.1,!=2.1.0,<3.0.0,>=1.7.4->fastapi->g4f[all]) (0.6.0)\n",
      "Requirement already satisfied: pydantic-core==2.16.3 in c:\\projects\\thesis\\.venv\\lib\\site-packages (from pydantic!=1.8,!=1.8.1,!=2.0.0,!=2.0.1,!=2.1.0,<3.0.0,>=1.7.4->fastapi->g4f[all]) (2.16.3)\n",
      "Requirement already satisfied: async-timeout>=3.0.1 in c:\\projects\\thesis\\.venv\\lib\\site-packages (from python-socks[asyncio]<3.0.0,>=2.4.3->aiohttp-socks->g4f[all]) (4.0.3)\n",
      "Requirement already satisfied: anyio<5,>=3.4.0 in c:\\projects\\thesis\\.venv\\lib\\site-packages (from starlette<0.38.0,>=0.37.2->fastapi->g4f[all]) (4.3.0)\n",
      "Requirement already satisfied: webencodings in c:\\projects\\thesis\\.venv\\lib\\site-packages (from cssselect2->cairosvg->g4f[all]) (0.5.1)\n",
      "Requirement already satisfied: clr-loader<0.3.0,>=0.2.6 in c:\\projects\\thesis\\.venv\\lib\\site-packages (from pythonnet->pywebview->g4f[all]) (0.2.6)\n",
      "Requirement already satisfied: sniffio>=1.1 in c:\\projects\\thesis\\.venv\\lib\\site-packages (from anyio<5,>=3.4.0->starlette<0.38.0,>=0.37.2->fastapi->g4f[all]) (1.3.1)\n",
      "Note: you may need to restart the kernel to use updated packages.\n"
     ]
    }
   ],
   "source": [
    "%pip install -U g4f[all]"
   ]
  },
  {
   "cell_type": "code",
   "execution_count": 108,
   "metadata": {},
   "outputs": [],
   "source": [
    "from g4f.client import Client\n",
    "from g4f.cookies import set_cookies\n",
    "from g4f.Provider import Gemini, OpenaiChat, DeepInfra\n",
    "from datetime import datetime\n",
    "import json\n",
    "import os"
   ]
  },
  {
   "cell_type": "code",
   "execution_count": 109,
   "metadata": {},
   "outputs": [],
   "source": [
    "res_dir = \"res/\"\n",
    "har_dir = \"hardir/\"\n",
    "gemini_cookies = f\"{har_dir}gemini_cookies.json\"\n",
    "authors_list_filepath = f\"{res_dir}gutenberg_author_list\"\n",
    "prompts_filepath = f\"{res_dir}prompts\"\n",
    "\n",
    "models = [\n",
    "    \"gemini-pro\", \n",
    "    \"mistralai/Mixtral-8x7B-Instruct-v0.1\", \n",
    "    \"gpt-4\"\n",
    "]\n",
    "provider =     {\n",
    "    \"gemini-pro\": Gemini,\n",
    "    \"mistralai/Mixtral-8x7B-Instruct-v0.1\": DeepInfra,\n",
    "    \"gpt-4\": OpenaiChat\n",
    "}\n",
    "response_length = 5000"
   ]
  },
  {
   "cell_type": "markdown",
   "metadata": {},
   "source": [
    "Setup necessary cookies"
   ]
  },
  {
   "cell_type": "code",
   "execution_count": 110,
   "metadata": {},
   "outputs": [],
   "source": [
    "with open(gemini_cookies, \"r\") as f:\n",
    "    cookies = json.load(f)\n",
    "    set_cookies(\".google.com\", {\n",
    "        \"__Secure-1PSID\": cookies[\"__Secure-1PSID\"],\n",
    "        \"__Secure-1PSIDTS\": cookies[\"__Secure-1PSIDTS\"],\n",
    "    })"
   ]
  },
  {
   "cell_type": "code",
   "execution_count": 111,
   "metadata": {},
   "outputs": [],
   "source": [
    "def get_generated_response(system_spec, prompt, model):\n",
    "    prompt = f\"{prompt}. Use at least {response_length} words.\"\n",
    "    client = Client()\n",
    "    response = client.chat.completions.create(\n",
    "        model=model,\n",
    "        provider=provider[model],\n",
    "        messages=[\n",
    "            {\"role\": \"system\", \"content\": system_spec},\n",
    "            {\"role\": \"user\", \"content\": prompt}],\n",
    "    )\n",
    "    return response.choices[0].message.content"
   ]
  },
  {
   "cell_type": "code",
   "execution_count": 112,
   "metadata": {},
   "outputs": [],
   "source": [
    "def save_data(data):\n",
    "    model_dir = f\"{res_dir}{data['model'].replace('/', '_')}\"\n",
    "    data['id'] = int(datetime.now().timestamp())  \n",
    "    filename = f\"{model_dir}/{data['author']}/{data['id']}.json\"\n",
    "    os.makedirs(os.path.dirname(filename), exist_ok=True)\n",
    "    with open(filename, 'w') as f:\n",
    "        f.write(json.dumps(data, indent=4))"
   ]
  },
  {
   "cell_type": "markdown",
   "metadata": {},
   "source": [
    "Use the list of 10 authors with the highest total words count from `book_stats.ipynb`."
   ]
  },
  {
   "cell_type": "code",
   "execution_count": 113,
   "metadata": {},
   "outputs": [],
   "source": [
    "authors = [\n",
    "    'George Alfred Henty',\n",
    "    \"Anthony Trollope\",\n",
    "    \"Charlotte Mary Yonge\",\n",
    "    \"Charles Dickens\",\n",
    "    \"R M Ballantyne\",\n",
    "    \"James Fenimore Cooper\",\n",
    "    \"Robert Louis Stevenson\",\n",
    "    \"William Dean Howells\",\n",
    "    \"Henry Rider Haggard\",\n",
    "    \"Sir Walter Scott\"\n",
    "]"
   ]
  },
  {
   "cell_type": "code",
   "execution_count": 114,
   "metadata": {},
   "outputs": [
    {
     "data": {
      "text/plain": [
       "[\"Describe the most peculiar meal you've ever encountered.\",\n",
       " 'Explain the finer points of etiquette for a barnyard gathering.',\n",
       " 'Convince a grumpy mule to pull a rickety carriage.',\n",
       " 'Debate the merits of a mustache versus a beard.',\n",
       " 'Write a love letter from a lovesick cactus to a blooming rose.']"
      ]
     },
     "execution_count": 114,
     "metadata": {},
     "output_type": "execute_result"
    }
   ],
   "source": [
    "prompts = open(prompts_filepath, 'r', encoding='utf-8').read().split('\\n')\n",
    "prompts[:5]"
   ]
  },
  {
   "cell_type": "code",
   "execution_count": 115,
   "metadata": {},
   "outputs": [
    {
     "name": "stdout",
     "output_type": "stream",
     "text": [
      "Generating response for George Alfred Henty's response using gemini-pro model.\n"
     ]
    },
    {
     "ename": "RuntimeError",
     "evalue": "Invalid auth. SNlM0e not found",
     "output_type": "error",
     "traceback": [
      "\u001b[1;31m---------------------------------------------------------------------------\u001b[0m",
      "\u001b[1;31mRuntimeError\u001b[0m                              Traceback (most recent call last)",
      "Cell \u001b[1;32mIn[115], line 8\u001b[0m\n\u001b[0;32m      6\u001b[0m \u001b[38;5;28;01mfor\u001b[39;00m prompt \u001b[38;5;129;01min\u001b[39;00m prompts:\n\u001b[0;32m      7\u001b[0m     \u001b[38;5;28mprint\u001b[39m(\u001b[38;5;124mf\u001b[39m\u001b[38;5;124m\"\u001b[39m\u001b[38;5;124mGenerating response for \u001b[39m\u001b[38;5;132;01m{\u001b[39;00mauthor\u001b[38;5;132;01m}\u001b[39;00m\u001b[38;5;124m'\u001b[39m\u001b[38;5;124ms response using \u001b[39m\u001b[38;5;132;01m{\u001b[39;00mmodel\u001b[38;5;132;01m}\u001b[39;00m\u001b[38;5;124m model.\u001b[39m\u001b[38;5;124m\"\u001b[39m)\n\u001b[1;32m----> 8\u001b[0m     response \u001b[38;5;241m=\u001b[39m \u001b[43mget_generated_response\u001b[49m\u001b[43m(\u001b[49m\u001b[43msystem_spec\u001b[49m\u001b[43m,\u001b[49m\u001b[43m \u001b[49m\u001b[43mprompt\u001b[49m\u001b[43m,\u001b[49m\u001b[43m \u001b[49m\u001b[43mmodel\u001b[49m\u001b[43m)\u001b[49m\n\u001b[0;32m     10\u001b[0m     data \u001b[38;5;241m=\u001b[39m {\n\u001b[0;32m     11\u001b[0m         \u001b[38;5;124m\"\u001b[39m\u001b[38;5;124mrequested_response_length\u001b[39m\u001b[38;5;124m\"\u001b[39m: response_length,\n\u001b[0;32m     12\u001b[0m         \u001b[38;5;124m\"\u001b[39m\u001b[38;5;124mresponse_length\u001b[39m\u001b[38;5;124m\"\u001b[39m: \u001b[38;5;28mlen\u001b[39m(response),\n\u001b[1;32m   (...)\u001b[0m\n\u001b[0;32m     18\u001b[0m         \u001b[38;5;124m'\u001b[39m\u001b[38;5;124mresponse\u001b[39m\u001b[38;5;124m'\u001b[39m:  response\n\u001b[0;32m     19\u001b[0m     }\n\u001b[0;32m     21\u001b[0m     save_data(data)\n",
      "Cell \u001b[1;32mIn[111], line 4\u001b[0m, in \u001b[0;36mget_generated_response\u001b[1;34m(system_spec, prompt, model)\u001b[0m\n\u001b[0;32m      2\u001b[0m prompt \u001b[38;5;241m=\u001b[39m \u001b[38;5;124mf\u001b[39m\u001b[38;5;124m\"\u001b[39m\u001b[38;5;132;01m{\u001b[39;00mprompt\u001b[38;5;132;01m}\u001b[39;00m\u001b[38;5;124m. Use at least \u001b[39m\u001b[38;5;132;01m{\u001b[39;00mresponse_length\u001b[38;5;132;01m}\u001b[39;00m\u001b[38;5;124m words.\u001b[39m\u001b[38;5;124m\"\u001b[39m\n\u001b[0;32m      3\u001b[0m client \u001b[38;5;241m=\u001b[39m Client()\n\u001b[1;32m----> 4\u001b[0m response \u001b[38;5;241m=\u001b[39m \u001b[43mclient\u001b[49m\u001b[38;5;241;43m.\u001b[39;49m\u001b[43mchat\u001b[49m\u001b[38;5;241;43m.\u001b[39;49m\u001b[43mcompletions\u001b[49m\u001b[38;5;241;43m.\u001b[39;49m\u001b[43mcreate\u001b[49m\u001b[43m(\u001b[49m\n\u001b[0;32m      5\u001b[0m \u001b[43m    \u001b[49m\u001b[43mmodel\u001b[49m\u001b[38;5;241;43m=\u001b[39;49m\u001b[43mmodel\u001b[49m\u001b[43m,\u001b[49m\n\u001b[0;32m      6\u001b[0m \u001b[43m    \u001b[49m\u001b[43mprovider\u001b[49m\u001b[38;5;241;43m=\u001b[39;49m\u001b[43mprovider\u001b[49m\u001b[43m[\u001b[49m\u001b[43mmodel\u001b[49m\u001b[43m]\u001b[49m\u001b[43m,\u001b[49m\n\u001b[0;32m      7\u001b[0m \u001b[43m    \u001b[49m\u001b[43mmessages\u001b[49m\u001b[38;5;241;43m=\u001b[39;49m\u001b[43m[\u001b[49m\n\u001b[0;32m      8\u001b[0m \u001b[43m        \u001b[49m\u001b[43m{\u001b[49m\u001b[38;5;124;43m\"\u001b[39;49m\u001b[38;5;124;43mrole\u001b[39;49m\u001b[38;5;124;43m\"\u001b[39;49m\u001b[43m:\u001b[49m\u001b[43m \u001b[49m\u001b[38;5;124;43m\"\u001b[39;49m\u001b[38;5;124;43msystem\u001b[39;49m\u001b[38;5;124;43m\"\u001b[39;49m\u001b[43m,\u001b[49m\u001b[43m \u001b[49m\u001b[38;5;124;43m\"\u001b[39;49m\u001b[38;5;124;43mcontent\u001b[39;49m\u001b[38;5;124;43m\"\u001b[39;49m\u001b[43m:\u001b[49m\u001b[43m \u001b[49m\u001b[43msystem_spec\u001b[49m\u001b[43m}\u001b[49m\u001b[43m,\u001b[49m\n\u001b[0;32m      9\u001b[0m \u001b[43m        \u001b[49m\u001b[43m{\u001b[49m\u001b[38;5;124;43m\"\u001b[39;49m\u001b[38;5;124;43mrole\u001b[39;49m\u001b[38;5;124;43m\"\u001b[39;49m\u001b[43m:\u001b[49m\u001b[43m \u001b[49m\u001b[38;5;124;43m\"\u001b[39;49m\u001b[38;5;124;43muser\u001b[39;49m\u001b[38;5;124;43m\"\u001b[39;49m\u001b[43m,\u001b[49m\u001b[43m \u001b[49m\u001b[38;5;124;43m\"\u001b[39;49m\u001b[38;5;124;43mcontent\u001b[39;49m\u001b[38;5;124;43m\"\u001b[39;49m\u001b[43m:\u001b[49m\u001b[43m \u001b[49m\u001b[43mprompt\u001b[49m\u001b[43m}\u001b[49m\u001b[43m]\u001b[49m\u001b[43m,\u001b[49m\n\u001b[0;32m     10\u001b[0m \u001b[43m\u001b[49m\u001b[43m)\u001b[49m\n\u001b[0;32m     11\u001b[0m \u001b[38;5;28;01mreturn\u001b[39;00m response\u001b[38;5;241m.\u001b[39mchoices[\u001b[38;5;241m0\u001b[39m]\u001b[38;5;241m.\u001b[39mmessage\u001b[38;5;241m.\u001b[39mcontent\n",
      "File \u001b[1;32mc:\\Projects\\Thesis\\.venv\\Lib\\site-packages\\g4f\\client\\client.py:113\u001b[0m, in \u001b[0;36mCompletions.create\u001b[1;34m(self, messages, model, provider, stream, proxy, response_format, max_tokens, stop, api_key, ignored, ignore_working, ignore_stream, **kwargs)\u001b[0m\n\u001b[0;32m    111\u001b[0m response \u001b[38;5;241m=\u001b[39m iter_response(response, stream, response_format, max_tokens, stop)\n\u001b[0;32m    112\u001b[0m response \u001b[38;5;241m=\u001b[39m iter_append_model_and_provider(response)\n\u001b[1;32m--> 113\u001b[0m \u001b[38;5;28;01mreturn\u001b[39;00m response \u001b[38;5;28;01mif\u001b[39;00m stream \u001b[38;5;28;01melse\u001b[39;00m \u001b[38;5;28;43mnext\u001b[39;49m\u001b[43m(\u001b[49m\u001b[43mresponse\u001b[49m\u001b[43m)\u001b[49m\n",
      "File \u001b[1;32mc:\\Projects\\Thesis\\.venv\\Lib\\site-packages\\g4f\\client\\client.py:53\u001b[0m, in \u001b[0;36miter_append_model_and_provider\u001b[1;34m(response)\u001b[0m\n\u001b[0;32m     51\u001b[0m \u001b[38;5;28;01mdef\u001b[39;00m \u001b[38;5;21miter_append_model_and_provider\u001b[39m(response: IterResponse) \u001b[38;5;241m-\u001b[39m\u001b[38;5;241m>\u001b[39m IterResponse:\n\u001b[0;32m     52\u001b[0m     last_provider \u001b[38;5;241m=\u001b[39m \u001b[38;5;28;01mNone\u001b[39;00m\n\u001b[1;32m---> 53\u001b[0m \u001b[43m    \u001b[49m\u001b[38;5;28;43;01mfor\u001b[39;49;00m\u001b[43m \u001b[49m\u001b[43mchunk\u001b[49m\u001b[43m \u001b[49m\u001b[38;5;129;43;01min\u001b[39;49;00m\u001b[43m \u001b[49m\u001b[43mresponse\u001b[49m\u001b[43m:\u001b[49m\n\u001b[0;32m     54\u001b[0m \u001b[43m        \u001b[49m\u001b[43mlast_provider\u001b[49m\u001b[43m \u001b[49m\u001b[38;5;241;43m=\u001b[39;49m\u001b[43m \u001b[49m\u001b[43mget_last_provider\u001b[49m\u001b[43m(\u001b[49m\u001b[38;5;28;43;01mTrue\u001b[39;49;00m\u001b[43m)\u001b[49m\u001b[43m \u001b[49m\u001b[38;5;28;43;01mif\u001b[39;49;00m\u001b[43m \u001b[49m\u001b[43mlast_provider\u001b[49m\u001b[43m \u001b[49m\u001b[38;5;129;43;01mis\u001b[39;49;00m\u001b[43m \u001b[49m\u001b[38;5;28;43;01mNone\u001b[39;49;00m\u001b[43m \u001b[49m\u001b[38;5;28;43;01melse\u001b[39;49;00m\u001b[43m \u001b[49m\u001b[43mlast_provider\u001b[49m\n\u001b[0;32m     55\u001b[0m \u001b[43m        \u001b[49m\u001b[43mchunk\u001b[49m\u001b[38;5;241;43m.\u001b[39;49m\u001b[43mmodel\u001b[49m\u001b[43m \u001b[49m\u001b[38;5;241;43m=\u001b[39;49m\u001b[43m \u001b[49m\u001b[43mlast_provider\u001b[49m\u001b[38;5;241;43m.\u001b[39;49m\u001b[43mget\u001b[49m\u001b[43m(\u001b[49m\u001b[38;5;124;43m\"\u001b[39;49m\u001b[38;5;124;43mmodel\u001b[39;49m\u001b[38;5;124;43m\"\u001b[39;49m\u001b[43m)\u001b[49m\n",
      "File \u001b[1;32mc:\\Projects\\Thesis\\.venv\\Lib\\site-packages\\g4f\\client\\client.py:28\u001b[0m, in \u001b[0;36miter_response\u001b[1;34m(response, stream, response_format, max_tokens, stop)\u001b[0m\n\u001b[0;32m     26\u001b[0m finish_reason \u001b[38;5;241m=\u001b[39m \u001b[38;5;28;01mNone\u001b[39;00m\n\u001b[0;32m     27\u001b[0m completion_id \u001b[38;5;241m=\u001b[39m \u001b[38;5;124m'\u001b[39m\u001b[38;5;124m'\u001b[39m\u001b[38;5;241m.\u001b[39mjoin(random\u001b[38;5;241m.\u001b[39mchoices(string\u001b[38;5;241m.\u001b[39mascii_letters \u001b[38;5;241m+\u001b[39m string\u001b[38;5;241m.\u001b[39mdigits, k\u001b[38;5;241m=\u001b[39m\u001b[38;5;241m28\u001b[39m))\n\u001b[1;32m---> 28\u001b[0m \u001b[43m\u001b[49m\u001b[38;5;28;43;01mfor\u001b[39;49;00m\u001b[43m \u001b[49m\u001b[43midx\u001b[49m\u001b[43m,\u001b[49m\u001b[43m \u001b[49m\u001b[43mchunk\u001b[49m\u001b[43m \u001b[49m\u001b[38;5;129;43;01min\u001b[39;49;00m\u001b[43m \u001b[49m\u001b[38;5;28;43menumerate\u001b[39;49m\u001b[43m(\u001b[49m\u001b[43mresponse\u001b[49m\u001b[43m)\u001b[49m\u001b[43m:\u001b[49m\n\u001b[0;32m     29\u001b[0m \u001b[43m    \u001b[49m\u001b[38;5;28;43;01mif\u001b[39;49;00m\u001b[43m \u001b[49m\u001b[38;5;28;43misinstance\u001b[39;49m\u001b[43m(\u001b[49m\u001b[43mchunk\u001b[49m\u001b[43m,\u001b[49m\u001b[43m \u001b[49m\u001b[43mFinishReason\u001b[49m\u001b[43m)\u001b[49m\u001b[43m:\u001b[49m\n\u001b[0;32m     30\u001b[0m \u001b[43m        \u001b[49m\u001b[43mfinish_reason\u001b[49m\u001b[43m \u001b[49m\u001b[38;5;241;43m=\u001b[39;49m\u001b[43m \u001b[49m\u001b[43mchunk\u001b[49m\u001b[38;5;241;43m.\u001b[39;49m\u001b[43mreason\u001b[49m\n",
      "File \u001b[1;32mc:\\Projects\\Thesis\\.venv\\Lib\\site-packages\\g4f\\providers\\base_provider.py:211\u001b[0m, in \u001b[0;36mAsyncGeneratorProvider.create_completion\u001b[1;34m(cls, model, messages, stream, **kwargs)\u001b[0m\n\u001b[0;32m    209\u001b[0m \u001b[38;5;28;01mtry\u001b[39;00m:\n\u001b[0;32m    210\u001b[0m     \u001b[38;5;28;01mwhile\u001b[39;00m \u001b[38;5;28;01mTrue\u001b[39;00m:\n\u001b[1;32m--> 211\u001b[0m         \u001b[38;5;28;01myield\u001b[39;00m \u001b[43mloop\u001b[49m\u001b[38;5;241;43m.\u001b[39;49m\u001b[43mrun_until_complete\u001b[49m\u001b[43m(\u001b[49m\u001b[43mawait_callback\u001b[49m\u001b[43m(\u001b[49m\u001b[43mgen\u001b[49m\u001b[38;5;241;43m.\u001b[39;49m\u001b[38;5;21;43m__anext__\u001b[39;49m\u001b[43m)\u001b[49m\u001b[43m)\u001b[49m\n\u001b[0;32m    212\u001b[0m \u001b[38;5;28;01mexcept\u001b[39;00m \u001b[38;5;167;01mStopAsyncIteration\u001b[39;00m:\n\u001b[0;32m    213\u001b[0m     \u001b[38;5;241m.\u001b[39m\u001b[38;5;241m.\u001b[39m\u001b[38;5;241m.\u001b[39m\n",
      "File \u001b[1;32mc:\\Projects\\Thesis\\.venv\\Lib\\site-packages\\nest_asyncio.py:98\u001b[0m, in \u001b[0;36m_patch_loop.<locals>.run_until_complete\u001b[1;34m(self, future)\u001b[0m\n\u001b[0;32m     95\u001b[0m \u001b[38;5;28;01mif\u001b[39;00m \u001b[38;5;129;01mnot\u001b[39;00m f\u001b[38;5;241m.\u001b[39mdone():\n\u001b[0;32m     96\u001b[0m     \u001b[38;5;28;01mraise\u001b[39;00m \u001b[38;5;167;01mRuntimeError\u001b[39;00m(\n\u001b[0;32m     97\u001b[0m         \u001b[38;5;124m'\u001b[39m\u001b[38;5;124mEvent loop stopped before Future completed.\u001b[39m\u001b[38;5;124m'\u001b[39m)\n\u001b[1;32m---> 98\u001b[0m \u001b[38;5;28;01mreturn\u001b[39;00m \u001b[43mf\u001b[49m\u001b[38;5;241;43m.\u001b[39;49m\u001b[43mresult\u001b[49m\u001b[43m(\u001b[49m\u001b[43m)\u001b[49m\n",
      "File \u001b[1;32m~\\AppData\\Local\\Programs\\Python\\Python312\\Lib\\asyncio\\futures.py:203\u001b[0m, in \u001b[0;36mFuture.result\u001b[1;34m(self)\u001b[0m\n\u001b[0;32m    201\u001b[0m \u001b[38;5;28mself\u001b[39m\u001b[38;5;241m.\u001b[39m__log_traceback \u001b[38;5;241m=\u001b[39m \u001b[38;5;28;01mFalse\u001b[39;00m\n\u001b[0;32m    202\u001b[0m \u001b[38;5;28;01mif\u001b[39;00m \u001b[38;5;28mself\u001b[39m\u001b[38;5;241m.\u001b[39m_exception \u001b[38;5;129;01mis\u001b[39;00m \u001b[38;5;129;01mnot\u001b[39;00m \u001b[38;5;28;01mNone\u001b[39;00m:\n\u001b[1;32m--> 203\u001b[0m     \u001b[38;5;28;01mraise\u001b[39;00m \u001b[38;5;28mself\u001b[39m\u001b[38;5;241m.\u001b[39m_exception\u001b[38;5;241m.\u001b[39mwith_traceback(\u001b[38;5;28mself\u001b[39m\u001b[38;5;241m.\u001b[39m_exception_tb)\n\u001b[0;32m    204\u001b[0m \u001b[38;5;28;01mreturn\u001b[39;00m \u001b[38;5;28mself\u001b[39m\u001b[38;5;241m.\u001b[39m_result\n",
      "File \u001b[1;32m~\\AppData\\Local\\Programs\\Python\\Python312\\Lib\\asyncio\\tasks.py:314\u001b[0m, in \u001b[0;36mTask.__step_run_and_handle_result\u001b[1;34m(***failed resolving arguments***)\u001b[0m\n\u001b[0;32m    310\u001b[0m \u001b[38;5;28;01mtry\u001b[39;00m:\n\u001b[0;32m    311\u001b[0m     \u001b[38;5;28;01mif\u001b[39;00m exc \u001b[38;5;129;01mis\u001b[39;00m \u001b[38;5;28;01mNone\u001b[39;00m:\n\u001b[0;32m    312\u001b[0m         \u001b[38;5;66;03m# We use the `send` method directly, because coroutines\u001b[39;00m\n\u001b[0;32m    313\u001b[0m         \u001b[38;5;66;03m# don't have `__iter__` and `__next__` methods.\u001b[39;00m\n\u001b[1;32m--> 314\u001b[0m         result \u001b[38;5;241m=\u001b[39m \u001b[43mcoro\u001b[49m\u001b[38;5;241;43m.\u001b[39;49m\u001b[43msend\u001b[49m\u001b[43m(\u001b[49m\u001b[38;5;28;43;01mNone\u001b[39;49;00m\u001b[43m)\u001b[49m\n\u001b[0;32m    315\u001b[0m     \u001b[38;5;28;01melse\u001b[39;00m:\n\u001b[0;32m    316\u001b[0m         result \u001b[38;5;241m=\u001b[39m coro\u001b[38;5;241m.\u001b[39mthrow(exc)\n",
      "File \u001b[1;32mc:\\Projects\\Thesis\\.venv\\Lib\\site-packages\\g4f\\providers\\base_provider.py:40\u001b[0m, in \u001b[0;36mawait_callback\u001b[1;34m(callback)\u001b[0m\n\u001b[0;32m     39\u001b[0m \u001b[38;5;28;01masync\u001b[39;00m \u001b[38;5;28;01mdef\u001b[39;00m \u001b[38;5;21mawait_callback\u001b[39m(callback: Callable):\n\u001b[1;32m---> 40\u001b[0m     \u001b[38;5;28;01mreturn\u001b[39;00m \u001b[38;5;28;01mawait\u001b[39;00m callback()\n",
      "File \u001b[1;32mc:\\Projects\\Thesis\\.venv\\Lib\\site-packages\\g4f\\Provider\\needs_auth\\Gemini.py:105\u001b[0m, in \u001b[0;36mGemini.create_async_generator\u001b[1;34m(cls, model, messages, proxy, cookies, connector, image, image_name, **kwargs)\u001b[0m\n\u001b[0;32m    103\u001b[0m     snlm0e \u001b[38;5;241m=\u001b[39m \u001b[38;5;28;01mawait\u001b[39;00m \u001b[38;5;28mcls\u001b[39m\u001b[38;5;241m.\u001b[39mfetch_snlm0e(session, cookies)\n\u001b[0;32m    104\u001b[0m \u001b[38;5;28;01mif\u001b[39;00m \u001b[38;5;129;01mnot\u001b[39;00m snlm0e:\n\u001b[1;32m--> 105\u001b[0m     \u001b[38;5;28;01mraise\u001b[39;00m \u001b[38;5;167;01mRuntimeError\u001b[39;00m(\u001b[38;5;124m\"\u001b[39m\u001b[38;5;124mInvalid auth. SNlM0e not found\u001b[39m\u001b[38;5;124m\"\u001b[39m)\n\u001b[0;32m    107\u001b[0m image_url \u001b[38;5;241m=\u001b[39m \u001b[38;5;28;01mawait\u001b[39;00m \u001b[38;5;28mcls\u001b[39m\u001b[38;5;241m.\u001b[39mupload_image(base_connector, to_bytes(image), image_name) \u001b[38;5;28;01mif\u001b[39;00m image \u001b[38;5;28;01melse\u001b[39;00m \u001b[38;5;28;01mNone\u001b[39;00m\n\u001b[0;32m    109\u001b[0m \u001b[38;5;28;01masync\u001b[39;00m \u001b[38;5;28;01mwith\u001b[39;00m ClientSession(\n\u001b[0;32m    110\u001b[0m     cookies\u001b[38;5;241m=\u001b[39mcookies,\n\u001b[0;32m    111\u001b[0m     headers\u001b[38;5;241m=\u001b[39mREQUEST_HEADERS,\n\u001b[0;32m    112\u001b[0m     connector\u001b[38;5;241m=\u001b[39mbase_connector,\n\u001b[0;32m    113\u001b[0m ) \u001b[38;5;28;01mas\u001b[39;00m client:\n",
      "\u001b[1;31mRuntimeError\u001b[0m: Invalid auth. SNlM0e not found"
     ]
    }
   ],
   "source": [
    "for author in authors:\n",
    "    system_spec = f\"Come up with the answer in {author}'s writing style. Don't use direct references and citations of {author}. Answer in plain text format.\"\n",
    "        \n",
    "    for model in models:\n",
    "        \n",
    "        for prompt in prompts:\n",
    "            print(f\"Generating response for {author}'s response using {model} model.\")\n",
    "            response = get_generated_response(system_spec, prompt, model)\n",
    "\n",
    "            data = {\n",
    "                \"requested_response_length\": response_length,\n",
    "                \"response_length\": len(response),\n",
    "                \"model\": model,\n",
    "                \"created_at\": datetime.now().isoformat(),\n",
    "                \"author\": author, \n",
    "                \"system_spec\": system_spec,\n",
    "                'prompt': prompt,\n",
    "                'response':  response\n",
    "            }\n",
    "\n",
    "            save_data(data)"
   ]
  }
 ],
 "metadata": {
  "kernelspec": {
   "display_name": ".venv",
   "language": "python",
   "name": "python3"
  },
  "language_info": {
   "codemirror_mode": {
    "name": "ipython",
    "version": 3
   },
   "file_extension": ".py",
   "mimetype": "text/x-python",
   "name": "python",
   "nbconvert_exporter": "python",
   "pygments_lexer": "ipython3",
   "version": "3.12.1"
  }
 },
 "nbformat": 4,
 "nbformat_minor": 2
}
