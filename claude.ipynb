{
 "cells": [
  {
   "cell_type": "code",
   "execution_count": 90,
   "metadata": {},
   "outputs": [],
   "source": [
    "import anthropic\n",
    "import json\n",
    "import os\n",
    "from datetime import datetime"
   ]
  },
  {
   "cell_type": "code",
   "execution_count": 91,
   "metadata": {},
   "outputs": [],
   "source": [
    "res_dir = 'res/'\n",
    "claude_dir = f'{res_dir}claude3/'\n",
    "authors_list_filepath = f'{res_dir}gutenberg_author_list'\n",
    "prompts_filepath = f'{res_dir}prompts'\n",
    "model_config = {\n",
    "    \"model\": \"claude-3-opus-20240229\",\n",
    "    \"max_tokens\": 100\n",
    "}"
   ]
  },
  {
   "cell_type": "code",
   "execution_count": 92,
   "metadata": {},
   "outputs": [],
   "source": [
    "def request_model(system_spec, prompt):\n",
    "    client = anthropic.Anthropic()\n",
    "    message = client.messages.create(\n",
    "        model=model_config['model'],\n",
    "        system=system_spec,\n",
    "        max_tokens=model_config['max_tokens'],\n",
    "        messages=[\n",
    "            {\"role\": \"user\", \"content\": prompt}\n",
    "        ]\n",
    "    )\n",
    "    return message.content[0].text"
   ]
  },
  {
   "cell_type": "code",
   "execution_count": 93,
   "metadata": {},
   "outputs": [],
   "source": [
    "def save_data(data):\n",
    "    filename = f\"{claude_dir}/{data['author']}/request{data['id']}.json\"\n",
    "    os.makedirs(os.path.dirname(filename), exist_ok=True)\n",
    "    with open(filename, 'w') as f:\n",
    "        f.write(json.dumps(data))"
   ]
  },
  {
   "cell_type": "code",
   "execution_count": 94,
   "metadata": {},
   "outputs": [
    {
     "data": {
      "text/plain": [
       "['Abraham Lincoln',\n",
       " 'Agatha Christie',\n",
       " 'Albert Einstein',\n",
       " 'Aldous Huxley',\n",
       " 'Alexander Pope']"
      ]
     },
     "execution_count": 94,
     "metadata": {},
     "output_type": "execute_result"
    }
   ],
   "source": [
    "authors = open(authors_list_filepath, 'r', encoding='utf-8').read().split('\\n')\n",
    "authors[:5]"
   ]
  },
  {
   "cell_type": "code",
   "execution_count": 95,
   "metadata": {},
   "outputs": [
    {
     "data": {
      "text/plain": [
       "['What is the typical weather during March in Southern Europe?',\n",
       " 'Tell me how would you explain the look of the sun to the blind person.',\n",
       " 'What is the meaning the life for you?',\n",
       " 'What is your favourite color and what it reminds you?',\n",
       " 'Present me the advantage of salt over pepper.']"
      ]
     },
     "execution_count": 95,
     "metadata": {},
     "output_type": "execute_result"
    }
   ],
   "source": [
    "prompts = open(prompts_filepath, 'r', encoding='utf-8').read().split('\\n')\n",
    "prompts[:5]"
   ]
  },
  {
   "cell_type": "code",
   "execution_count": 96,
   "metadata": {},
   "outputs": [],
   "source": [
    "for author in authors[:2]: # only 2 authors for testing purposes\n",
    "    system_spec = f\"Answer only in the style of {author}'s books. Length of {model_config['max_tokens']} tokens. If needed make up the facts or the story.\"\n",
    "    id = 0\n",
    "    \n",
    "    for prompt in prompts[:2]: # only 2 prompts for testing purposes\n",
    "        response = request_model(system_spec, prompt)\n",
    "\n",
    "        data = {\n",
    "            \"id\": id,\n",
    "            **model_config,\n",
    "            \"created_at\": datetime.now().isoformat(),\n",
    "            \"author\": author, \n",
    "            \"system_spec\": system_spec,\n",
    "            'prompt': prompt,\n",
    "            'response':  response\n",
    "        }\n",
    "\n",
    "        save_data(data)\n",
    "        id += 1"
   ]
  },
  {
   "cell_type": "markdown",
   "metadata": {},
   "source": [
    "### Notes on prompting\n",
    "\n",
    "- Shorter answers (5000k tokens?) allows model to keep the focus on the prompt's task.\n",
    "- Details like '\\n' signs or unfinished last sentence shouldn't affect our purpose and can be ignored.\n",
    "- Prompt about things that author could know about back in the days e.g. Abraham Lincoln do not know The Beattles.\n",
    "- Full sentenced system prompts work better than simple commands."
   ]
  },
  {
   "cell_type": "markdown",
   "metadata": {},
   "source": [
    "### TBD\n",
    "\n",
    "- More authors in the analysis means less generated text in the style this author. Less authors allows us to prepare bigger dataset for each processed author."
   ]
  }
 ],
 "metadata": {
  "kernelspec": {
   "display_name": "Python 3",
   "language": "python",
   "name": "python3"
  },
  "language_info": {
   "codemirror_mode": {
    "name": "ipython",
    "version": 3
   },
   "file_extension": ".py",
   "mimetype": "text/x-python",
   "name": "python",
   "nbconvert_exporter": "python",
   "pygments_lexer": "ipython3",
   "version": "3.12.1"
  }
 },
 "nbformat": 4,
 "nbformat_minor": 2
}
